{
 "cells": [
  {
   "cell_type": "code",
   "execution_count": 1,
   "metadata": {},
   "outputs": [],
   "source": [
    "#ESS survey"
   ]
  },
  {
   "cell_type": "code",
   "execution_count": 2,
   "metadata": {},
   "outputs": [],
   "source": [
    "import pandas as pd\n",
    "import numpy as np\n",
    "import matplotlib\n",
    "import matplotlib.pyplot as plt\n",
    "%matplotlib inline"
   ]
  },
  {
   "cell_type": "code",
   "execution_count": 3,
   "metadata": {},
   "outputs": [],
   "source": [
    "media = pd.read_csv(\"data/ESS1-7e01.csv\")"
   ]
  },
  {
   "cell_type": "code",
   "execution_count": 4,
   "metadata": {},
   "outputs": [
    {
     "data": {
      "text/html": [
       "<div>\n",
       "<style scoped>\n",
       "    .dataframe tbody tr th:only-of-type {\n",
       "        vertical-align: middle;\n",
       "    }\n",
       "\n",
       "    .dataframe tbody tr th {\n",
       "        vertical-align: top;\n",
       "    }\n",
       "\n",
       "    .dataframe thead th {\n",
       "        text-align: right;\n",
       "    }\n",
       "</style>\n",
       "<table border=\"1\" class=\"dataframe\">\n",
       "  <thead>\n",
       "    <tr style=\"text-align: right;\">\n",
       "      <th></th>\n",
       "      <th>cntry</th>\n",
       "      <th>cname</th>\n",
       "      <th>cedition</th>\n",
       "      <th>cproddat</th>\n",
       "      <th>cseqno</th>\n",
       "      <th>name</th>\n",
       "      <th>essround</th>\n",
       "      <th>edition</th>\n",
       "      <th>idno</th>\n",
       "      <th>dweight</th>\n",
       "      <th>...</th>\n",
       "      <th>tvtot</th>\n",
       "      <th>tvpol</th>\n",
       "      <th>rdtot</th>\n",
       "      <th>rdpol</th>\n",
       "      <th>nwsptot</th>\n",
       "      <th>nwsppol</th>\n",
       "      <th>netuse</th>\n",
       "      <th>ppltrst</th>\n",
       "      <th>pplfair</th>\n",
       "      <th>pplhlp</th>\n",
       "    </tr>\n",
       "  </thead>\n",
       "  <tbody>\n",
       "    <tr>\n",
       "      <th>0</th>\n",
       "      <td>DE</td>\n",
       "      <td>ESS1-7e01</td>\n",
       "      <td>1.0</td>\n",
       "      <td>08.12.2016</td>\n",
       "      <td>59306</td>\n",
       "      <td>ESS1e06_5</td>\n",
       "      <td>1</td>\n",
       "      <td>6.5</td>\n",
       "      <td>101114</td>\n",
       "      <td>1.2572</td>\n",
       "      <td>...</td>\n",
       "      <td>7</td>\n",
       "      <td>0</td>\n",
       "      <td>0.0</td>\n",
       "      <td>66.0</td>\n",
       "      <td>0.0</td>\n",
       "      <td>66.0</td>\n",
       "      <td>NaN</td>\n",
       "      <td>0</td>\n",
       "      <td>5</td>\n",
       "      <td>4</td>\n",
       "    </tr>\n",
       "    <tr>\n",
       "      <th>1</th>\n",
       "      <td>DE</td>\n",
       "      <td>ESS1-7e01</td>\n",
       "      <td>1.0</td>\n",
       "      <td>08.12.2016</td>\n",
       "      <td>59307</td>\n",
       "      <td>ESS1e06_5</td>\n",
       "      <td>1</td>\n",
       "      <td>6.5</td>\n",
       "      <td>101120</td>\n",
       "      <td>1.2572</td>\n",
       "      <td>...</td>\n",
       "      <td>5</td>\n",
       "      <td>2</td>\n",
       "      <td>6.0</td>\n",
       "      <td>0.0</td>\n",
       "      <td>2.0</td>\n",
       "      <td>2.0</td>\n",
       "      <td>NaN</td>\n",
       "      <td>6</td>\n",
       "      <td>6</td>\n",
       "      <td>4</td>\n",
       "    </tr>\n",
       "    <tr>\n",
       "      <th>2</th>\n",
       "      <td>DE</td>\n",
       "      <td>ESS1-7e01</td>\n",
       "      <td>1.0</td>\n",
       "      <td>08.12.2016</td>\n",
       "      <td>59308</td>\n",
       "      <td>ESS1e06_5</td>\n",
       "      <td>1</td>\n",
       "      <td>6.5</td>\n",
       "      <td>101126</td>\n",
       "      <td>1.2572</td>\n",
       "      <td>...</td>\n",
       "      <td>5</td>\n",
       "      <td>2</td>\n",
       "      <td>7.0</td>\n",
       "      <td>2.0</td>\n",
       "      <td>1.0</td>\n",
       "      <td>1.0</td>\n",
       "      <td>NaN</td>\n",
       "      <td>0</td>\n",
       "      <td>0</td>\n",
       "      <td>0</td>\n",
       "    </tr>\n",
       "    <tr>\n",
       "      <th>3</th>\n",
       "      <td>DE</td>\n",
       "      <td>ESS1-7e01</td>\n",
       "      <td>1.0</td>\n",
       "      <td>08.12.2016</td>\n",
       "      <td>59309</td>\n",
       "      <td>ESS1e06_5</td>\n",
       "      <td>1</td>\n",
       "      <td>6.5</td>\n",
       "      <td>101304</td>\n",
       "      <td>1.2572</td>\n",
       "      <td>...</td>\n",
       "      <td>4</td>\n",
       "      <td>2</td>\n",
       "      <td>6.0</td>\n",
       "      <td>2.0</td>\n",
       "      <td>2.0</td>\n",
       "      <td>1.0</td>\n",
       "      <td>NaN</td>\n",
       "      <td>2</td>\n",
       "      <td>3</td>\n",
       "      <td>2</td>\n",
       "    </tr>\n",
       "    <tr>\n",
       "      <th>4</th>\n",
       "      <td>DE</td>\n",
       "      <td>ESS1-7e01</td>\n",
       "      <td>1.0</td>\n",
       "      <td>08.12.2016</td>\n",
       "      <td>59310</td>\n",
       "      <td>ESS1e06_5</td>\n",
       "      <td>1</td>\n",
       "      <td>6.5</td>\n",
       "      <td>101322</td>\n",
       "      <td>1.2572</td>\n",
       "      <td>...</td>\n",
       "      <td>3</td>\n",
       "      <td>0</td>\n",
       "      <td>0.0</td>\n",
       "      <td>66.0</td>\n",
       "      <td>1.0</td>\n",
       "      <td>1.0</td>\n",
       "      <td>NaN</td>\n",
       "      <td>0</td>\n",
       "      <td>7</td>\n",
       "      <td>5</td>\n",
       "    </tr>\n",
       "  </tbody>\n",
       "</table>\n",
       "<p>5 rows × 22 columns</p>\n",
       "</div>"
      ],
      "text/plain": [
       "  cntry      cname  cedition    cproddat  cseqno       name  essround  \\\n",
       "0    DE  ESS1-7e01       1.0  08.12.2016   59306  ESS1e06_5         1   \n",
       "1    DE  ESS1-7e01       1.0  08.12.2016   59307  ESS1e06_5         1   \n",
       "2    DE  ESS1-7e01       1.0  08.12.2016   59308  ESS1e06_5         1   \n",
       "3    DE  ESS1-7e01       1.0  08.12.2016   59309  ESS1e06_5         1   \n",
       "4    DE  ESS1-7e01       1.0  08.12.2016   59310  ESS1e06_5         1   \n",
       "\n",
       "   edition    idno  dweight   ...    tvtot  tvpol  rdtot  rdpol  nwsptot  \\\n",
       "0      6.5  101114   1.2572   ...        7      0    0.0   66.0      0.0   \n",
       "1      6.5  101120   1.2572   ...        5      2    6.0    0.0      2.0   \n",
       "2      6.5  101126   1.2572   ...        5      2    7.0    2.0      1.0   \n",
       "3      6.5  101304   1.2572   ...        4      2    6.0    2.0      2.0   \n",
       "4      6.5  101322   1.2572   ...        3      0    0.0   66.0      1.0   \n",
       "\n",
       "   nwsppol  netuse  ppltrst  pplfair  pplhlp  \n",
       "0     66.0     NaN        0        5       4  \n",
       "1      2.0     NaN        6        6       4  \n",
       "2      1.0     NaN        0        0       0  \n",
       "3      1.0     NaN        2        3       2  \n",
       "4      1.0     NaN        0        7       5  \n",
       "\n",
       "[5 rows x 22 columns]"
      ]
     },
     "execution_count": 4,
     "metadata": {},
     "output_type": "execute_result"
    }
   ],
   "source": [
    "media.head()"
   ]
  },
  {
   "cell_type": "code",
   "execution_count": 5,
   "metadata": {},
   "outputs": [
    {
     "data": {
      "text/html": [
       "<div>\n",
       "<style scoped>\n",
       "    .dataframe tbody tr th:only-of-type {\n",
       "        vertical-align: middle;\n",
       "    }\n",
       "\n",
       "    .dataframe tbody tr th {\n",
       "        vertical-align: top;\n",
       "    }\n",
       "\n",
       "    .dataframe thead th {\n",
       "        text-align: right;\n",
       "    }\n",
       "</style>\n",
       "<table border=\"1\" class=\"dataframe\">\n",
       "  <thead>\n",
       "    <tr style=\"text-align: right;\">\n",
       "      <th></th>\n",
       "      <th>cntry</th>\n",
       "      <th>cname</th>\n",
       "      <th>cedition</th>\n",
       "      <th>cproddat</th>\n",
       "      <th>cseqno</th>\n",
       "      <th>name</th>\n",
       "      <th>essround</th>\n",
       "      <th>edition</th>\n",
       "      <th>idno</th>\n",
       "      <th>dweight</th>\n",
       "      <th>...</th>\n",
       "      <th>tvtot</th>\n",
       "      <th>tvpol</th>\n",
       "      <th>rdtot</th>\n",
       "      <th>rdpol</th>\n",
       "      <th>nwsptot</th>\n",
       "      <th>nwsppol</th>\n",
       "      <th>netuse</th>\n",
       "      <th>ppltrst</th>\n",
       "      <th>pplfair</th>\n",
       "      <th>pplhlp</th>\n",
       "    </tr>\n",
       "  </thead>\n",
       "  <tbody>\n",
       "    <tr>\n",
       "      <th>91483</th>\n",
       "      <td>IT</td>\n",
       "      <td>ESS1-7e01</td>\n",
       "      <td>1.0</td>\n",
       "      <td>08.12.2016</td>\n",
       "      <td>215764</td>\n",
       "      <td>ESS6e02_3</td>\n",
       "      <td>6</td>\n",
       "      <td>2.3</td>\n",
       "      <td>4228</td>\n",
       "      <td>1.0</td>\n",
       "      <td>...</td>\n",
       "      <td>3</td>\n",
       "      <td>2</td>\n",
       "      <td>NaN</td>\n",
       "      <td>NaN</td>\n",
       "      <td>NaN</td>\n",
       "      <td>NaN</td>\n",
       "      <td>NaN</td>\n",
       "      <td>5</td>\n",
       "      <td>2</td>\n",
       "      <td>0</td>\n",
       "    </tr>\n",
       "    <tr>\n",
       "      <th>91484</th>\n",
       "      <td>IT</td>\n",
       "      <td>ESS1-7e01</td>\n",
       "      <td>1.0</td>\n",
       "      <td>08.12.2016</td>\n",
       "      <td>215765</td>\n",
       "      <td>ESS6e02_3</td>\n",
       "      <td>6</td>\n",
       "      <td>2.3</td>\n",
       "      <td>4229</td>\n",
       "      <td>1.0</td>\n",
       "      <td>...</td>\n",
       "      <td>4</td>\n",
       "      <td>2</td>\n",
       "      <td>NaN</td>\n",
       "      <td>NaN</td>\n",
       "      <td>NaN</td>\n",
       "      <td>NaN</td>\n",
       "      <td>NaN</td>\n",
       "      <td>3</td>\n",
       "      <td>3</td>\n",
       "      <td>3</td>\n",
       "    </tr>\n",
       "    <tr>\n",
       "      <th>91485</th>\n",
       "      <td>IT</td>\n",
       "      <td>ESS1-7e01</td>\n",
       "      <td>1.0</td>\n",
       "      <td>08.12.2016</td>\n",
       "      <td>215766</td>\n",
       "      <td>ESS6e02_3</td>\n",
       "      <td>6</td>\n",
       "      <td>2.3</td>\n",
       "      <td>4232</td>\n",
       "      <td>1.0</td>\n",
       "      <td>...</td>\n",
       "      <td>4</td>\n",
       "      <td>3</td>\n",
       "      <td>NaN</td>\n",
       "      <td>NaN</td>\n",
       "      <td>NaN</td>\n",
       "      <td>NaN</td>\n",
       "      <td>NaN</td>\n",
       "      <td>5</td>\n",
       "      <td>5</td>\n",
       "      <td>2</td>\n",
       "    </tr>\n",
       "    <tr>\n",
       "      <th>91486</th>\n",
       "      <td>IT</td>\n",
       "      <td>ESS1-7e01</td>\n",
       "      <td>1.0</td>\n",
       "      <td>08.12.2016</td>\n",
       "      <td>215767</td>\n",
       "      <td>ESS6e02_3</td>\n",
       "      <td>6</td>\n",
       "      <td>2.3</td>\n",
       "      <td>4233</td>\n",
       "      <td>1.0</td>\n",
       "      <td>...</td>\n",
       "      <td>2</td>\n",
       "      <td>1</td>\n",
       "      <td>NaN</td>\n",
       "      <td>NaN</td>\n",
       "      <td>NaN</td>\n",
       "      <td>NaN</td>\n",
       "      <td>NaN</td>\n",
       "      <td>5</td>\n",
       "      <td>6</td>\n",
       "      <td>4</td>\n",
       "    </tr>\n",
       "    <tr>\n",
       "      <th>91487</th>\n",
       "      <td>IT</td>\n",
       "      <td>ESS1-7e01</td>\n",
       "      <td>1.0</td>\n",
       "      <td>08.12.2016</td>\n",
       "      <td>215768</td>\n",
       "      <td>ESS6e02_3</td>\n",
       "      <td>6</td>\n",
       "      <td>2.3</td>\n",
       "      <td>4235</td>\n",
       "      <td>1.0</td>\n",
       "      <td>...</td>\n",
       "      <td>5</td>\n",
       "      <td>2</td>\n",
       "      <td>NaN</td>\n",
       "      <td>NaN</td>\n",
       "      <td>NaN</td>\n",
       "      <td>NaN</td>\n",
       "      <td>NaN</td>\n",
       "      <td>4</td>\n",
       "      <td>4</td>\n",
       "      <td>8</td>\n",
       "    </tr>\n",
       "  </tbody>\n",
       "</table>\n",
       "<p>5 rows × 22 columns</p>\n",
       "</div>"
      ],
      "text/plain": [
       "      cntry      cname  cedition    cproddat  cseqno       name  essround  \\\n",
       "91483    IT  ESS1-7e01       1.0  08.12.2016  215764  ESS6e02_3         6   \n",
       "91484    IT  ESS1-7e01       1.0  08.12.2016  215765  ESS6e02_3         6   \n",
       "91485    IT  ESS1-7e01       1.0  08.12.2016  215766  ESS6e02_3         6   \n",
       "91486    IT  ESS1-7e01       1.0  08.12.2016  215767  ESS6e02_3         6   \n",
       "91487    IT  ESS1-7e01       1.0  08.12.2016  215768  ESS6e02_3         6   \n",
       "\n",
       "       edition  idno  dweight   ...    tvtot  tvpol  rdtot  rdpol  nwsptot  \\\n",
       "91483      2.3  4228      1.0   ...        3      2    NaN    NaN      NaN   \n",
       "91484      2.3  4229      1.0   ...        4      2    NaN    NaN      NaN   \n",
       "91485      2.3  4232      1.0   ...        4      3    NaN    NaN      NaN   \n",
       "91486      2.3  4233      1.0   ...        2      1    NaN    NaN      NaN   \n",
       "91487      2.3  4235      1.0   ...        5      2    NaN    NaN      NaN   \n",
       "\n",
       "       nwsppol  netuse  ppltrst  pplfair  pplhlp  \n",
       "91483      NaN     NaN        5        2       0  \n",
       "91484      NaN     NaN        3        3       3  \n",
       "91485      NaN     NaN        5        5       2  \n",
       "91486      NaN     NaN        5        6       4  \n",
       "91487      NaN     NaN        4        4       8  \n",
       "\n",
       "[5 rows x 22 columns]"
      ]
     },
     "execution_count": 5,
     "metadata": {},
     "output_type": "execute_result"
    }
   ],
   "source": [
    "media.tail()"
   ]
  },
  {
   "cell_type": "code",
   "execution_count": 6,
   "metadata": {},
   "outputs": [
    {
     "data": {
      "text/plain": [
       "(91488, 22)"
      ]
     },
     "execution_count": 6,
     "metadata": {},
     "output_type": "execute_result"
    }
   ],
   "source": [
    "media.shape"
   ]
  },
  {
   "cell_type": "code",
   "execution_count": 7,
   "metadata": {},
   "outputs": [
    {
     "name": "stderr",
     "output_type": "stream",
     "text": [
      "/Users/agold/anaconda/envs/jup37/lib/python3.7/site-packages/pandas/core/indexing.py:1472: FutureWarning: \n",
      "Passing list-likes to .loc or [] with any missing label will raise\n",
      "KeyError in the future, you can use .reindex() as an alternative.\n",
      "\n",
      "See the documentation here:\n",
      "https://pandas.pydata.org/pandas-docs/stable/indexing.html#deprecate-loc-reindex-listlike\n",
      "  return self._getitem_tuple(key)\n"
     ]
    },
    {
     "data": {
      "text/html": [
       "<div>\n",
       "<style scoped>\n",
       "    .dataframe tbody tr th:only-of-type {\n",
       "        vertical-align: middle;\n",
       "    }\n",
       "\n",
       "    .dataframe tbody tr th {\n",
       "        vertical-align: top;\n",
       "    }\n",
       "\n",
       "    .dataframe thead th {\n",
       "        text-align: right;\n",
       "    }\n",
       "</style>\n",
       "<table border=\"1\" class=\"dataframe\">\n",
       "  <thead>\n",
       "    <tr style=\"text-align: right;\">\n",
       "      <th></th>\n",
       "      <th>cntry</th>\n",
       "      <th>essround</th>\n",
       "      <th>tvtot</th>\n",
       "      <th>tvpol</th>\n",
       "      <th>rdtot</th>\n",
       "      <th>rdpol</th>\n",
       "      <th>nwsptot</th>\n",
       "      <th>nwsppol</th>\n",
       "      <th>netuse</th>\n",
       "      <th>ppltrust</th>\n",
       "      <th>pplfair</th>\n",
       "      <th>pplhlp</th>\n",
       "    </tr>\n",
       "  </thead>\n",
       "  <tbody>\n",
       "    <tr>\n",
       "      <th>10000</th>\n",
       "      <td>DE</td>\n",
       "      <td>4</td>\n",
       "      <td>3</td>\n",
       "      <td>1</td>\n",
       "      <td>2.0</td>\n",
       "      <td>1.0</td>\n",
       "      <td>1.0</td>\n",
       "      <td>1.0</td>\n",
       "      <td>5.0</td>\n",
       "      <td>NaN</td>\n",
       "      <td>4</td>\n",
       "      <td>7</td>\n",
       "    </tr>\n",
       "    <tr>\n",
       "      <th>10001</th>\n",
       "      <td>DE</td>\n",
       "      <td>4</td>\n",
       "      <td>2</td>\n",
       "      <td>1</td>\n",
       "      <td>2.0</td>\n",
       "      <td>1.0</td>\n",
       "      <td>0.0</td>\n",
       "      <td>66.0</td>\n",
       "      <td>4.0</td>\n",
       "      <td>NaN</td>\n",
       "      <td>7</td>\n",
       "      <td>7</td>\n",
       "    </tr>\n",
       "    <tr>\n",
       "      <th>10002</th>\n",
       "      <td>DE</td>\n",
       "      <td>4</td>\n",
       "      <td>6</td>\n",
       "      <td>1</td>\n",
       "      <td>0.0</td>\n",
       "      <td>66.0</td>\n",
       "      <td>1.0</td>\n",
       "      <td>1.0</td>\n",
       "      <td>0.0</td>\n",
       "      <td>NaN</td>\n",
       "      <td>4</td>\n",
       "      <td>4</td>\n",
       "    </tr>\n",
       "    <tr>\n",
       "      <th>10003</th>\n",
       "      <td>DE</td>\n",
       "      <td>4</td>\n",
       "      <td>4</td>\n",
       "      <td>2</td>\n",
       "      <td>7.0</td>\n",
       "      <td>1.0</td>\n",
       "      <td>1.0</td>\n",
       "      <td>1.0</td>\n",
       "      <td>6.0</td>\n",
       "      <td>NaN</td>\n",
       "      <td>7</td>\n",
       "      <td>7</td>\n",
       "    </tr>\n",
       "    <tr>\n",
       "      <th>10004</th>\n",
       "      <td>DE</td>\n",
       "      <td>4</td>\n",
       "      <td>6</td>\n",
       "      <td>4</td>\n",
       "      <td>7.0</td>\n",
       "      <td>7.0</td>\n",
       "      <td>1.0</td>\n",
       "      <td>1.0</td>\n",
       "      <td>1.0</td>\n",
       "      <td>NaN</td>\n",
       "      <td>3</td>\n",
       "      <td>1</td>\n",
       "    </tr>\n",
       "    <tr>\n",
       "      <th>10005</th>\n",
       "      <td>DE</td>\n",
       "      <td>4</td>\n",
       "      <td>3</td>\n",
       "      <td>1</td>\n",
       "      <td>6.0</td>\n",
       "      <td>1.0</td>\n",
       "      <td>1.0</td>\n",
       "      <td>1.0</td>\n",
       "      <td>7.0</td>\n",
       "      <td>NaN</td>\n",
       "      <td>4</td>\n",
       "      <td>4</td>\n",
       "    </tr>\n",
       "  </tbody>\n",
       "</table>\n",
       "</div>"
      ],
      "text/plain": [
       "      cntry  essround  tvtot  tvpol  rdtot  rdpol  nwsptot  nwsppol  netuse  \\\n",
       "10000    DE         4      3      1    2.0    1.0      1.0      1.0     5.0   \n",
       "10001    DE         4      2      1    2.0    1.0      0.0     66.0     4.0   \n",
       "10002    DE         4      6      1    0.0   66.0      1.0      1.0     0.0   \n",
       "10003    DE         4      4      2    7.0    1.0      1.0      1.0     6.0   \n",
       "10004    DE         4      6      4    7.0    7.0      1.0      1.0     1.0   \n",
       "10005    DE         4      3      1    6.0    1.0      1.0      1.0     7.0   \n",
       "\n",
       "       ppltrust  pplfair  pplhlp  \n",
       "10000       NaN        4       7  \n",
       "10001       NaN        7       7  \n",
       "10002       NaN        4       4  \n",
       "10003       NaN        7       7  \n",
       "10004       NaN        3       1  \n",
       "10005       NaN        4       4  "
      ]
     },
     "execution_count": 7,
     "metadata": {},
     "output_type": "execute_result"
    }
   ],
   "source": [
    "labels = [\"cntry\", \"essround\", \"tvtot\", \"tvpol\", \"rdtot\", \"rdpol\", \"nwsptot\", \"nwsppol\", \"netuse\", \"ppltrust\", \"pplfair\", \"pplhlp\"]\n",
    "media.loc[10000:10005, labels]"
   ]
  },
  {
   "cell_type": "code",
   "execution_count": 8,
   "metadata": {},
   "outputs": [
    {
     "name": "stderr",
     "output_type": "stream",
     "text": [
      "/Users/agold/anaconda/envs/jup37/lib/python3.7/site-packages/pandas/core/indexing.py:1472: FutureWarning: \n",
      "Passing list-likes to .loc or [] with any missing label will raise\n",
      "KeyError in the future, you can use .reindex() as an alternative.\n",
      "\n",
      "See the documentation here:\n",
      "https://pandas.pydata.org/pandas-docs/stable/indexing.html#deprecate-loc-reindex-listlike\n",
      "  return self._getitem_tuple(key)\n"
     ]
    },
    {
     "data": {
      "text/plain": [
       "(20490, 12)"
      ]
     },
     "execution_count": 8,
     "metadata": {},
     "output_type": "execute_result"
    }
   ],
   "source": [
    "media.loc[media[\"cntry\"]==\"DE\", labels].shape"
   ]
  },
  {
   "cell_type": "code",
   "execution_count": 9,
   "metadata": {},
   "outputs": [],
   "source": [
    "plt.style.use(\"seaborn\")"
   ]
  },
  {
   "cell_type": "code",
   "execution_count": 10,
   "metadata": {},
   "outputs": [],
   "source": [
    "tv = media.loc[:, \"tvtot\"]\n",
    "nwsp = media.loc[:, \"nwsptot\"]"
   ]
  },
  {
   "cell_type": "code",
   "execution_count": 11,
   "metadata": {},
   "outputs": [
    {
     "data": {
      "text/plain": [
       "<matplotlib.collections.PathCollection at 0x11baa6b70>"
      ]
     },
     "execution_count": 11,
     "metadata": {},
     "output_type": "execute_result"
    },
    {
     "data": {
      "image/png": "[encoded data removed]",
      "text/plain": [
       "<Figure size 576x396 with 1 Axes>"
      ]
     },
     "metadata": {},
     "output_type": "display_data"
    }
   ],
   "source": [
    "plt.scatter(tv, nwsp, alpha=0.1)"
   ]
  },
  {
   "cell_type": "code",
   "execution_count": 12,
   "metadata": {},
   "outputs": [],
   "source": [
    "### round 6 only\n",
    "media6 = media[media[\"essround\"]==6]"
   ]
  },
  {
   "cell_type": "code",
   "execution_count": 13,
   "metadata": {},
   "outputs": [
    {
     "data": {
      "text/plain": [
       "(13908, 22)"
      ]
     },
     "execution_count": 13,
     "metadata": {},
     "output_type": "execute_result"
    }
   ],
   "source": [
    "media6.shape"
   ]
  },
  {
   "cell_type": "code",
   "execution_count": 14,
   "metadata": {},
   "outputs": [],
   "source": [
    "tvtot6 = media6[\"tvtot\"]\n",
    "tvpol6 = media6[\"tvpol\"]"
   ]
  },
  {
   "cell_type": "code",
   "execution_count": 15,
   "metadata": {},
   "outputs": [
    {
     "data": {
      "text/plain": [
       "<matplotlib.collections.PathCollection at 0x11c5a7828>"
      ]
     },
     "execution_count": 15,
     "metadata": {},
     "output_type": "execute_result"
    },
    {
     "data": {
      "image/png": "[encoded data removed]",
      "text/plain": [
       "<Figure size 576x396 with 1 Axes>"
      ]
     },
     "metadata": {},
     "output_type": "display_data"
    }
   ],
   "source": [
    "plt.scatter(tvtot6, tvpol6, alpha=0.05)"
   ]
  },
  {
   "cell_type": "code",
   "execution_count": 16,
   "metadata": {},
   "outputs": [],
   "source": [
    "countries = media[\"cntry\"].unique()\n",
    "def color(cntry):\n",
    "    clrs = []\n",
    "    clist = countries.tolist()\n",
    "    return clist.index(cntry)"
   ]
  },
  {
   "cell_type": "code",
   "execution_count": 17,
   "metadata": {},
   "outputs": [],
   "source": [
    "colors = ['b', 'g', 'r', 'c', 'm', 'k', 'y']"
   ]
  },
  {
   "cell_type": "code",
   "execution_count": 18,
   "metadata": {},
   "outputs": [
    {
     "data": {
      "image/png": "[encoded data removed]",
      "text/plain": [
       "<Figure size 576x396 with 1 Axes>"
      ]
     },
     "metadata": {},
     "output_type": "display_data"
    }
   ],
   "source": [
    "groups = media.groupby(\"cntry\")\n",
    "fig, ax = plt.subplots()\n",
    "ax.set_xlim([0,8])\n",
    "ax.set_ylim([0, 8])\n",
    "for key, group in groups:\n",
    "    group.plot(ax=ax, kind='scatter', x='tvtot', y='tvpol', label=key,\n",
    "               color=colors, alpha=0.01)\n",
    "plt.show()\n",
    "    "
   ]
  },
  {
   "cell_type": "code",
   "execution_count": 19,
   "metadata": {},
   "outputs": [
    {
     "data": {
      "text/plain": [
       "85602"
      ]
     },
     "execution_count": 19,
     "metadata": {},
     "output_type": "execute_result"
    }
   ],
   "source": [
    "np.count_nonzero(media[\"nwsppol\"])"
   ]
  },
  {
   "cell_type": "code",
   "execution_count": 20,
   "metadata": {},
   "outputs": [
    {
     "data": {
      "text/plain": [
       "(6912,)"
      ]
     },
     "execution_count": 20,
     "metadata": {},
     "output_type": "execute_result"
    }
   ],
   "source": [
    "media[\"dweight\"].unique().shape"
   ]
  },
  {
   "cell_type": "code",
   "execution_count": 21,
   "metadata": {},
   "outputs": [
    {
     "name": "stdout",
     "output_type": "stream",
     "text": [
      "DE           tvtot     tvpol\n",
      "tvtot  1.000000 -0.225688\n",
      "tvpol -0.225688  1.000000\n",
      "DK           tvtot     tvpol\n",
      "tvtot  1.000000 -0.017458\n",
      "tvpol -0.017458  1.000000\n",
      "ES           tvtot     tvpol\n",
      "tvtot  1.000000 -0.119111\n",
      "tvpol -0.119111  1.000000\n",
      "FI           tvtot     tvpol\n",
      "tvtot  1.000000 -0.296472\n",
      "tvpol -0.296472  1.000000\n",
      "FR           tvtot     tvpol\n",
      "tvtot  1.000000 -0.331402\n",
      "tvpol -0.331402  1.000000\n",
      "GB           tvtot     tvpol\n",
      "tvtot  1.000000 -0.204667\n",
      "tvpol -0.204667  1.000000\n",
      "IT           tvtot     tvpol\n",
      "tvtot  1.000000  0.012062\n",
      "tvpol  0.012062  1.000000\n"
     ]
    }
   ],
   "source": [
    "for key, group in groups:\n",
    "    print(key, group[[\"tvtot\", \"tvpol\"]].corr())"
   ]
  },
  {
   "cell_type": "code",
   "execution_count": 22,
   "metadata": {},
   "outputs": [
    {
     "name": "stdout",
     "output_type": "stream",
     "text": [
      "DE             tvtot   nwsptot\n",
      "tvtot    1.000000  0.150771\n",
      "nwsptot  0.150771  1.000000\n",
      "DK             tvtot   nwsptot\n",
      "tvtot    1.000000  0.130277\n",
      "nwsptot  0.130277  1.000000\n",
      "ES             tvtot   nwsptot\n",
      "tvtot    1.000000  0.114542\n",
      "nwsptot  0.114542  1.000000\n",
      "FI             tvtot   nwsptot\n",
      "tvtot    1.000000  0.289738\n",
      "nwsptot  0.289738  1.000000\n",
      "FR             tvtot   nwsptot\n",
      "tvtot    1.000000  0.016434\n",
      "nwsptot  0.016434  1.000000\n",
      "GB             tvtot   nwsptot\n",
      "tvtot    1.000000  0.218035\n",
      "nwsptot  0.218035  1.000000\n",
      "IT             tvtot   nwsptot\n",
      "tvtot    1.000000 -0.001809\n",
      "nwsptot -0.001809  1.000000\n"
     ]
    }
   ],
   "source": [
    "for key, group in groups:\n",
    "    print(key, group[[\"tvtot\", \"nwsptot\"]].corr())"
   ]
  },
  {
   "cell_type": "code",
   "execution_count": 23,
   "metadata": {},
   "outputs": [
    {
     "name": "stdout",
     "output_type": "stream",
     "text": [
      "DE           nwsptot   nwsppol\n",
      "nwsptot  1.000000 -0.371139\n",
      "nwsppol -0.371139  1.000000\n",
      "DK           nwsptot   nwsppol\n",
      "nwsptot  1.000000 -0.256538\n",
      "nwsppol -0.256538  1.000000\n",
      "ES           nwsptot   nwsppol\n",
      "nwsptot  1.000000 -0.241481\n",
      "nwsppol -0.241481  1.000000\n",
      "FI           nwsptot   nwsppol\n",
      "nwsptot  1.000000 -0.305427\n",
      "nwsppol -0.305427  1.000000\n",
      "FR           nwsptot   nwsppol\n",
      "nwsptot  1.000000 -0.436553\n",
      "nwsppol -0.436553  1.000000\n",
      "GB           nwsptot   nwsppol\n",
      "nwsptot  1.000000 -0.361381\n",
      "nwsppol -0.361381  1.000000\n",
      "IT           nwsptot   nwsppol\n",
      "nwsptot  1.000000 -0.152328\n",
      "nwsppol -0.152328  1.000000\n"
     ]
    }
   ],
   "source": [
    "for key, group in groups:\n",
    "    print(key, group[[\"nwsptot\", \"nwsppol\"]].corr())"
   ]
  },
  {
   "cell_type": "code",
   "execution_count": 24,
   "metadata": {},
   "outputs": [
    {
     "data": {
      "text/plain": [
       "count    64840.000000\n",
       "mean         1.404858\n",
       "std          2.447509\n",
       "min          0.000000\n",
       "25%          0.000000\n",
       "50%          1.000000\n",
       "75%          2.000000\n",
       "max         99.000000\n",
       "Name: nwsptot, dtype: float64"
      ]
     },
     "execution_count": 24,
     "metadata": {},
     "output_type": "execute_result"
    }
   ],
   "source": [
    "media.nwsptot.describe()"
   ]
  },
  {
   "cell_type": "code",
   "execution_count": 25,
   "metadata": {},
   "outputs": [
    {
     "name": "stdout",
     "output_type": "stream",
     "text": [
      "DE 2.0     4930\n",
      "1.0     4884\n",
      "0.0     2856\n",
      "3.0     1145\n",
      "4.0      443\n",
      "5.0      118\n",
      "6.0       63\n",
      "7.0       44\n",
      "88.0       3\n",
      "77.0       1\n",
      "Name: nwsptot, dtype: int64\n",
      "DK 1.0     2682\n",
      "2.0     2203\n",
      "0.0     1802\n",
      "3.0      622\n",
      "4.0      208\n",
      "5.0      101\n",
      "6.0       36\n",
      "7.0       25\n",
      "88.0       4\n",
      "99.0       1\n",
      "Name: nwsptot, dtype: int64\n",
      "ES 0.0     4638\n",
      "1.0     2689\n",
      "2.0     1777\n",
      "3.0      393\n",
      "4.0      115\n",
      "5.0       51\n",
      "7.0       31\n",
      "6.0       19\n",
      "77.0      11\n",
      "88.0       5\n",
      "Name: nwsptot, dtype: int64\n",
      "FI 2.0     4019\n",
      "1.0     3568\n",
      "3.0      982\n",
      "0.0      766\n",
      "4.0      388\n",
      "5.0      177\n",
      "6.0       48\n",
      "7.0       42\n",
      "88.0       1\n",
      "Name: nwsptot, dtype: int64\n",
      "FR 0.0     3597\n",
      "1.0     2849\n",
      "2.0     1805\n",
      "3.0      535\n",
      "4.0      170\n",
      "5.0       68\n",
      "7.0       37\n",
      "6.0       32\n",
      "88.0       3\n",
      "Name: nwsptot, dtype: int64\n",
      "GB 0.0     3389\n",
      "2.0     2934\n",
      "1.0     2823\n",
      "3.0      932\n",
      "4.0      420\n",
      "7.0      253\n",
      "5.0      250\n",
      "6.0      110\n",
      "88.0       6\n",
      "Name: nwsptot, dtype: int64\n",
      "IT 1.0     955\n",
      "0.0     853\n",
      "2.0     640\n",
      "3.0     176\n",
      "4.0      56\n",
      "5.0      24\n",
      "6.0      16\n",
      "7.0      10\n",
      "88.0      6\n",
      "Name: nwsptot, dtype: int64\n"
     ]
    }
   ],
   "source": [
    "for key, group in groups:\n",
    "    print(key, group.nwsptot.value_counts())\n"
   ]
  },
  {
   "cell_type": "code",
   "execution_count": 27,
   "metadata": {},
   "outputs": [],
   "source": [
    "media_by_country = {key: group for key, group in groups}"
   ]
  },
  {
   "cell_type": "code",
   "execution_count": 28,
   "metadata": {},
   "outputs": [
    {
     "data": {
      "text/html": [
       "<div>\n",
       "<style scoped>\n",
       "    .dataframe tbody tr th:only-of-type {\n",
       "        vertical-align: middle;\n",
       "    }\n",
       "\n",
       "    .dataframe tbody tr th {\n",
       "        vertical-align: top;\n",
       "    }\n",
       "\n",
       "    .dataframe thead th {\n",
       "        text-align: right;\n",
       "    }\n",
       "</style>\n",
       "<table border=\"1\" class=\"dataframe\">\n",
       "  <thead>\n",
       "    <tr style=\"text-align: right;\">\n",
       "      <th></th>\n",
       "      <th>cntry</th>\n",
       "      <th>cname</th>\n",
       "      <th>cedition</th>\n",
       "      <th>cproddat</th>\n",
       "      <th>cseqno</th>\n",
       "      <th>name</th>\n",
       "      <th>essround</th>\n",
       "      <th>edition</th>\n",
       "      <th>idno</th>\n",
       "      <th>dweight</th>\n",
       "      <th>...</th>\n",
       "      <th>tvtot</th>\n",
       "      <th>tvpol</th>\n",
       "      <th>rdtot</th>\n",
       "      <th>rdpol</th>\n",
       "      <th>nwsptot</th>\n",
       "      <th>nwsppol</th>\n",
       "      <th>netuse</th>\n",
       "      <th>ppltrst</th>\n",
       "      <th>pplfair</th>\n",
       "      <th>pplhlp</th>\n",
       "    </tr>\n",
       "  </thead>\n",
       "  <tbody>\n",
       "    <tr>\n",
       "      <th>0</th>\n",
       "      <td>DE</td>\n",
       "      <td>ESS1-7e01</td>\n",
       "      <td>1.0</td>\n",
       "      <td>08.12.2016</td>\n",
       "      <td>59306</td>\n",
       "      <td>ESS1e06_5</td>\n",
       "      <td>1</td>\n",
       "      <td>6.5</td>\n",
       "      <td>101114</td>\n",
       "      <td>1.2572</td>\n",
       "      <td>...</td>\n",
       "      <td>7</td>\n",
       "      <td>0</td>\n",
       "      <td>0.0</td>\n",
       "      <td>66.0</td>\n",
       "      <td>0.0</td>\n",
       "      <td>66.0</td>\n",
       "      <td>NaN</td>\n",
       "      <td>0</td>\n",
       "      <td>5</td>\n",
       "      <td>4</td>\n",
       "    </tr>\n",
       "    <tr>\n",
       "      <th>1</th>\n",
       "      <td>DE</td>\n",
       "      <td>ESS1-7e01</td>\n",
       "      <td>1.0</td>\n",
       "      <td>08.12.2016</td>\n",
       "      <td>59307</td>\n",
       "      <td>ESS1e06_5</td>\n",
       "      <td>1</td>\n",
       "      <td>6.5</td>\n",
       "      <td>101120</td>\n",
       "      <td>1.2572</td>\n",
       "      <td>...</td>\n",
       "      <td>5</td>\n",
       "      <td>2</td>\n",
       "      <td>6.0</td>\n",
       "      <td>0.0</td>\n",
       "      <td>2.0</td>\n",
       "      <td>2.0</td>\n",
       "      <td>NaN</td>\n",
       "      <td>6</td>\n",
       "      <td>6</td>\n",
       "      <td>4</td>\n",
       "    </tr>\n",
       "    <tr>\n",
       "      <th>2</th>\n",
       "      <td>DE</td>\n",
       "      <td>ESS1-7e01</td>\n",
       "      <td>1.0</td>\n",
       "      <td>08.12.2016</td>\n",
       "      <td>59308</td>\n",
       "      <td>ESS1e06_5</td>\n",
       "      <td>1</td>\n",
       "      <td>6.5</td>\n",
       "      <td>101126</td>\n",
       "      <td>1.2572</td>\n",
       "      <td>...</td>\n",
       "      <td>5</td>\n",
       "      <td>2</td>\n",
       "      <td>7.0</td>\n",
       "      <td>2.0</td>\n",
       "      <td>1.0</td>\n",
       "      <td>1.0</td>\n",
       "      <td>NaN</td>\n",
       "      <td>0</td>\n",
       "      <td>0</td>\n",
       "      <td>0</td>\n",
       "    </tr>\n",
       "    <tr>\n",
       "      <th>3</th>\n",
       "      <td>DE</td>\n",
       "      <td>ESS1-7e01</td>\n",
       "      <td>1.0</td>\n",
       "      <td>08.12.2016</td>\n",
       "      <td>59309</td>\n",
       "      <td>ESS1e06_5</td>\n",
       "      <td>1</td>\n",
       "      <td>6.5</td>\n",
       "      <td>101304</td>\n",
       "      <td>1.2572</td>\n",
       "      <td>...</td>\n",
       "      <td>4</td>\n",
       "      <td>2</td>\n",
       "      <td>6.0</td>\n",
       "      <td>2.0</td>\n",
       "      <td>2.0</td>\n",
       "      <td>1.0</td>\n",
       "      <td>NaN</td>\n",
       "      <td>2</td>\n",
       "      <td>3</td>\n",
       "      <td>2</td>\n",
       "    </tr>\n",
       "    <tr>\n",
       "      <th>4</th>\n",
       "      <td>DE</td>\n",
       "      <td>ESS1-7e01</td>\n",
       "      <td>1.0</td>\n",
       "      <td>08.12.2016</td>\n",
       "      <td>59310</td>\n",
       "      <td>ESS1e06_5</td>\n",
       "      <td>1</td>\n",
       "      <td>6.5</td>\n",
       "      <td>101322</td>\n",
       "      <td>1.2572</td>\n",
       "      <td>...</td>\n",
       "      <td>3</td>\n",
       "      <td>0</td>\n",
       "      <td>0.0</td>\n",
       "      <td>66.0</td>\n",
       "      <td>1.0</td>\n",
       "      <td>1.0</td>\n",
       "      <td>NaN</td>\n",
       "      <td>0</td>\n",
       "      <td>7</td>\n",
       "      <td>5</td>\n",
       "    </tr>\n",
       "  </tbody>\n",
       "</table>\n",
       "<p>5 rows × 22 columns</p>\n",
       "</div>"
      ],
      "text/plain": [
       "  cntry      cname  cedition    cproddat  cseqno       name  essround  \\\n",
       "0    DE  ESS1-7e01       1.0  08.12.2016   59306  ESS1e06_5         1   \n",
       "1    DE  ESS1-7e01       1.0  08.12.2016   59307  ESS1e06_5         1   \n",
       "2    DE  ESS1-7e01       1.0  08.12.2016   59308  ESS1e06_5         1   \n",
       "3    DE  ESS1-7e01       1.0  08.12.2016   59309  ESS1e06_5         1   \n",
       "4    DE  ESS1-7e01       1.0  08.12.2016   59310  ESS1e06_5         1   \n",
       "\n",
       "   edition    idno  dweight   ...    tvtot  tvpol  rdtot  rdpol  nwsptot  \\\n",
       "0      6.5  101114   1.2572   ...        7      0    0.0   66.0      0.0   \n",
       "1      6.5  101120   1.2572   ...        5      2    6.0    0.0      2.0   \n",
       "2      6.5  101126   1.2572   ...        5      2    7.0    2.0      1.0   \n",
       "3      6.5  101304   1.2572   ...        4      2    6.0    2.0      2.0   \n",
       "4      6.5  101322   1.2572   ...        3      0    0.0   66.0      1.0   \n",
       "\n",
       "   nwsppol  netuse  ppltrst  pplfair  pplhlp  \n",
       "0     66.0     NaN        0        5       4  \n",
       "1      2.0     NaN        6        6       4  \n",
       "2      1.0     NaN        0        0       0  \n",
       "3      1.0     NaN        2        3       2  \n",
       "4      1.0     NaN        0        7       5  \n",
       "\n",
       "[5 rows x 22 columns]"
      ]
     },
     "execution_count": 28,
     "metadata": {},
     "output_type": "execute_result"
    }
   ],
   "source": [
    "media_by_country[\"DE\"].head()\n"
   ]
  },
  {
   "cell_type": "markdown",
   "metadata": {},
   "source": [
    "## Trust"
   ]
  },
  {
   "cell_type": "code",
   "execution_count": 54,
   "metadata": {},
   "outputs": [],
   "source": [
    "def scatter_by_cntry(cntry, fld1, fld2):\n",
    "    md = media_by_country[cntry]\n",
    "    md = md[md[fld1] < 11]\n",
    "    md = md[md[fld2] < 11]\n",
    "    x = md[fld1]\n",
    "    y = md[fld2]\n",
    "    plt.scatter(x, y, alpha=0.005)    "
   ]
  },
  {
   "cell_type": "code",
   "execution_count": 55,
   "metadata": {},
   "outputs": [
    {
     "data": {
      "image/png": "[encoded data removed]",
      "text/plain": [
       "<Figure size 576x396 with 1 Axes>"
      ]
     },
     "metadata": {},
     "output_type": "display_data"
    }
   ],
   "source": [
    "scatter_by_cntry(\"FR\", \"ppltrst\", \"nwsppol\")"
   ]
  },
  {
   "cell_type": "code",
   "execution_count": 61,
   "metadata": {},
   "outputs": [
    {
     "data": {
      "text/plain": [
       "5     19303\n",
       "7     15199\n",
       "8     12762\n",
       "6     10742\n",
       "3      8666\n",
       "4      8574\n",
       "2      5040\n",
       "0      3633\n",
       "9      3368\n",
       "1      2170\n",
       "10     1828\n",
       "88      169\n",
       "77       19\n",
       "99       15\n",
       "Name: ppltrst, dtype: int64"
      ]
     },
     "execution_count": 61,
     "metadata": {},
     "output_type": "execute_result"
    }
   ],
   "source": [
    "media.ppltrst.value_counts()"
   ]
  },
  {
   "cell_type": "code",
   "execution_count": 62,
   "metadata": {},
   "outputs": [
    {
     "data": {
      "text/plain": [
       "5     3511\n",
       "3     1666\n",
       "4     1555\n",
       "6     1400\n",
       "7     1375\n",
       "2     1114\n",
       "0      896\n",
       "8      735\n",
       "1      432\n",
       "9      172\n",
       "10     112\n",
       "88      13\n",
       "Name: ppltrst, dtype: int64"
      ]
     },
     "execution_count": 62,
     "metadata": {},
     "output_type": "execute_result"
    }
   ],
   "source": [
    "media_by_country[\"FR\"].ppltrst.value_counts()"
   ]
  },
  {
   "cell_type": "code",
   "execution_count": null,
   "metadata": {},
   "outputs": [],
   "source": []
  }
 ],
 "metadata": {
  "kernelspec": {
   "display_name": "Python 3",
   "language": "python",
   "name": "python3"
  },
  "language_info": {
   "codemirror_mode": {
    "name": "ipython",
    "version": 3
   },
   "file_extension": ".py",
   "mimetype": "text/x-python",
   "name": "python",
   "nbconvert_exporter": "python",
   "pygments_lexer": "ipython3",
   "version": "3.7.0"
  }
 },
 "nbformat": 4,
 "nbformat_minor": 2
}
