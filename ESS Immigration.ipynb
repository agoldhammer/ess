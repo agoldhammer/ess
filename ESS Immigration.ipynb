{
 "cells": [
  {
   "cell_type": "markdown",
   "metadata": {},
   "source": [
    "# ESS Immigration"
   ]
  },
  {
   "cell_type": "code",
   "execution_count": 71,
   "metadata": {},
   "outputs": [
    {
     "name": "stdout",
     "output_type": "stream",
     "text": [
      "The autoreload extension is already loaded. To reload it, use:\n",
      "  %reload_ext autoreload\n"
     ]
    }
   ],
   "source": [
    "import pandas as pd\n",
    "import numpy as np\n",
    "import matplotlib\n",
    "import matplotlib.pyplot as plt\n",
    "%matplotlib inline\n",
    "%load_ext autoreload\n",
    "%autoreload 2\n",
    "from essutils import utils\n",
    "import altair as alt"
   ]
  },
  {
   "cell_type": "markdown",
   "metadata": {},
   "source": [
    "## Import immigration data from *European Social Survey*\n",
    "* This contains data on various countries from Rounds 1 and 7 (2002 and 2014)\n",
    "* Some countries are missing data from one or the other round"
   ]
  },
  {
   "cell_type": "code",
   "execution_count": 2,
   "metadata": {},
   "outputs": [],
   "source": [
    "imm = utils.get_data(utils.IMMDATA)"
   ]
  },
  {
   "cell_type": "markdown",
   "metadata": {},
   "source": [
    "## The following countries are represented"
   ]
  },
  {
   "cell_type": "code",
   "execution_count": 4,
   "metadata": {},
   "outputs": [],
   "source": [
    "countries = imm.cntry.unique()"
   ]
  },
  {
   "cell_type": "markdown",
   "metadata": {},
   "source": [
    "### Country Groups"
   ]
  },
  {
   "cell_type": "code",
   "execution_count": 118,
   "metadata": {},
   "outputs": [],
   "source": [
    "VISEGRAD = [\"PL\", \"HU\", \"CZ\"]\n",
    "BENELUX = [\"BE\", \"NL\", \"LU\"]\n",
    "CORE = [\"DE\", \"FR\", \"IT\"]\n",
    "NORDIC = [\"DK\", \"NO\", \"SE\"]\n",
    "SOUTH = [\"ES\", \"PT\", \"GR\", \"IT\", \"SI\"]\n",
    "BALTIC = [\"EE\", \"FI\", \"LT\"]\n",
    "OTHER = [\"CH\", \"GB\", \"IE\", \"IL\"]\n",
    "ALL = [CORE, BENELUX, SOUTH, VISEGRAD, BALTIC, NORDIC, OTHER]"
   ]
  },
  {
   "cell_type": "code",
   "execution_count": 62,
   "metadata": {},
   "outputs": [
    {
     "data": {
      "text/plain": [
       "{'acetalv': 'Ppl of min race/eth in area',\n",
       " 'eimpcnt': 'Alw many/few from poorer cntrys',\n",
       " 'gvrfgap': 'Govt shd judge generously',\n",
       " 'imbleco': 'Imm take more than put',\n",
       " 'imdetbs': 'Boss diff race/eth',\n",
       " 'imdetmr': 'Imm marry close rel',\n",
       " 'imtcjob': 'Imm take/create jobs',\n",
       " 'imwbcrm': 'Imm make crime worse/better',\n",
       " 'lwdscwp': 'Anti-disc law good/bad',\n",
       " 'noimbro': 'Estimate num',\n",
       " 'pplstrd': 'Share tradition bet/worse',\n",
       " 'qfimchr': 'Qualif Christian',\n",
       " 'qfimcmt': 'Qualif cmtd way of life',\n",
       " 'qfimedu': 'Qualif edu',\n",
       " 'qfimlng': 'Qualif lang',\n",
       " 'qfimwht': 'Qualif white',\n",
       " 'qfimwsk': 'Qualif skills'}"
      ]
     },
     "execution_count": 62,
     "metadata": {},
     "output_type": "execute_result"
    }
   ],
   "source": [
    "utils.questions"
   ]
  },
  {
   "cell_type": "code",
   "execution_count": 113,
   "metadata": {},
   "outputs": [
    {
     "data": {
      "application/vnd.vegalite.v2+json": {
       "$schema": "https://vega.github.io/schema/vega-lite/v2.6.0.json",
       "config": {
        "view": {
         "height": 300,
         "width": 400
        }
       },
       "datasets": {
        "data-058336e93b80a827ad22acec181a09ca": [
         {
          "cntry": "EE",
          "essrnd": 7,
          "imwbcrm": 0.03048452948581783,
          "response": 0
         },
         {
          "cntry": "EE",
          "essrnd": 7,
          "imwbcrm": 0.02637653746713443,
          "response": 1
         },
         {
          "cntry": "EE",
          "essrnd": 7,
          "imwbcrm": 0.06245050360727429,
          "response": 2
         },
         {
          "cntry": "EE",
          "essrnd": 7,
          "imwbcrm": 0.10697911865443867,
          "response": 3
         },
         {
          "cntry": "EE",
          "essrnd": 7,
          "imwbcrm": 0.13764233049755098,
          "response": 4
         },
         {
          "cntry": "EE",
          "essrnd": 7,
          "imwbcrm": 0.4312515216312564,
          "response": 5
         },
         {
          "cntry": "EE",
          "essrnd": 7,
          "imwbcrm": 0.057404882195408166,
          "response": 6
         },
         {
          "cntry": "EE",
          "essrnd": 7,
          "imwbcrm": 0.037684145823771435,
          "response": 7
         },
         {
          "cntry": "EE",
          "essrnd": 7,
          "imwbcrm": 0.015353465168342162,
          "response": 8
         },
         {
          "cntry": "EE",
          "essrnd": 7,
          "imwbcrm": 0.0038373814842248334,
          "response": 9
         },
         {
          "cntry": "EE",
          "essrnd": 7,
          "imwbcrm": 0.009926751182414378,
          "response": 10
         },
         {
          "cntry": "EE",
          "essrnd": 7,
          "imwbcrm": 0.08060883280237209,
          "response": 88
         },
         {
          "cntry": "FI",
          "essrnd": 7,
          "imwbcrm": 0.06063888908349198,
          "response": 0
         },
         {
          "cntry": "FI",
          "essrnd": 7,
          "imwbcrm": 0.07056246251796841,
          "response": 1
         },
         {
          "cntry": "FI",
          "essrnd": 7,
          "imwbcrm": 0.11467735230487797,
          "response": 2
         },
         {
          "cntry": "FI",
          "essrnd": 7,
          "imwbcrm": 0.19885147663093417,
          "response": 3
         },
         {
          "cntry": "FI",
          "essrnd": 7,
          "imwbcrm": 0.19364661418163873,
          "response": 4
         },
         {
          "cntry": "FI",
          "essrnd": 7,
          "imwbcrm": 0.25689754355523936,
          "response": 5
         },
         {
          "cntry": "FI",
          "essrnd": 7,
          "imwbcrm": 0.03001809370733469,
          "response": 6
         },
         {
          "cntry": "FI",
          "essrnd": 7,
          "imwbcrm": 0.03024348219166572,
          "response": 7
         },
         {
          "cntry": "FI",
          "essrnd": 7,
          "imwbcrm": 0.019301079491791943,
          "response": 8
         },
         {
          "cntry": "FI",
          "essrnd": 7,
          "imwbcrm": 0.006236620448824799,
          "response": 9
         },
         {
          "cntry": "FI",
          "essrnd": 7,
          "imwbcrm": 0.0024193818857938605,
          "response": 10
         },
         {
          "cntry": "FI",
          "essrnd": 7,
          "imwbcrm": 0.0004430975616932663,
          "response": 77
         },
         {
          "cntry": "FI",
          "essrnd": 7,
          "imwbcrm": 0.016063906438745803,
          "response": 88
         },
         {
          "cntry": "LT",
          "essrnd": 7,
          "imwbcrm": 0.030879182379851253,
          "response": 0
         },
         {
          "cntry": "LT",
          "essrnd": 7,
          "imwbcrm": 0.03692341345251557,
          "response": 1
         },
         {
          "cntry": "LT",
          "essrnd": 7,
          "imwbcrm": 0.06533212440669045,
          "response": 2
         },
         {
          "cntry": "LT",
          "essrnd": 7,
          "imwbcrm": 0.12618808019176375,
          "response": 3
         },
         {
          "cntry": "LT",
          "essrnd": 7,
          "imwbcrm": 0.1548343965286407,
          "response": 4
         },
         {
          "cntry": "LT",
          "essrnd": 7,
          "imwbcrm": 0.3094778377442804,
          "response": 5
         },
         {
          "cntry": "LT",
          "essrnd": 7,
          "imwbcrm": 0.06174384473329331,
          "response": 6
         },
         {
          "cntry": "LT",
          "essrnd": 7,
          "imwbcrm": 0.04106318736708241,
          "response": 7
         },
         {
          "cntry": "LT",
          "essrnd": 7,
          "imwbcrm": 0.01960306479952447,
          "response": 8
         },
         {
          "cntry": "LT",
          "essrnd": 7,
          "imwbcrm": 0.0033093100952237132,
          "response": 9
         },
         {
          "cntry": "LT",
          "essrnd": 7,
          "imwbcrm": 0.0019687750689132274,
          "response": 10
         },
         {
          "cntry": "LT",
          "essrnd": 7,
          "imwbcrm": 0.1486767832322205,
          "response": 88
         }
        ],
        "data-36468ce4fb76e675d89876d150ede4c6": [
         {
          "cntry": "ES",
          "essrnd": 7,
          "imwbcrm": 0.07559587492280612,
          "response": 0
         },
         {
          "cntry": "ES",
          "essrnd": 7,
          "imwbcrm": 0.06851242033316098,
          "response": 1
         },
         {
          "cntry": "ES",
          "essrnd": 7,
          "imwbcrm": 0.14210303242128533,
          "response": 2
         },
         {
          "cntry": "ES",
          "essrnd": 7,
          "imwbcrm": 0.1959522588799901,
          "response": 3
         },
         {
          "cntry": "ES",
          "essrnd": 7,
          "imwbcrm": 0.12404172822324382,
          "response": 4
         },
         {
          "cntry": "ES",
          "essrnd": 7,
          "imwbcrm": 0.27989310374044457,
          "response": 5
         },
         {
          "cntry": "ES",
          "essrnd": 7,
          "imwbcrm": 0.03204781477242392,
          "response": 6
         },
         {
          "cntry": "ES",
          "essrnd": 7,
          "imwbcrm": 0.020878050940102533,
          "response": 7
         },
         {
          "cntry": "ES",
          "essrnd": 7,
          "imwbcrm": 0.01327931281530535,
          "response": 8
         },
         {
          "cntry": "ES",
          "essrnd": 7,
          "imwbcrm": 0.003773353255411036,
          "response": 9
         },
         {
          "cntry": "ES",
          "essrnd": 7,
          "imwbcrm": 0.003080646045095396,
          "response": 10
         },
         {
          "cntry": "ES",
          "essrnd": 7,
          "imwbcrm": 0.00585112154965133,
          "response": 77
         },
         {
          "cntry": "ES",
          "essrnd": 7,
          "imwbcrm": 0.03499128210107851,
          "response": 88
         },
         {
          "cntry": "PT",
          "essrnd": 7,
          "imwbcrm": 0.18332972087756574,
          "response": 0
         },
         {
          "cntry": "PT",
          "essrnd": 7,
          "imwbcrm": 0.03966163992989044,
          "response": 1
         },
         {
          "cntry": "PT",
          "essrnd": 7,
          "imwbcrm": 0.07654072513379845,
          "response": 2
         },
         {
          "cntry": "PT",
          "essrnd": 7,
          "imwbcrm": 0.12066412612765733,
          "response": 3
         },
         {
          "cntry": "PT",
          "essrnd": 7,
          "imwbcrm": 0.11474543751530941,
          "response": 4
         },
         {
          "cntry": "PT",
          "essrnd": 7,
          "imwbcrm": 0.32127585186800767,
          "response": 5
         },
         {
          "cntry": "PT",
          "essrnd": 7,
          "imwbcrm": 0.05260984801779663,
          "response": 6
         },
         {
          "cntry": "PT",
          "essrnd": 7,
          "imwbcrm": 0.03436136810623424,
          "response": 7
         },
         {
          "cntry": "PT",
          "essrnd": 7,
          "imwbcrm": 0.013405808932979652,
          "response": 8
         },
         {
          "cntry": "PT",
          "essrnd": 7,
          "imwbcrm": 0.004782421244170462,
          "response": 9
         },
         {
          "cntry": "PT",
          "essrnd": 7,
          "imwbcrm": 0.012941071091613262,
          "response": 10
         },
         {
          "cntry": "PT",
          "essrnd": 7,
          "imwbcrm": 0.0008426197132899558,
          "response": 77
         },
         {
          "cntry": "PT",
          "essrnd": 7,
          "imwbcrm": 0.02483936144168691,
          "response": 88
         },
         {
          "cntry": "GR",
          "essrnd": 7,
          "imwbcrm": 0,
          "response": 0
         },
         {
          "cntry": "IT",
          "essrnd": 7,
          "imwbcrm": 0,
          "response": 0
         },
         {
          "cntry": "SI",
          "essrnd": 7,
          "imwbcrm": 0.07485072759582657,
          "response": 0
         },
         {
          "cntry": "SI",
          "essrnd": 7,
          "imwbcrm": 0.025285908641551853,
          "response": 1
         },
         {
          "cntry": "SI",
          "essrnd": 7,
          "imwbcrm": 0.10804907723432412,
          "response": 2
         },
         {
          "cntry": "SI",
          "essrnd": 7,
          "imwbcrm": 0.14053267400971728,
          "response": 3
         },
         {
          "cntry": "SI",
          "essrnd": 7,
          "imwbcrm": 0.11757333606240128,
          "response": 4
         },
         {
          "cntry": "SI",
          "essrnd": 7,
          "imwbcrm": 0.32257905902565165,
          "response": 5
         },
         {
          "cntry": "SI",
          "essrnd": 7,
          "imwbcrm": 0.044695472420666196,
          "response": 6
         },
         {
          "cntry": "SI",
          "essrnd": 7,
          "imwbcrm": 0.03674832479265674,
          "response": 7
         },
         {
          "cntry": "SI",
          "essrnd": 7,
          "imwbcrm": 0.031628869385553315,
          "response": 8
         },
         {
          "cntry": "SI",
          "essrnd": 7,
          "imwbcrm": 0.010290994808219127,
          "response": 9
         },
         {
          "cntry": "SI",
          "essrnd": 7,
          "imwbcrm": 0.012869818415612893,
          "response": 10
         },
         {
          "cntry": "SI",
          "essrnd": 7,
          "imwbcrm": 0.06664603242810817,
          "response": 88
         },
         {
          "cntry": "SI",
          "essrnd": 7,
          "imwbcrm": 0.008249705179711603,
          "response": 99
         }
        ],
        "data-5de495badc251cecad63bea265d87353": [
         {
          "cntry": "PL",
          "essrnd": 1,
          "imwbcrm": 0.09399152379315175,
          "response": 0
         },
         {
          "cntry": "PL",
          "essrnd": 1,
          "imwbcrm": 0.09463592938971427,
          "response": 1
         },
         {
          "cntry": "PL",
          "essrnd": 1,
          "imwbcrm": 0.13614073046658462,
          "response": 2
         },
         {
          "cntry": "PL",
          "essrnd": 1,
          "imwbcrm": 0.1711405862173846,
          "response": 3
         },
         {
          "cntry": "PL",
          "essrnd": 1,
          "imwbcrm": 0.12931649860160732,
          "response": 4
         },
         {
          "cntry": "PL",
          "essrnd": 1,
          "imwbcrm": 0.21668939482277866,
          "response": 5
         },
         {
          "cntry": "PL",
          "essrnd": 1,
          "imwbcrm": 0.0437560033022073,
          "response": 6
         },
         {
          "cntry": "PL",
          "essrnd": 1,
          "imwbcrm": 0.02377161282152171,
          "response": 7
         },
         {
          "cntry": "PL",
          "essrnd": 1,
          "imwbcrm": 0.011366225886700807,
          "response": 8
         },
         {
          "cntry": "PL",
          "essrnd": 1,
          "imwbcrm": 0.004355483810315594,
          "response": 9
         },
         {
          "cntry": "PL",
          "essrnd": 1,
          "imwbcrm": 0.0032207927660608637,
          "response": 10
         },
         {
          "cntry": "PL",
          "essrnd": 1,
          "imwbcrm": 0.07161521812197269,
          "response": 88
         },
         {
          "cntry": "HU",
          "essrnd": 1,
          "imwbcrm": 0.17677639755411248,
          "response": 0
         },
         {
          "cntry": "HU",
          "essrnd": 1,
          "imwbcrm": 0.11775271595651429,
          "response": 1
         },
         {
          "cntry": "HU",
          "essrnd": 1,
          "imwbcrm": 0.17564600547014203,
          "response": 2
         },
         {
          "cntry": "HU",
          "essrnd": 1,
          "imwbcrm": 0.15788675997256568,
          "response": 3
         },
         {
          "cntry": "HU",
          "essrnd": 1,
          "imwbcrm": 0.08562314464443113,
          "response": 4
         },
         {
          "cntry": "HU",
          "essrnd": 1,
          "imwbcrm": 0.13269231169458132,
          "response": 5
         },
         {
          "cntry": "HU",
          "essrnd": 1,
          "imwbcrm": 0.030626180657179668,
          "response": 6
         },
         {
          "cntry": "HU",
          "essrnd": 1,
          "imwbcrm": 0.022111006936970615,
          "response": 7
         },
         {
          "cntry": "HU",
          "essrnd": 1,
          "imwbcrm": 0.023040651462075606,
          "response": 8
         },
         {
          "cntry": "HU",
          "essrnd": 1,
          "imwbcrm": 0.006175785820236,
          "response": 9
         },
         {
          "cntry": "HU",
          "essrnd": 1,
          "imwbcrm": 0.002196228585640434,
          "response": 10
         },
         {
          "cntry": "HU",
          "essrnd": 1,
          "imwbcrm": 0.06822628879186268,
          "response": 88
         },
         {
          "cntry": "HU",
          "essrnd": 1,
          "imwbcrm": 0.0012465224536874321,
          "response": 99
         },
         {
          "cntry": "CZ",
          "essrnd": 1,
          "imwbcrm": 0.14027212908596773,
          "response": 0
         },
         {
          "cntry": "CZ",
          "essrnd": 1,
          "imwbcrm": 0.19189913607615783,
          "response": 1
         },
         {
          "cntry": "CZ",
          "essrnd": 1,
          "imwbcrm": 0.211901111114576,
          "response": 2
         },
         {
          "cntry": "CZ",
          "essrnd": 1,
          "imwbcrm": 0.1748351715059426,
          "response": 3
         },
         {
          "cntry": "CZ",
          "essrnd": 1,
          "imwbcrm": 0.1146448575827604,
          "response": 4
         },
         {
          "cntry": "CZ",
          "essrnd": 1,
          "imwbcrm": 0.0929245849730203,
          "response": 5
         },
         {
          "cntry": "CZ",
          "essrnd": 1,
          "imwbcrm": 0.02018930543880913,
          "response": 6
         },
         {
          "cntry": "CZ",
          "essrnd": 1,
          "imwbcrm": 0.00953593908755664,
          "response": 7
         },
         {
          "cntry": "CZ",
          "essrnd": 1,
          "imwbcrm": 0.0041896015349342924,
          "response": 8
         },
         {
          "cntry": "CZ",
          "essrnd": 1,
          "imwbcrm": 0.000589270146392235,
          "response": 9
         },
         {
          "cntry": "CZ",
          "essrnd": 1,
          "imwbcrm": 0.0007391755738360812,
          "response": 10
         },
         {
          "cntry": "CZ",
          "essrnd": 1,
          "imwbcrm": 0.030993468372339916,
          "response": 88
         },
         {
          "cntry": "CZ",
          "essrnd": 1,
          "imwbcrm": 0.0072862495077066864,
          "response": 99
         }
        ],
        "data-6c3d3feeefb95c7ca2ae9e5c7a058204": [
         {
          "cntry": "CH",
          "essrnd": 7,
          "imwbcrm": 0.07437545327185958,
          "response": 0
         },
         {
          "cntry": "CH",
          "essrnd": 7,
          "imwbcrm": 0.05987966333192844,
          "response": 1
         },
         {
          "cntry": "CH",
          "essrnd": 7,
          "imwbcrm": 0.15034960426372404,
          "response": 2
         },
         {
          "cntry": "CH",
          "essrnd": 7,
          "imwbcrm": 0.18685474932734084,
          "response": 3
         },
         {
          "cntry": "CH",
          "essrnd": 7,
          "imwbcrm": 0.1508913742103393,
          "response": 4
         },
         {
          "cntry": "CH",
          "essrnd": 7,
          "imwbcrm": 0.22725080476089884,
          "response": 5
         },
         {
          "cntry": "CH",
          "essrnd": 7,
          "imwbcrm": 0.03874351213011225,
          "response": 6
         },
         {
          "cntry": "CH",
          "essrnd": 7,
          "imwbcrm": 0.04608290979223096,
          "response": 7
         },
         {
          "cntry": "CH",
          "essrnd": 7,
          "imwbcrm": 0.030778356803633014,
          "response": 8
         },
         {
          "cntry": "CH",
          "essrnd": 7,
          "imwbcrm": 0.006222088813759016,
          "response": 9
         },
         {
          "cntry": "CH",
          "essrnd": 7,
          "imwbcrm": 0.006430075968238773,
          "response": 10
         },
         {
          "cntry": "CH",
          "essrnd": 7,
          "imwbcrm": 0.022141407325934892,
          "response": 88
         },
         {
          "cntry": "GB",
          "essrnd": 7,
          "imwbcrm": 0.08238909568648499,
          "response": 0
         },
         {
          "cntry": "GB",
          "essrnd": 7,
          "imwbcrm": 0.054904549627855306,
          "response": 1
         },
         {
          "cntry": "GB",
          "essrnd": 7,
          "imwbcrm": 0.09911625816345901,
          "response": 2
         },
         {
          "cntry": "GB",
          "essrnd": 7,
          "imwbcrm": 0.14065286518992884,
          "response": 3
         },
         {
          "cntry": "GB",
          "essrnd": 7,
          "imwbcrm": 0.1298947507528787,
          "response": 4
         },
         {
          "cntry": "GB",
          "essrnd": 7,
          "imwbcrm": 0.32536787248051974,
          "response": 5
         },
         {
          "cntry": "GB",
          "essrnd": 7,
          "imwbcrm": 0.05427182169020535,
          "response": 6
         },
         {
          "cntry": "GB",
          "essrnd": 7,
          "imwbcrm": 0.045655011655169636,
          "response": 7
         },
         {
          "cntry": "GB",
          "essrnd": 7,
          "imwbcrm": 0.01926021621127042,
          "response": 8
         },
         {
          "cntry": "GB",
          "essrnd": 7,
          "imwbcrm": 0.008767610427051037,
          "response": 9
         },
         {
          "cntry": "GB",
          "essrnd": 7,
          "imwbcrm": 0.004385973705544711,
          "response": 10
         },
         {
          "cntry": "GB",
          "essrnd": 7,
          "imwbcrm": 0.035333974409632395,
          "response": 88
         },
         {
          "cntry": "IE",
          "essrnd": 7,
          "imwbcrm": 0.06552451605187076,
          "response": 0
         },
         {
          "cntry": "IE",
          "essrnd": 7,
          "imwbcrm": 0.032241183073103266,
          "response": 1
         },
         {
          "cntry": "IE",
          "essrnd": 7,
          "imwbcrm": 0.08510738077484716,
          "response": 2
         },
         {
          "cntry": "IE",
          "essrnd": 7,
          "imwbcrm": 0.12090975981964937,
          "response": 3
         },
         {
          "cntry": "IE",
          "essrnd": 7,
          "imwbcrm": 0.11277278401415447,
          "response": 4
         },
         {
          "cntry": "IE",
          "essrnd": 7,
          "imwbcrm": 0.33258206267479945,
          "response": 5
         },
         {
          "cntry": "IE",
          "essrnd": 7,
          "imwbcrm": 0.07099502606652568,
          "response": 6
         },
         {
          "cntry": "IE",
          "essrnd": 7,
          "imwbcrm": 0.04657024539508429,
          "response": 7
         },
         {
          "cntry": "IE",
          "essrnd": 7,
          "imwbcrm": 0.030008447901106777,
          "response": 8
         },
         {
          "cntry": "IE",
          "essrnd": 7,
          "imwbcrm": 0.007312699034495836,
          "response": 9
         },
         {
          "cntry": "IE",
          "essrnd": 7,
          "imwbcrm": 0.002787631144221576,
          "response": 10
         },
         {
          "cntry": "IE",
          "essrnd": 7,
          "imwbcrm": 0.0023079966010001577,
          "response": 77
         },
         {
          "cntry": "IE",
          "essrnd": 7,
          "imwbcrm": 0.09088026744914195,
          "response": 88
         },
         {
          "cntry": "IL",
          "essrnd": 7,
          "imwbcrm": 0.07335062167148544,
          "response": 0
         },
         {
          "cntry": "IL",
          "essrnd": 7,
          "imwbcrm": 0.05562930473435633,
          "response": 1
         },
         {
          "cntry": "IL",
          "essrnd": 7,
          "imwbcrm": 0.10851356607351509,
          "response": 2
         },
         {
          "cntry": "IL",
          "essrnd": 7,
          "imwbcrm": 0.16510181133565813,
          "response": 3
         },
         {
          "cntry": "IL",
          "essrnd": 7,
          "imwbcrm": 0.13052003562030653,
          "response": 4
         },
         {
          "cntry": "IL",
          "essrnd": 7,
          "imwbcrm": 0.18733758514366547,
          "response": 5
         },
         {
          "cntry": "IL",
          "essrnd": 7,
          "imwbcrm": 0.06609861550706386,
          "response": 6
         },
         {
          "cntry": "IL",
          "essrnd": 7,
          "imwbcrm": 0.043887738815837046,
          "response": 7
         },
         {
          "cntry": "IL",
          "essrnd": 7,
          "imwbcrm": 0.052584082485258275,
          "response": 8
         },
         {
          "cntry": "IL",
          "essrnd": 7,
          "imwbcrm": 0.022555187020293566,
          "response": 9
         },
         {
          "cntry": "IL",
          "essrnd": 7,
          "imwbcrm": 0.018121752141119538,
          "response": 10
         },
         {
          "cntry": "IL",
          "essrnd": 7,
          "imwbcrm": 0.07629969945144072,
          "response": 88
         }
        ],
        "data-83d758529012840407fb9970656b6af5": [
         {
          "cntry": "ES",
          "essrnd": 1,
          "imwbcrm": 0.06609938901419259,
          "response": 0
         },
         {
          "cntry": "ES",
          "essrnd": 1,
          "imwbcrm": 0.09478127123107927,
          "response": 1
         },
         {
          "cntry": "ES",
          "essrnd": 1,
          "imwbcrm": 0.17245418878575616,
          "response": 2
         },
         {
          "cntry": "ES",
          "essrnd": 1,
          "imwbcrm": 0.1925176519319408,
          "response": 3
         },
         {
          "cntry": "ES",
          "essrnd": 1,
          "imwbcrm": 0.12413484544824706,
          "response": 4
         },
         {
          "cntry": "ES",
          "essrnd": 1,
          "imwbcrm": 0.22115138206096824,
          "response": 5
         },
         {
          "cntry": "ES",
          "essrnd": 1,
          "imwbcrm": 0.03949844503342264,
          "response": 6
         },
         {
          "cntry": "ES",
          "essrnd": 1,
          "imwbcrm": 0.018282949944461134,
          "response": 7
         },
         {
          "cntry": "ES",
          "essrnd": 1,
          "imwbcrm": 0.013712050054003415,
          "response": 8
         },
         {
          "cntry": "ES",
          "essrnd": 1,
          "imwbcrm": 0.0030466960496694784,
          "response": 9
         },
         {
          "cntry": "ES",
          "essrnd": 1,
          "imwbcrm": 0.0009799676136103758,
          "response": 10
         },
         {
          "cntry": "ES",
          "essrnd": 1,
          "imwbcrm": 0.00022729934852844615,
          "response": 77
         },
         {
          "cntry": "ES",
          "essrnd": 1,
          "imwbcrm": 0.05311386348412038,
          "response": 88
         },
         {
          "cntry": "PT",
          "essrnd": 1,
          "imwbcrm": 0.09715133751235756,
          "response": 0
         },
         {
          "cntry": "PT",
          "essrnd": 1,
          "imwbcrm": 0.11318403538588576,
          "response": 1
         },
         {
          "cntry": "PT",
          "essrnd": 1,
          "imwbcrm": 0.1592717911678565,
          "response": 2
         },
         {
          "cntry": "PT",
          "essrnd": 1,
          "imwbcrm": 0.19623556206046203,
          "response": 3
         },
         {
          "cntry": "PT",
          "essrnd": 1,
          "imwbcrm": 0.14465714022844234,
          "response": 4
         },
         {
          "cntry": "PT",
          "essrnd": 1,
          "imwbcrm": 0.16946002057187504,
          "response": 5
         },
         {
          "cntry": "PT",
          "essrnd": 1,
          "imwbcrm": 0.033848704149501065,
          "response": 6
         },
         {
          "cntry": "PT",
          "essrnd": 1,
          "imwbcrm": 0.01880605303090382,
          "response": 7
         },
         {
          "cntry": "PT",
          "essrnd": 1,
          "imwbcrm": 0.015946581037415364,
          "response": 8
         },
         {
          "cntry": "PT",
          "essrnd": 1,
          "imwbcrm": 0.0017200213262829355,
          "response": 9
         },
         {
          "cntry": "PT",
          "essrnd": 1,
          "imwbcrm": 0.0011650157887854373,
          "response": 10
         },
         {
          "cntry": "PT",
          "essrnd": 1,
          "imwbcrm": 0.046079160275187186,
          "response": 88
         },
         {
          "cntry": "PT",
          "essrnd": 1,
          "imwbcrm": 0.002474577465045001,
          "response": 99
         },
         {
          "cntry": "GR",
          "essrnd": 1,
          "imwbcrm": 0.2833790008999095,
          "response": 0
         },
         {
          "cntry": "GR",
          "essrnd": 1,
          "imwbcrm": 0.2129150652486995,
          "response": 1
         },
         {
          "cntry": "GR",
          "essrnd": 1,
          "imwbcrm": 0.16688716507521692,
          "response": 2
         },
         {
          "cntry": "GR",
          "essrnd": 1,
          "imwbcrm": 0.1358890923395746,
          "response": 3
         },
         {
          "cntry": "GR",
          "essrnd": 1,
          "imwbcrm": 0.07243574313998294,
          "response": 4
         },
         {
          "cntry": "GR",
          "essrnd": 1,
          "imwbcrm": 0.08123597615319768,
          "response": 5
         },
         {
          "cntry": "GR",
          "essrnd": 1,
          "imwbcrm": 0.01787056022015877,
          "response": 6
         },
         {
          "cntry": "GR",
          "essrnd": 1,
          "imwbcrm": 0.007985958636221731,
          "response": 7
         },
         {
          "cntry": "GR",
          "essrnd": 1,
          "imwbcrm": 0.006811840025429165,
          "response": 8
         },
         {
          "cntry": "GR",
          "essrnd": 1,
          "imwbcrm": 0.002106839643301574,
          "response": 9
         },
         {
          "cntry": "GR",
          "essrnd": 1,
          "imwbcrm": 0.0009311611559747525,
          "response": 10
         },
         {
          "cntry": "GR",
          "essrnd": 1,
          "imwbcrm": 0.011551597462333906,
          "response": 88
         },
         {
          "cntry": "IT",
          "essrnd": 1,
          "imwbcrm": 0.10923872939256027,
          "response": 0
         },
         {
          "cntry": "IT",
          "essrnd": 1,
          "imwbcrm": 0.08453851600979283,
          "response": 1
         },
         {
          "cntry": "IT",
          "essrnd": 1,
          "imwbcrm": 0.1416295924812001,
          "response": 2
         },
         {
          "cntry": "IT",
          "essrnd": 1,
          "imwbcrm": 0.15349600056830665,
          "response": 3
         },
         {
          "cntry": "IT",
          "essrnd": 1,
          "imwbcrm": 0.11534675450852479,
          "response": 4
         },
         {
          "cntry": "IT",
          "essrnd": 1,
          "imwbcrm": 0.18481316016967492,
          "response": 5
         },
         {
          "cntry": "IT",
          "essrnd": 1,
          "imwbcrm": 0.07443807356923511,
          "response": 6
         },
         {
          "cntry": "IT",
          "essrnd": 1,
          "imwbcrm": 0.04347309933603232,
          "response": 7
         },
         {
          "cntry": "IT",
          "essrnd": 1,
          "imwbcrm": 0.035943226144598786,
          "response": 8
         },
         {
          "cntry": "IT",
          "essrnd": 1,
          "imwbcrm": 0.00954834942300218,
          "response": 9
         },
         {
          "cntry": "IT",
          "essrnd": 1,
          "imwbcrm": 0.008532956957606606,
          "response": 10
         },
         {
          "cntry": "IT",
          "essrnd": 1,
          "imwbcrm": 0.03900154143946524,
          "response": 88
         },
         {
          "cntry": "SI",
          "essrnd": 1,
          "imwbcrm": 0.0854670559153399,
          "response": 0
         },
         {
          "cntry": "SI",
          "essrnd": 1,
          "imwbcrm": 0.06958312128572354,
          "response": 1
         },
         {
          "cntry": "SI",
          "essrnd": 1,
          "imwbcrm": 0.1598504907199536,
          "response": 2
         },
         {
          "cntry": "SI",
          "essrnd": 1,
          "imwbcrm": 0.17291547608767513,
          "response": 3
         },
         {
          "cntry": "SI",
          "essrnd": 1,
          "imwbcrm": 0.13115582699025147,
          "response": 4
         },
         {
          "cntry": "SI",
          "essrnd": 1,
          "imwbcrm": 0.23275219456020577,
          "response": 5
         },
         {
          "cntry": "SI",
          "essrnd": 1,
          "imwbcrm": 0.037935747944748424,
          "response": 6
         },
         {
          "cntry": "SI",
          "essrnd": 1,
          "imwbcrm": 0.02807229889351368,
          "response": 7
         },
         {
          "cntry": "SI",
          "essrnd": 1,
          "imwbcrm": 0.029369619423629412,
          "response": 8
         },
         {
          "cntry": "SI",
          "essrnd": 1,
          "imwbcrm": 0.003338282182258027,
          "response": 9
         },
         {
          "cntry": "SI",
          "essrnd": 1,
          "imwbcrm": 0.008340295471541529,
          "response": 10
         },
         {
          "cntry": "SI",
          "essrnd": 1,
          "imwbcrm": 0.03985332605212805,
          "response": 88
         },
         {
          "cntry": "SI",
          "essrnd": 1,
          "imwbcrm": 0.0013662644730304595,
          "response": 99
         }
        ],
        "data-8e592626beba32e881bd7abbd509b89d": [
         {
          "cntry": "BE",
          "essrnd": 7,
          "imwbcrm": 0.09783304573374006,
          "response": 0
         },
         {
          "cntry": "BE",
          "essrnd": 7,
          "imwbcrm": 0.09476005006998646,
          "response": 1
         },
         {
          "cntry": "BE",
          "essrnd": 7,
          "imwbcrm": 0.1425353907178671,
          "response": 2
         },
         {
          "cntry": "BE",
          "essrnd": 7,
          "imwbcrm": 0.19107037448994868,
          "response": 3
         },
         {
          "cntry": "BE",
          "essrnd": 7,
          "imwbcrm": 0.13165151925268712,
          "response": 4
         },
         {
          "cntry": "BE",
          "essrnd": 7,
          "imwbcrm": 0.2241222307816962,
          "response": 5
         },
         {
          "cntry": "BE",
          "essrnd": 7,
          "imwbcrm": 0.039072089259545896,
          "response": 6
         },
         {
          "cntry": "BE",
          "essrnd": 7,
          "imwbcrm": 0.036675431048342706,
          "response": 7
         },
         {
          "cntry": "BE",
          "essrnd": 7,
          "imwbcrm": 0.021766553055147297,
          "response": 8
         },
         {
          "cntry": "BE",
          "essrnd": 7,
          "imwbcrm": 0.007740556206301765,
          "response": 9
         },
         {
          "cntry": "BE",
          "essrnd": 7,
          "imwbcrm": 0.000491808851604992,
          "response": 10
         },
         {
          "cntry": "BE",
          "essrnd": 7,
          "imwbcrm": 0.012280950533131786,
          "response": 88
         },
         {
          "cntry": "NL",
          "essrnd": 7,
          "imwbcrm": 0.07713008030281569,
          "response": 0
         },
         {
          "cntry": "NL",
          "essrnd": 7,
          "imwbcrm": 0.052910362662732593,
          "response": 1
         },
         {
          "cntry": "NL",
          "essrnd": 7,
          "imwbcrm": 0.14448014440643436,
          "response": 2
         },
         {
          "cntry": "NL",
          "essrnd": 7,
          "imwbcrm": 0.21654625407899264,
          "response": 3
         },
         {
          "cntry": "NL",
          "essrnd": 7,
          "imwbcrm": 0.1895032773571763,
          "response": 4
         },
         {
          "cntry": "NL",
          "essrnd": 7,
          "imwbcrm": 0.20658806103384508,
          "response": 5
         },
         {
          "cntry": "NL",
          "essrnd": 7,
          "imwbcrm": 0.04144410658042073,
          "response": 6
         },
         {
          "cntry": "NL",
          "essrnd": 7,
          "imwbcrm": 0.02836386125694241,
          "response": 7
         },
         {
          "cntry": "NL",
          "essrnd": 7,
          "imwbcrm": 0.016286737753410097,
          "response": 8
         },
         {
          "cntry": "NL",
          "essrnd": 7,
          "imwbcrm": 0.001984850606857483,
          "response": 9
         },
         {
          "cntry": "NL",
          "essrnd": 7,
          "imwbcrm": 0.0008990635899232309,
          "response": 77
         },
         {
          "cntry": "NL",
          "essrnd": 7,
          "imwbcrm": 0.023863200370449447,
          "response": 88
         },
         {
          "cntry": "LU",
          "essrnd": 7,
          "imwbcrm": 0,
          "response": 0
         }
        ],
        "data-9ab8818a8e9a83b12550ca92dc8b93f4": [
         {
          "cntry": "CH",
          "essrnd": 1,
          "imwbcrm": 0.11739859352833157,
          "response": 0
         },
         {
          "cntry": "CH",
          "essrnd": 1,
          "imwbcrm": 0.09239297264847386,
          "response": 1
         },
         {
          "cntry": "CH",
          "essrnd": 1,
          "imwbcrm": 0.22768843813596587,
          "response": 2
         },
         {
          "cntry": "CH",
          "essrnd": 1,
          "imwbcrm": 0.2109472680041878,
          "response": 3
         },
         {
          "cntry": "CH",
          "essrnd": 1,
          "imwbcrm": 0.1355970109757163,
          "response": 4
         },
         {
          "cntry": "CH",
          "essrnd": 1,
          "imwbcrm": 0.14967900001558715,
          "response": 5
         },
         {
          "cntry": "CH",
          "essrnd": 1,
          "imwbcrm": 0.02004985928279828,
          "response": 6
         },
         {
          "cntry": "CH",
          "essrnd": 1,
          "imwbcrm": 0.01702024891159098,
          "response": 7
         },
         {
          "cntry": "CH",
          "essrnd": 1,
          "imwbcrm": 0.012388836551074091,
          "response": 8
         },
         {
          "cntry": "CH",
          "essrnd": 1,
          "imwbcrm": 0.0023328958908499925,
          "response": 9
         },
         {
          "cntry": "CH",
          "essrnd": 1,
          "imwbcrm": 0.0008490065335682172,
          "response": 10
         },
         {
          "cntry": "CH",
          "essrnd": 1,
          "imwbcrm": 0.013655869521855395,
          "response": 88
         },
         {
          "cntry": "GB",
          "essrnd": 1,
          "imwbcrm": 0.08119094093713909,
          "response": 0
         },
         {
          "cntry": "GB",
          "essrnd": 1,
          "imwbcrm": 0.05110429646345486,
          "response": 1
         },
         {
          "cntry": "GB",
          "essrnd": 1,
          "imwbcrm": 0.13053935988901413,
          "response": 2
         },
         {
          "cntry": "GB",
          "essrnd": 1,
          "imwbcrm": 0.16218632296457358,
          "response": 3
         },
         {
          "cntry": "GB",
          "essrnd": 1,
          "imwbcrm": 0.17176762928941947,
          "response": 4
         },
         {
          "cntry": "GB",
          "essrnd": 1,
          "imwbcrm": 0.30264633402725494,
          "response": 5
         },
         {
          "cntry": "GB",
          "essrnd": 1,
          "imwbcrm": 0.037690612608829034,
          "response": 6
         },
         {
          "cntry": "GB",
          "essrnd": 1,
          "imwbcrm": 0.01950457868795533,
          "response": 7
         },
         {
          "cntry": "GB",
          "essrnd": 1,
          "imwbcrm": 0.011743251011926732,
          "response": 8
         },
         {
          "cntry": "GB",
          "essrnd": 1,
          "imwbcrm": 0.0037001607403265757,
          "response": 9
         },
         {
          "cntry": "GB",
          "essrnd": 1,
          "imwbcrm": 0.004768104480933942,
          "response": 10
         },
         {
          "cntry": "GB",
          "essrnd": 1,
          "imwbcrm": 0.0005558709881875992,
          "response": 77
         },
         {
          "cntry": "GB",
          "essrnd": 1,
          "imwbcrm": 0.022602537910984318,
          "response": 88
         },
         {
          "cntry": "IE",
          "essrnd": 1,
          "imwbcrm": 0.047470894739503805,
          "response": 0
         },
         {
          "cntry": "IE",
          "essrnd": 1,
          "imwbcrm": 0.040399454946577644,
          "response": 1
         },
         {
          "cntry": "IE",
          "essrnd": 1,
          "imwbcrm": 0.08954226127984372,
          "response": 2
         },
         {
          "cntry": "IE",
          "essrnd": 1,
          "imwbcrm": 0.13748069865502566,
          "response": 3
         },
         {
          "cntry": "IE",
          "essrnd": 1,
          "imwbcrm": 0.11398867381699183,
          "response": 4
         },
         {
          "cntry": "IE",
          "essrnd": 1,
          "imwbcrm": 0.3726920070545524,
          "response": 5
         },
         {
          "cntry": "IE",
          "essrnd": 1,
          "imwbcrm": 0.061703839981565985,
          "response": 6
         },
         {
          "cntry": "IE",
          "essrnd": 1,
          "imwbcrm": 0.033971271215100754,
          "response": 7
         },
         {
          "cntry": "IE",
          "essrnd": 1,
          "imwbcrm": 0.024353684147678044,
          "response": 8
         },
         {
          "cntry": "IE",
          "essrnd": 1,
          "imwbcrm": 0.008199140868775798,
          "response": 9
         },
         {
          "cntry": "IE",
          "essrnd": 1,
          "imwbcrm": 0.004915794509050217,
          "response": 10
         },
         {
          "cntry": "IE",
          "essrnd": 1,
          "imwbcrm": 0.062381914845502526,
          "response": 88
         },
         {
          "cntry": "IE",
          "essrnd": 1,
          "imwbcrm": 0.002900363939830596,
          "response": 99
         },
         {
          "cntry": "IL",
          "essrnd": 1,
          "imwbcrm": 0.14085235651241315,
          "response": 0
         },
         {
          "cntry": "IL",
          "essrnd": 1,
          "imwbcrm": 0.08079911427402336,
          "response": 1
         },
         {
          "cntry": "IL",
          "essrnd": 1,
          "imwbcrm": 0.15143173107680322,
          "response": 2
         },
         {
          "cntry": "IL",
          "essrnd": 1,
          "imwbcrm": 0.16121495861265514,
          "response": 3
         },
         {
          "cntry": "IL",
          "essrnd": 1,
          "imwbcrm": 0.10544201717506292,
          "response": 4
         },
         {
          "cntry": "IL",
          "essrnd": 1,
          "imwbcrm": 0.17998450560739535,
          "response": 5
         },
         {
          "cntry": "IL",
          "essrnd": 1,
          "imwbcrm": 0.043246962105378255,
          "response": 6
         },
         {
          "cntry": "IL",
          "essrnd": 1,
          "imwbcrm": 0.02675819684826641,
          "response": 7
         },
         {
          "cntry": "IL",
          "essrnd": 1,
          "imwbcrm": 0.022694969269675232,
          "response": 8
         },
         {
          "cntry": "IL",
          "essrnd": 1,
          "imwbcrm": 0.00899946622912877,
          "response": 9
         },
         {
          "cntry": "IL",
          "essrnd": 1,
          "imwbcrm": 0.007704528705811107,
          "response": 10
         },
         {
          "cntry": "IL",
          "essrnd": 1,
          "imwbcrm": 0.06847463993041249,
          "response": 88
         },
         {
          "cntry": "IL",
          "essrnd": 1,
          "imwbcrm": 0.00239655365297474,
          "response": 99
         }
        ],
        "data-9b23a6e9f43e6ebe0cbac9149b73baa1": [
         {
          "cntry": "BE",
          "essrnd": 1,
          "imwbcrm": 0.15455794714992865,
          "response": 0
         },
         {
          "cntry": "BE",
          "essrnd": 1,
          "imwbcrm": 0.10953900821826007,
          "response": 1
         },
         {
          "cntry": "BE",
          "essrnd": 1,
          "imwbcrm": 0.1588373260637508,
          "response": 2
         },
         {
          "cntry": "BE",
          "essrnd": 1,
          "imwbcrm": 0.18144669866451832,
          "response": 3
         },
         {
          "cntry": "BE",
          "essrnd": 1,
          "imwbcrm": 0.1311091033277121,
          "response": 4
         },
         {
          "cntry": "BE",
          "essrnd": 1,
          "imwbcrm": 0.17345892418466216,
          "response": 5
         },
         {
          "cntry": "BE",
          "essrnd": 1,
          "imwbcrm": 0.021837008174613256,
          "response": 6
         },
         {
          "cntry": "BE",
          "essrnd": 1,
          "imwbcrm": 0.0190198393956758,
          "response": 7
         },
         {
          "cntry": "BE",
          "essrnd": 1,
          "imwbcrm": 0.015924196969578964,
          "response": 8
         },
         {
          "cntry": "BE",
          "essrnd": 1,
          "imwbcrm": 0.0024818450298940554,
          "response": 9
         },
         {
          "cntry": "BE",
          "essrnd": 1,
          "imwbcrm": 0.004903270578596544,
          "response": 10
         },
         {
          "cntry": "BE",
          "essrnd": 1,
          "imwbcrm": 0.024922616367773917,
          "response": 88
         },
         {
          "cntry": "BE",
          "essrnd": 1,
          "imwbcrm": 0.0019622158750360603,
          "response": 99
         },
         {
          "cntry": "NL",
          "essrnd": 1,
          "imwbcrm": 0.1328271905786485,
          "response": 0
         },
         {
          "cntry": "NL",
          "essrnd": 1,
          "imwbcrm": 0.103795659310171,
          "response": 1
         },
         {
          "cntry": "NL",
          "essrnd": 1,
          "imwbcrm": 0.18405340249142985,
          "response": 2
         },
         {
          "cntry": "NL",
          "essrnd": 1,
          "imwbcrm": 0.22544601617612448,
          "response": 3
         },
         {
          "cntry": "NL",
          "essrnd": 1,
          "imwbcrm": 0.15575878298650897,
          "response": 4
         },
         {
          "cntry": "NL",
          "essrnd": 1,
          "imwbcrm": 0.12237730959071991,
          "response": 5
         },
         {
          "cntry": "NL",
          "essrnd": 1,
          "imwbcrm": 0.02468512487113303,
          "response": 6
         },
         {
          "cntry": "NL",
          "essrnd": 1,
          "imwbcrm": 0.025544547678373834,
          "response": 7
         },
         {
          "cntry": "NL",
          "essrnd": 1,
          "imwbcrm": 0.007401633198116242,
          "response": 8
         },
         {
          "cntry": "NL",
          "essrnd": 1,
          "imwbcrm": 0.007400140319678422,
          "response": 9
         },
         {
          "cntry": "NL",
          "essrnd": 1,
          "imwbcrm": 0.0004388015852741792,
          "response": 10
         },
         {
          "cntry": "NL",
          "essrnd": 1,
          "imwbcrm": 0.010271391213821639,
          "response": 88
         },
         {
          "cntry": "LU",
          "essrnd": 1,
          "imwbcrm": 0.19110139054928194,
          "response": 0
         },
         {
          "cntry": "LU",
          "essrnd": 1,
          "imwbcrm": 0.09966559977937157,
          "response": 1
         },
         {
          "cntry": "LU",
          "essrnd": 1,
          "imwbcrm": 0.1398898756773099,
          "response": 2
         },
         {
          "cntry": "LU",
          "essrnd": 1,
          "imwbcrm": 0.1264206553398166,
          "response": 3
         },
         {
          "cntry": "LU",
          "essrnd": 1,
          "imwbcrm": 0.09345196557292329,
          "response": 4
         },
         {
          "cntry": "LU",
          "essrnd": 1,
          "imwbcrm": 0.2010969704417014,
          "response": 5
         },
         {
          "cntry": "LU",
          "essrnd": 1,
          "imwbcrm": 0.030005394831740965,
          "response": 6
         },
         {
          "cntry": "LU",
          "essrnd": 1,
          "imwbcrm": 0.023020906096950646,
          "response": 7
         },
         {
          "cntry": "LU",
          "essrnd": 1,
          "imwbcrm": 0.02430008847890182,
          "response": 8
         },
         {
          "cntry": "LU",
          "essrnd": 1,
          "imwbcrm": 0.005707963676481666,
          "response": 9
         },
         {
          "cntry": "LU",
          "essrnd": 1,
          "imwbcrm": 0.004379077671608585,
          "response": 10
         },
         {
          "cntry": "LU",
          "essrnd": 1,
          "imwbcrm": 0.059243658958700866,
          "response": 88
         },
         {
          "cntry": "LU",
          "essrnd": 1,
          "imwbcrm": 0.0017164529252107538,
          "response": 99
         }
        ],
        "data-dee0794d1d9388a01d284df367d83ee9": [
         {
          "cntry": "DE",
          "essrnd": 1,
          "imwbcrm": 0.17828393096585446,
          "response": 0
         },
         {
          "cntry": "DE",
          "essrnd": 1,
          "imwbcrm": 0.08969116626963262,
          "response": 1
         },
         {
          "cntry": "DE",
          "essrnd": 1,
          "imwbcrm": 0.16370911381696596,
          "response": 2
         },
         {
          "cntry": "DE",
          "essrnd": 1,
          "imwbcrm": 0.19244755848653763,
          "response": 3
         },
         {
          "cntry": "DE",
          "essrnd": 1,
          "imwbcrm": 0.130273063920758,
          "response": 4
         },
         {
          "cntry": "DE",
          "essrnd": 1,
          "imwbcrm": 0.16337186470253384,
          "response": 5
         },
         {
          "cntry": "DE",
          "essrnd": 1,
          "imwbcrm": 0.02410164739065556,
          "response": 6
         },
         {
          "cntry": "DE",
          "essrnd": 1,
          "imwbcrm": 0.020263259535876623,
          "response": 7
         },
         {
          "cntry": "DE",
          "essrnd": 1,
          "imwbcrm": 0.010915858727354295,
          "response": 8
         },
         {
          "cntry": "DE",
          "essrnd": 1,
          "imwbcrm": 0.004313078142217327,
          "response": 9
         },
         {
          "cntry": "DE",
          "essrnd": 1,
          "imwbcrm": 0.005510863282278332,
          "response": 10
         },
         {
          "cntry": "DE",
          "essrnd": 1,
          "imwbcrm": 0.0005786850034371179,
          "response": 77
         },
         {
          "cntry": "DE",
          "essrnd": 1,
          "imwbcrm": 0.01653990975589791,
          "response": 88
         },
         {
          "cntry": "FR",
          "essrnd": 1,
          "imwbcrm": 0.15562859560215161,
          "response": 0
         },
         {
          "cntry": "FR",
          "essrnd": 1,
          "imwbcrm": 0.06864327472132527,
          "response": 1
         },
         {
          "cntry": "FR",
          "essrnd": 1,
          "imwbcrm": 0.12760296957569434,
          "response": 2
         },
         {
          "cntry": "FR",
          "essrnd": 1,
          "imwbcrm": 0.13887121126403312,
          "response": 3
         },
         {
          "cntry": "FR",
          "essrnd": 1,
          "imwbcrm": 0.10767771855488381,
          "response": 4
         },
         {
          "cntry": "FR",
          "essrnd": 1,
          "imwbcrm": 0.25120450585484194,
          "response": 5
         },
         {
          "cntry": "FR",
          "essrnd": 1,
          "imwbcrm": 0.04134466271924882,
          "response": 6
         },
         {
          "cntry": "FR",
          "essrnd": 1,
          "imwbcrm": 0.040182662191107846,
          "response": 7
         },
         {
          "cntry": "FR",
          "essrnd": 1,
          "imwbcrm": 0.02414930514253675,
          "response": 8
         },
         {
          "cntry": "FR",
          "essrnd": 1,
          "imwbcrm": 0.010212255993260928,
          "response": 9
         },
         {
          "cntry": "FR",
          "essrnd": 1,
          "imwbcrm": 0.015126713316509268,
          "response": 10
         },
         {
          "cntry": "FR",
          "essrnd": 1,
          "imwbcrm": 0.01935612506440636,
          "response": 88
         },
         {
          "cntry": "IT",
          "essrnd": 1,
          "imwbcrm": 0.10923872939256027,
          "response": 0
         },
         {
          "cntry": "IT",
          "essrnd": 1,
          "imwbcrm": 0.08453851600979283,
          "response": 1
         },
         {
          "cntry": "IT",
          "essrnd": 1,
          "imwbcrm": 0.1416295924812001,
          "response": 2
         },
         {
          "cntry": "IT",
          "essrnd": 1,
          "imwbcrm": 0.15349600056830665,
          "response": 3
         },
         {
          "cntry": "IT",
          "essrnd": 1,
          "imwbcrm": 0.11534675450852479,
          "response": 4
         },
         {
          "cntry": "IT",
          "essrnd": 1,
          "imwbcrm": 0.18481316016967492,
          "response": 5
         },
         {
          "cntry": "IT",
          "essrnd": 1,
          "imwbcrm": 0.07443807356923511,
          "response": 6
         },
         {
          "cntry": "IT",
          "essrnd": 1,
          "imwbcrm": 0.04347309933603232,
          "response": 7
         },
         {
          "cntry": "IT",
          "essrnd": 1,
          "imwbcrm": 0.035943226144598786,
          "response": 8
         },
         {
          "cntry": "IT",
          "essrnd": 1,
          "imwbcrm": 0.00954834942300218,
          "response": 9
         },
         {
          "cntry": "IT",
          "essrnd": 1,
          "imwbcrm": 0.008532956957606606,
          "response": 10
         },
         {
          "cntry": "IT",
          "essrnd": 1,
          "imwbcrm": 0.03900154143946524,
          "response": 88
         }
        ],
        "data-e573fffa920d745ac77782414911ffaf": [
         {
          "cntry": "PL",
          "essrnd": 7,
          "imwbcrm": 0.021360119058762433,
          "response": 0
         },
         {
          "cntry": "PL",
          "essrnd": 7,
          "imwbcrm": 0.03331980426235146,
          "response": 1
         },
         {
          "cntry": "PL",
          "essrnd": 7,
          "imwbcrm": 0.061605083229167856,
          "response": 2
         },
         {
          "cntry": "PL",
          "essrnd": 7,
          "imwbcrm": 0.07721772753737667,
          "response": 3
         },
         {
          "cntry": "PL",
          "essrnd": 7,
          "imwbcrm": 0.07413052441375025,
          "response": 4
         },
         {
          "cntry": "PL",
          "essrnd": 7,
          "imwbcrm": 0.43060276187037105,
          "response": 5
         },
         {
          "cntry": "PL",
          "essrnd": 7,
          "imwbcrm": 0.05241086500634917,
          "response": 6
         },
         {
          "cntry": "PL",
          "essrnd": 7,
          "imwbcrm": 0.04160764849204555,
          "response": 7
         },
         {
          "cntry": "PL",
          "essrnd": 7,
          "imwbcrm": 0.020564932249467278,
          "response": 8
         },
         {
          "cntry": "PL",
          "essrnd": 7,
          "imwbcrm": 0.005121817159967289,
          "response": 9
         },
         {
          "cntry": "PL",
          "essrnd": 7,
          "imwbcrm": 0.0036566911367956765,
          "response": 10
         },
         {
          "cntry": "PL",
          "essrnd": 7,
          "imwbcrm": 0.1777009067928633,
          "response": 88
         },
         {
          "cntry": "PL",
          "essrnd": 7,
          "imwbcrm": 0.0007011187907319689,
          "response": 99
         },
         {
          "cntry": "HU",
          "essrnd": 7,
          "imwbcrm": 0.12537377884013948,
          "response": 0
         },
         {
          "cntry": "HU",
          "essrnd": 7,
          "imwbcrm": 0.047708128021019876,
          "response": 1
         },
         {
          "cntry": "HU",
          "essrnd": 7,
          "imwbcrm": 0.14289143143833402,
          "response": 2
         },
         {
          "cntry": "HU",
          "essrnd": 7,
          "imwbcrm": 0.15786846002971422,
          "response": 3
         },
         {
          "cntry": "HU",
          "essrnd": 7,
          "imwbcrm": 0.12655753260754607,
          "response": 4
         },
         {
          "cntry": "HU",
          "essrnd": 7,
          "imwbcrm": 0.2505868280508594,
          "response": 5
         },
         {
          "cntry": "HU",
          "essrnd": 7,
          "imwbcrm": 0.04330466286085916,
          "response": 6
         },
         {
          "cntry": "HU",
          "essrnd": 7,
          "imwbcrm": 0.029545575672758714,
          "response": 7
         },
         {
          "cntry": "HU",
          "essrnd": 7,
          "imwbcrm": 0.005276942225729203,
          "response": 8
         },
         {
          "cntry": "HU",
          "essrnd": 7,
          "imwbcrm": 0.0023606092419372372,
          "response": 9
         },
         {
          "cntry": "HU",
          "essrnd": 7,
          "imwbcrm": 0.00042252761879558407,
          "response": 10
         },
         {
          "cntry": "HU",
          "essrnd": 7,
          "imwbcrm": 0.0026272022206999895,
          "response": 77
         },
         {
          "cntry": "HU",
          "essrnd": 7,
          "imwbcrm": 0.06547632117160687,
          "response": 88
         },
         {
          "cntry": "CZ",
          "essrnd": 7,
          "imwbcrm": 0.10472302520477844,
          "response": 0
         },
         {
          "cntry": "CZ",
          "essrnd": 7,
          "imwbcrm": 0.0639583388599189,
          "response": 1
         },
         {
          "cntry": "CZ",
          "essrnd": 7,
          "imwbcrm": 0.1481538308634008,
          "response": 2
         },
         {
          "cntry": "CZ",
          "essrnd": 7,
          "imwbcrm": 0.19067972555452056,
          "response": 3
         },
         {
          "cntry": "CZ",
          "essrnd": 7,
          "imwbcrm": 0.15431560790214888,
          "response": 4
         },
         {
          "cntry": "CZ",
          "essrnd": 7,
          "imwbcrm": 0.2249590102109213,
          "response": 5
         },
         {
          "cntry": "CZ",
          "essrnd": 7,
          "imwbcrm": 0.03489086729269546,
          "response": 6
         },
         {
          "cntry": "CZ",
          "essrnd": 7,
          "imwbcrm": 0.02467351029193267,
          "response": 7
         },
         {
          "cntry": "CZ",
          "essrnd": 7,
          "imwbcrm": 0.009820825162976755,
          "response": 8
         },
         {
          "cntry": "CZ",
          "essrnd": 7,
          "imwbcrm": 0.00253591881839168,
          "response": 9
         },
         {
          "cntry": "CZ",
          "essrnd": 7,
          "imwbcrm": 0.00019242810447441991,
          "response": 10
         },
         {
          "cntry": "CZ",
          "essrnd": 7,
          "imwbcrm": 0.04109691173384019,
          "response": 88
         }
        ],
        "data-ede19eaeb1ec902cc0061da926655b2c": [
         {
          "cntry": "DE",
          "essrnd": 7,
          "imwbcrm": 0.09813827017717446,
          "response": 0
         },
         {
          "cntry": "DE",
          "essrnd": 7,
          "imwbcrm": 0.05817096527855598,
          "response": 1
         },
         {
          "cntry": "DE",
          "essrnd": 7,
          "imwbcrm": 0.13183473827451833,
          "response": 2
         },
         {
          "cntry": "DE",
          "essrnd": 7,
          "imwbcrm": 0.1885791177503266,
          "response": 3
         },
         {
          "cntry": "DE",
          "essrnd": 7,
          "imwbcrm": 0.16325884043822134,
          "response": 4
         },
         {
          "cntry": "DE",
          "essrnd": 7,
          "imwbcrm": 0.2448672124944537,
          "response": 5
         },
         {
          "cntry": "DE",
          "essrnd": 7,
          "imwbcrm": 0.037646780506017496,
          "response": 6
         },
         {
          "cntry": "DE",
          "essrnd": 7,
          "imwbcrm": 0.03286458315106957,
          "response": 7
         },
         {
          "cntry": "DE",
          "essrnd": 7,
          "imwbcrm": 0.019218854799800934,
          "response": 8
         },
         {
          "cntry": "DE",
          "essrnd": 7,
          "imwbcrm": 0.005751545300736666,
          "response": 9
         },
         {
          "cntry": "DE",
          "essrnd": 7,
          "imwbcrm": 0.003912399790102382,
          "response": 10
         },
         {
          "cntry": "DE",
          "essrnd": 7,
          "imwbcrm": 0.0011024105353058357,
          "response": 77
         },
         {
          "cntry": "DE",
          "essrnd": 7,
          "imwbcrm": 0.014654281503717071,
          "response": 88
         },
         {
          "cntry": "FR",
          "essrnd": 7,
          "imwbcrm": 0.07403157054746842,
          "response": 0
         },
         {
          "cntry": "FR",
          "essrnd": 7,
          "imwbcrm": 0.038099411135078524,
          "response": 1
         },
         {
          "cntry": "FR",
          "essrnd": 7,
          "imwbcrm": 0.09563717366228563,
          "response": 2
         },
         {
          "cntry": "FR",
          "essrnd": 7,
          "imwbcrm": 0.12761235630045045,
          "response": 3
         },
         {
          "cntry": "FR",
          "essrnd": 7,
          "imwbcrm": 0.12255282886748395,
          "response": 4
         },
         {
          "cntry": "FR",
          "essrnd": 7,
          "imwbcrm": 0.34561828742511425,
          "response": 5
         },
         {
          "cntry": "FR",
          "essrnd": 7,
          "imwbcrm": 0.05304801538288374,
          "response": 6
         },
         {
          "cntry": "FR",
          "essrnd": 7,
          "imwbcrm": 0.04658014652368002,
          "response": 7
         },
         {
          "cntry": "FR",
          "essrnd": 7,
          "imwbcrm": 0.036706057444197096,
          "response": 8
         },
         {
          "cntry": "FR",
          "essrnd": 7,
          "imwbcrm": 0.015362648117008715,
          "response": 9
         },
         {
          "cntry": "FR",
          "essrnd": 7,
          "imwbcrm": 0.02224255046287423,
          "response": 10
         },
         {
          "cntry": "FR",
          "essrnd": 7,
          "imwbcrm": 0.0035696774329046247,
          "response": 77
         },
         {
          "cntry": "FR",
          "essrnd": 7,
          "imwbcrm": 0.018939276698570824,
          "response": 88
         },
         {
          "cntry": "IT",
          "essrnd": 7,
          "imwbcrm": 0,
          "response": 0
         }
        ],
        "data-f3e56e9c0d1f5bb0b459b8ca17c57ba4": [
         {
          "cntry": "EE",
          "essrnd": 1,
          "imwbcrm": 0,
          "response": 0
         },
         {
          "cntry": "FI",
          "essrnd": 1,
          "imwbcrm": 0.07769109574279967,
          "response": 0
         },
         {
          "cntry": "FI",
          "essrnd": 1,
          "imwbcrm": 0.07543700361703477,
          "response": 1
         },
         {
          "cntry": "FI",
          "essrnd": 1,
          "imwbcrm": 0.1250335717849132,
          "response": 2
         },
         {
          "cntry": "FI",
          "essrnd": 1,
          "imwbcrm": 0.20646257073015692,
          "response": 3
         },
         {
          "cntry": "FI",
          "essrnd": 1,
          "imwbcrm": 0.21648552480365435,
          "response": 4
         },
         {
          "cntry": "FI",
          "essrnd": 1,
          "imwbcrm": 0.22298950886992522,
          "response": 5
         },
         {
          "cntry": "FI",
          "essrnd": 1,
          "imwbcrm": 0.030340336999656572,
          "response": 6
         },
         {
          "cntry": "FI",
          "essrnd": 1,
          "imwbcrm": 0.01750399066415547,
          "response": 7
         },
         {
          "cntry": "FI",
          "essrnd": 1,
          "imwbcrm": 0.008857807878049632,
          "response": 8
         },
         {
          "cntry": "FI",
          "essrnd": 1,
          "imwbcrm": 0.0050434825472513555,
          "response": 9
         },
         {
          "cntry": "FI",
          "essrnd": 1,
          "imwbcrm": 0.0004767661622634981,
          "response": 77
         },
         {
          "cntry": "FI",
          "essrnd": 1,
          "imwbcrm": 0.013178529743744664,
          "response": 88
         },
         {
          "cntry": "FI",
          "essrnd": 1,
          "imwbcrm": 0.0004998104563941585,
          "response": 99
         },
         {
          "cntry": "LT",
          "essrnd": 1,
          "imwbcrm": 0,
          "response": 0
         }
        ]
       },
       "vconcat": [
        {
         "hconcat": [
          {
           "data": {
            "name": "data-dee0794d1d9388a01d284df367d83ee9"
           },
           "encoding": {
            "color": {
             "field": "response",
             "legend": {
              "title": "Response"
             },
             "scale": {
              "domain": [
               0,
               1,
               2,
               3,
               4,
               5,
               6,
               7,
               8,
               9,
               10,
               77,
               88,
               99
              ],
              "range": [
               "red",
               "indianred",
               "salmon",
               "darkorange",
               "yellow",
               "skyblue",
               "dodgerblue",
               "steelblue",
               "blue",
               "midnightblue",
               "darkmagenta",
               "gray",
               "silver",
               "mistyrose"
              ]
             },
             "type": "ordinal"
            },
            "order": {
             "field": "response",
             "sort": "ascending",
             "type": "quantitative"
            },
            "x": {
             "field": "imwbcrm",
             "scale": {
              "domain": [
               0,
               1
              ]
             },
             "type": "quantitative"
            },
            "y": {
             "field": "cntry",
             "type": "nominal"
            }
           },
           "mark": "bar",
           "title": "Imm make crime worse/better * 2002 * 0-worse, 9-better"
          },
          {
           "data": {
            "name": "data-ede19eaeb1ec902cc0061da926655b2c"
           },
           "encoding": {
            "color": {
             "field": "response",
             "legend": {
              "title": "Response"
             },
             "scale": {
              "domain": [
               0,
               1,
               2,
               3,
               4,
               5,
               6,
               7,
               8,
               9,
               10,
               77,
               88,
               99
              ],
              "range": [
               "red",
               "indianred",
               "salmon",
               "darkorange",
               "yellow",
               "skyblue",
               "dodgerblue",
               "steelblue",
               "blue",
               "midnightblue",
               "darkmagenta",
               "gray",
               "silver",
               "mistyrose"
              ]
             },
             "type": "ordinal"
            },
            "order": {
             "field": "response",
             "sort": "ascending",
             "type": "quantitative"
            },
            "x": {
             "field": "imwbcrm",
             "scale": {
              "domain": [
               0,
               1
              ]
             },
             "type": "quantitative"
            },
            "y": {
             "field": "cntry",
             "type": "nominal"
            }
           },
           "mark": "bar",
           "title": "Imm make crime worse/better * 2014 * 0-worse, 9-better"
          }
         ]
        },
        {
         "hconcat": [
          {
           "data": {
            "name": "data-9b23a6e9f43e6ebe0cbac9149b73baa1"
           },
           "encoding": {
            "color": {
             "field": "response",
             "legend": {
              "title": "Response"
             },
             "scale": {
              "domain": [
               0,
               1,
               2,
               3,
               4,
               5,
               6,
               7,
               8,
               9,
               10,
               77,
               88,
               99
              ],
              "range": [
               "red",
               "indianred",
               "salmon",
               "darkorange",
               "yellow",
               "skyblue",
               "dodgerblue",
               "steelblue",
               "blue",
               "midnightblue",
               "darkmagenta",
               "gray",
               "silver",
               "mistyrose"
              ]
             },
             "type": "ordinal"
            },
            "order": {
             "field": "response",
             "sort": "ascending",
             "type": "quantitative"
            },
            "x": {
             "field": "imwbcrm",
             "scale": {
              "domain": [
               0,
               1
              ]
             },
             "type": "quantitative"
            },
            "y": {
             "field": "cntry",
             "type": "nominal"
            }
           },
           "mark": "bar",
           "title": "Imm make crime worse/better * 2002 * 0-worse, 9-better"
          },
          {
           "data": {
            "name": "data-8e592626beba32e881bd7abbd509b89d"
           },
           "encoding": {
            "color": {
             "field": "response",
             "legend": {
              "title": "Response"
             },
             "scale": {
              "domain": [
               0,
               1,
               2,
               3,
               4,
               5,
               6,
               7,
               8,
               9,
               10,
               77,
               88,
               99
              ],
              "range": [
               "red",
               "indianred",
               "salmon",
               "darkorange",
               "yellow",
               "skyblue",
               "dodgerblue",
               "steelblue",
               "blue",
               "midnightblue",
               "darkmagenta",
               "gray",
               "silver",
               "mistyrose"
              ]
             },
             "type": "ordinal"
            },
            "order": {
             "field": "response",
             "sort": "ascending",
             "type": "quantitative"
            },
            "x": {
             "field": "imwbcrm",
             "scale": {
              "domain": [
               0,
               1
              ]
             },
             "type": "quantitative"
            },
            "y": {
             "field": "cntry",
             "type": "nominal"
            }
           },
           "mark": "bar",
           "title": "Imm make crime worse/better * 2014 * 0-worse, 9-better"
          }
         ]
        },
        {
         "hconcat": [
          {
           "data": {
            "name": "data-83d758529012840407fb9970656b6af5"
           },
           "encoding": {
            "color": {
             "field": "response",
             "legend": {
              "title": "Response"
             },
             "scale": {
              "domain": [
               0,
               1,
               2,
               3,
               4,
               5,
               6,
               7,
               8,
               9,
               10,
               77,
               88,
               99
              ],
              "range": [
               "red",
               "indianred",
               "salmon",
               "darkorange",
               "yellow",
               "skyblue",
               "dodgerblue",
               "steelblue",
               "blue",
               "midnightblue",
               "darkmagenta",
               "gray",
               "silver",
               "mistyrose"
              ]
             },
             "type": "ordinal"
            },
            "order": {
             "field": "response",
             "sort": "ascending",
             "type": "quantitative"
            },
            "x": {
             "field": "imwbcrm",
             "scale": {
              "domain": [
               0,
               1
              ]
             },
             "type": "quantitative"
            },
            "y": {
             "field": "cntry",
             "type": "nominal"
            }
           },
           "mark": "bar",
           "title": "Imm make crime worse/better * 2002 * 0-worse, 9-better"
          },
          {
           "data": {
            "name": "data-36468ce4fb76e675d89876d150ede4c6"
           },
           "encoding": {
            "color": {
             "field": "response",
             "legend": {
              "title": "Response"
             },
             "scale": {
              "domain": [
               0,
               1,
               2,
               3,
               4,
               5,
               6,
               7,
               8,
               9,
               10,
               77,
               88,
               99
              ],
              "range": [
               "red",
               "indianred",
               "salmon",
               "darkorange",
               "yellow",
               "skyblue",
               "dodgerblue",
               "steelblue",
               "blue",
               "midnightblue",
               "darkmagenta",
               "gray",
               "silver",
               "mistyrose"
              ]
             },
             "type": "ordinal"
            },
            "order": {
             "field": "response",
             "sort": "ascending",
             "type": "quantitative"
            },
            "x": {
             "field": "imwbcrm",
             "scale": {
              "domain": [
               0,
               1
              ]
             },
             "type": "quantitative"
            },
            "y": {
             "field": "cntry",
             "type": "nominal"
            }
           },
           "mark": "bar",
           "title": "Imm make crime worse/better * 2014 * 0-worse, 9-better"
          }
         ]
        },
        {
         "hconcat": [
          {
           "data": {
            "name": "data-5de495badc251cecad63bea265d87353"
           },
           "encoding": {
            "color": {
             "field": "response",
             "legend": {
              "title": "Response"
             },
             "scale": {
              "domain": [
               0,
               1,
               2,
               3,
               4,
               5,
               6,
               7,
               8,
               9,
               10,
               77,
               88,
               99
              ],
              "range": [
               "red",
               "indianred",
               "salmon",
               "darkorange",
               "yellow",
               "skyblue",
               "dodgerblue",
               "steelblue",
               "blue",
               "midnightblue",
               "darkmagenta",
               "gray",
               "silver",
               "mistyrose"
              ]
             },
             "type": "ordinal"
            },
            "order": {
             "field": "response",
             "sort": "ascending",
             "type": "quantitative"
            },
            "x": {
             "field": "imwbcrm",
             "scale": {
              "domain": [
               0,
               1
              ]
             },
             "type": "quantitative"
            },
            "y": {
             "field": "cntry",
             "type": "nominal"
            }
           },
           "mark": "bar",
           "title": "Imm make crime worse/better * 2002 * 0-worse, 9-better"
          },
          {
           "data": {
            "name": "data-e573fffa920d745ac77782414911ffaf"
           },
           "encoding": {
            "color": {
             "field": "response",
             "legend": {
              "title": "Response"
             },
             "scale": {
              "domain": [
               0,
               1,
               2,
               3,
               4,
               5,
               6,
               7,
               8,
               9,
               10,
               77,
               88,
               99
              ],
              "range": [
               "red",
               "indianred",
               "salmon",
               "darkorange",
               "yellow",
               "skyblue",
               "dodgerblue",
               "steelblue",
               "blue",
               "midnightblue",
               "darkmagenta",
               "gray",
               "silver",
               "mistyrose"
              ]
             },
             "type": "ordinal"
            },
            "order": {
             "field": "response",
             "sort": "ascending",
             "type": "quantitative"
            },
            "x": {
             "field": "imwbcrm",
             "scale": {
              "domain": [
               0,
               1
              ]
             },
             "type": "quantitative"
            },
            "y": {
             "field": "cntry",
             "type": "nominal"
            }
           },
           "mark": "bar",
           "title": "Imm make crime worse/better * 2014 * 0-worse, 9-better"
          }
         ]
        },
        {
         "hconcat": [
          {
           "data": {
            "name": "data-f3e56e9c0d1f5bb0b459b8ca17c57ba4"
           },
           "encoding": {
            "color": {
             "field": "response",
             "legend": {
              "title": "Response"
             },
             "scale": {
              "domain": [
               0,
               1,
               2,
               3,
               4,
               5,
               6,
               7,
               8,
               9,
               10,
               77,
               88,
               99
              ],
              "range": [
               "red",
               "indianred",
               "salmon",
               "darkorange",
               "yellow",
               "skyblue",
               "dodgerblue",
               "steelblue",
               "blue",
               "midnightblue",
               "darkmagenta",
               "gray",
               "silver",
               "mistyrose"
              ]
             },
             "type": "ordinal"
            },
            "order": {
             "field": "response",
             "sort": "ascending",
             "type": "quantitative"
            },
            "x": {
             "field": "imwbcrm",
             "scale": {
              "domain": [
               0,
               1
              ]
             },
             "type": "quantitative"
            },
            "y": {
             "field": "cntry",
             "type": "nominal"
            }
           },
           "mark": "bar",
           "title": "Imm make crime worse/better * 2002 * 0-worse, 9-better"
          },
          {
           "data": {
            "name": "data-058336e93b80a827ad22acec181a09ca"
           },
           "encoding": {
            "color": {
             "field": "response",
             "legend": {
              "title": "Response"
             },
             "scale": {
              "domain": [
               0,
               1,
               2,
               3,
               4,
               5,
               6,
               7,
               8,
               9,
               10,
               77,
               88,
               99
              ],
              "range": [
               "red",
               "indianred",
               "salmon",
               "darkorange",
               "yellow",
               "skyblue",
               "dodgerblue",
               "steelblue",
               "blue",
               "midnightblue",
               "darkmagenta",
               "gray",
               "silver",
               "mistyrose"
              ]
             },
             "type": "ordinal"
            },
            "order": {
             "field": "response",
             "sort": "ascending",
             "type": "quantitative"
            },
            "x": {
             "field": "imwbcrm",
             "scale": {
              "domain": [
               0,
               1
              ]
             },
             "type": "quantitative"
            },
            "y": {
             "field": "cntry",
             "type": "nominal"
            }
           },
           "mark": "bar",
           "title": "Imm make crime worse/better * 2014 * 0-worse, 9-better"
          }
         ]
        },
        {
         "hconcat": [
          {
           "data": {
            "name": "data-9ab8818a8e9a83b12550ca92dc8b93f4"
           },
           "encoding": {
            "color": {
             "field": "response",
             "legend": {
              "title": "Response"
             },
             "scale": {
              "domain": [
               0,
               1,
               2,
               3,
               4,
               5,
               6,
               7,
               8,
               9,
               10,
               77,
               88,
               99
              ],
              "range": [
               "red",
               "indianred",
               "salmon",
               "darkorange",
               "yellow",
               "skyblue",
               "dodgerblue",
               "steelblue",
               "blue",
               "midnightblue",
               "darkmagenta",
               "gray",
               "silver",
               "mistyrose"
              ]
             },
             "type": "ordinal"
            },
            "order": {
             "field": "response",
             "sort": "ascending",
             "type": "quantitative"
            },
            "x": {
             "field": "imwbcrm",
             "scale": {
              "domain": [
               0,
               1
              ]
             },
             "type": "quantitative"
            },
            "y": {
             "field": "cntry",
             "type": "nominal"
            }
           },
           "mark": "bar",
           "title": "Imm make crime worse/better * 2002 * 0-worse, 9-better"
          },
          {
           "data": {
            "name": "data-6c3d3feeefb95c7ca2ae9e5c7a058204"
           },
           "encoding": {
            "color": {
             "field": "response",
             "legend": {
              "title": "Response"
             },
             "scale": {
              "domain": [
               0,
               1,
               2,
               3,
               4,
               5,
               6,
               7,
               8,
               9,
               10,
               77,
               88,
               99
              ],
              "range": [
               "red",
               "indianred",
               "salmon",
               "darkorange",
               "yellow",
               "skyblue",
               "dodgerblue",
               "steelblue",
               "blue",
               "midnightblue",
               "darkmagenta",
               "gray",
               "silver",
               "mistyrose"
              ]
             },
             "type": "ordinal"
            },
            "order": {
             "field": "response",
             "sort": "ascending",
             "type": "quantitative"
            },
            "x": {
             "field": "imwbcrm",
             "scale": {
              "domain": [
               0,
               1
              ]
             },
             "type": "quantitative"
            },
            "y": {
             "field": "cntry",
             "type": "nominal"
            }
           },
           "mark": "bar",
           "title": "Imm make crime worse/better * 2014 * 0-worse, 9-better"
          }
         ]
        }
       ]
      },
      "image/png": "[encoded data removed]",
      "text/plain": [
       "<VegaLite 2 object>\n",
       "\n",
       "If you see this message, it means the renderer has not been properly enabled\n",
       "for the frontend that you are using. For more information, see\n",
       "https://altair-viz.github.io/user_guide/troubleshooting.html\n"
      ]
     },
     "execution_count": 113,
     "metadata": {},
     "output_type": "execute_result"
    }
   ],
   "source": [
    "utils.multigroup_plot(imm, ALL, 'imwbcrm')"
   ]
  },
  {
   "cell_type": "code",
   "execution_count": 115,
   "metadata": {},
   "outputs": [
    {
     "data": {
      "application/vnd.vegalite.v2+json": {
       "$schema": "https://vega.github.io/schema/vega-lite/v2.6.0.json",
       "config": {
        "view": {
         "height": 300,
         "width": 400
        }
       },
       "datasets": {
        "data-0d49b1d1904c687427b13e95d0a918b8": [
         {
          "acetalv": 0.46660823437588544,
          "cntry": "EE",
          "essrnd": 7,
          "response": 1
         },
         {
          "acetalv": 0.40335308959231536,
          "cntry": "EE",
          "essrnd": 7,
          "response": 2
         },
         {
          "acetalv": 0.12426633569264055,
          "cntry": "EE",
          "essrnd": 7,
          "response": 3
         },
         {
          "acetalv": 0.005772340339168779,
          "cntry": "EE",
          "essrnd": 7,
          "response": 8
         },
         {
          "acetalv": 0.5381179391877019,
          "cntry": "FI",
          "essrnd": 7,
          "response": 1
         },
         {
          "acetalv": 0.38363657939292145,
          "cntry": "FI",
          "essrnd": 7,
          "response": 2
         },
         {
          "acetalv": 0.06932606510769544,
          "cntry": "FI",
          "essrnd": 7,
          "response": 3
         },
         {
          "acetalv": 0.0008540423918263966,
          "cntry": "FI",
          "essrnd": 7,
          "response": 7
         },
         {
          "acetalv": 0.00806537391985532,
          "cntry": "FI",
          "essrnd": 7,
          "response": 8
         },
         {
          "acetalv": 0.6168586757518214,
          "cntry": "LT",
          "essrnd": 7,
          "response": 1
         },
         {
          "acetalv": 0.3036222473086004,
          "cntry": "LT",
          "essrnd": 7,
          "response": 2
         },
         {
          "acetalv": 0.047475645912843485,
          "cntry": "LT",
          "essrnd": 7,
          "response": 3
         },
         {
          "acetalv": 0.03204343102673609,
          "cntry": "LT",
          "essrnd": 7,
          "response": 8
         }
        ],
        "data-2af189c47f0b6ea638032600a6283708": [
         {
          "acetalv": 0.83935240597563,
          "cntry": "PL",
          "essrnd": 1,
          "response": 1
         },
         {
          "acetalv": 0.11504959651951893,
          "cntry": "PL",
          "essrnd": 1,
          "response": 2
         },
         {
          "acetalv": 0.025287039301934603,
          "cntry": "PL",
          "essrnd": 1,
          "response": 3
         },
         {
          "acetalv": 0.01925021214641982,
          "cntry": "PL",
          "essrnd": 1,
          "response": 8
         },
         {
          "acetalv": 0.0010607460564988735,
          "cntry": "PL",
          "essrnd": 1,
          "response": 9
         },
         {
          "acetalv": 0.6421559574204022,
          "cntry": "HU",
          "essrnd": 1,
          "response": 1
         },
         {
          "acetalv": 0.3169262606870411,
          "cntry": "HU",
          "essrnd": 1,
          "response": 2
         },
         {
          "acetalv": 0.029062722562730684,
          "cntry": "HU",
          "essrnd": 1,
          "response": 3
         },
         {
          "acetalv": 0.011331376905894749,
          "cntry": "HU",
          "essrnd": 1,
          "response": 8
         },
         {
          "acetalv": 0.0005236824239329151,
          "cntry": "HU",
          "essrnd": 1,
          "response": 9
         },
         {
          "acetalv": 0.43076090036401293,
          "cntry": "CZ",
          "essrnd": 1,
          "response": 1
         },
         {
          "acetalv": 0.4850433520000448,
          "cntry": "CZ",
          "essrnd": 1,
          "response": 2
         },
         {
          "acetalv": 0.054138203184913344,
          "cntry": "CZ",
          "essrnd": 1,
          "response": 3
         },
         {
          "acetalv": 0.014431282789792731,
          "cntry": "CZ",
          "essrnd": 1,
          "response": 8
         },
         {
          "acetalv": 0.015626261661236332,
          "cntry": "CZ",
          "essrnd": 1,
          "response": 9
         }
        ],
        "data-46a07f5dd2275453066b206e5fc11812": [
         {
          "acetalv": 0.2674387760747851,
          "cntry": "CH",
          "essrnd": 7,
          "response": 1
         },
         {
          "acetalv": 0.510340372086093,
          "cntry": "CH",
          "essrnd": 7,
          "response": 2
         },
         {
          "acetalv": 0.2145187016113395,
          "cntry": "CH",
          "essrnd": 7,
          "response": 3
         },
         {
          "acetalv": 0.007702150227783561,
          "cntry": "CH",
          "essrnd": 7,
          "response": 8
         },
         {
          "acetalv": 0.36129966327636204,
          "cntry": "GB",
          "essrnd": 7,
          "response": 1
         },
         {
          "acetalv": 0.4310038014288744,
          "cntry": "GB",
          "essrnd": 7,
          "response": 2
         },
         {
          "acetalv": 0.20488079861286188,
          "cntry": "GB",
          "essrnd": 7,
          "response": 3
         },
         {
          "acetalv": 0.0028157366819031916,
          "cntry": "GB",
          "essrnd": 7,
          "response": 8
         },
         {
          "acetalv": 0.35265435347586344,
          "cntry": "IE",
          "essrnd": 7,
          "response": 1
         },
         {
          "acetalv": 0.4979630639272257,
          "cntry": "IE",
          "essrnd": 7,
          "response": 2
         },
         {
          "acetalv": 0.14318087790730594,
          "cntry": "IE",
          "essrnd": 7,
          "response": 3
         },
         {
          "acetalv": 0.002022090251466391,
          "cntry": "IE",
          "essrnd": 7,
          "response": 7
         },
         {
          "acetalv": 0.004179614438142028,
          "cntry": "IE",
          "essrnd": 7,
          "response": 8
         },
         {
          "acetalv": 0.6455885158213702,
          "cntry": "IL",
          "essrnd": 7,
          "response": 1
         },
         {
          "acetalv": 0.21475255983234803,
          "cntry": "IL",
          "essrnd": 7,
          "response": 2
         },
         {
          "acetalv": 0.0816846144129707,
          "cntry": "IL",
          "essrnd": 7,
          "response": 3
         },
         {
          "acetalv": 0.057974309933310875,
          "cntry": "IL",
          "essrnd": 7,
          "response": 8
         }
        ],
        "data-56a1b99caf4707785e9ee973229f6c83": [
         {
          "acetalv": 0.38771520953491984,
          "cntry": "ES",
          "essrnd": 1,
          "response": 1
         },
         {
          "acetalv": 0.4328944429005226,
          "cntry": "ES",
          "essrnd": 1,
          "response": 2
         },
         {
          "acetalv": 0.1328437581384568,
          "cntry": "ES",
          "essrnd": 1,
          "response": 3
         },
         {
          "acetalv": 0.003989916122989695,
          "cntry": "ES",
          "essrnd": 1,
          "response": 7
         },
         {
          "acetalv": 0.04255667330311199,
          "cntry": "ES",
          "essrnd": 1,
          "response": 8
         },
         {
          "acetalv": 0.5163788864971574,
          "cntry": "PT",
          "essrnd": 1,
          "response": 1
         },
         {
          "acetalv": 0.3763487312710159,
          "cntry": "PT",
          "essrnd": 1,
          "response": 2
         },
         {
          "acetalv": 0.07128919287663239,
          "cntry": "PT",
          "essrnd": 1,
          "response": 3
         },
         {
          "acetalv": 0.00421026891611493,
          "cntry": "PT",
          "essrnd": 1,
          "response": 7
         },
         {
          "acetalv": 0.02547580979828695,
          "cntry": "PT",
          "essrnd": 1,
          "response": 8
         },
         {
          "acetalv": 0.0062971106407930435,
          "cntry": "PT",
          "essrnd": 1,
          "response": 9
         },
         {
          "acetalv": 0.1805362590000773,
          "cntry": "GR",
          "essrnd": 1,
          "response": 1
         },
         {
          "acetalv": 0.6216466653431211,
          "cntry": "GR",
          "essrnd": 1,
          "response": 2
         },
         {
          "acetalv": 0.18342207827501034,
          "cntry": "GR",
          "essrnd": 1,
          "response": 3
         },
         {
          "acetalv": 0.013330506109201303,
          "cntry": "GR",
          "essrnd": 1,
          "response": 8
         },
         {
          "acetalv": 0.0010644912725886752,
          "cntry": "GR",
          "essrnd": 1,
          "response": 9
         },
         {
          "acetalv": 0.35787473852009366,
          "cntry": "IT",
          "essrnd": 1,
          "response": 1
         },
         {
          "acetalv": 0.47475328131598576,
          "cntry": "IT",
          "essrnd": 1,
          "response": 2
         },
         {
          "acetalv": 0.10724304898394527,
          "cntry": "IT",
          "essrnd": 1,
          "response": 3
         },
         {
          "acetalv": 0.06012893117997515,
          "cntry": "IT",
          "essrnd": 1,
          "response": 8
         },
         {
          "acetalv": 0.5228066389392195,
          "cntry": "SI",
          "essrnd": 1,
          "response": 1
         },
         {
          "acetalv": 0.3649049582127181,
          "cntry": "SI",
          "essrnd": 1,
          "response": 2
         },
         {
          "acetalv": 0.10270928837826049,
          "cntry": "SI",
          "essrnd": 1,
          "response": 3
         },
         {
          "acetalv": 0.006129844619004589,
          "cntry": "SI",
          "essrnd": 1,
          "response": 8
         },
         {
          "acetalv": 0.0034492698507984157,
          "cntry": "SI",
          "essrnd": 1,
          "response": 9
         }
        ],
        "data-7be2e19618395ff5146fdcccbf7d3690": [
         {
          "acetalv": 0,
          "cntry": "EE",
          "essrnd": 1,
          "response": 0
         },
         {
          "acetalv": 0.6607105461643651,
          "cntry": "FI",
          "essrnd": 1,
          "response": 1
         },
         {
          "acetalv": 0.296250286289866,
          "cntry": "FI",
          "essrnd": 1,
          "response": 2
         },
         {
          "acetalv": 0.03861100521176932,
          "cntry": "FI",
          "essrnd": 1,
          "response": 3
         },
         {
          "acetalv": 0.003928351877603939,
          "cntry": "FI",
          "essrnd": 1,
          "response": 8
         },
         {
          "acetalv": 0.0004998104563941585,
          "cntry": "FI",
          "essrnd": 1,
          "response": 9
         },
         {
          "acetalv": 0,
          "cntry": "LT",
          "essrnd": 1,
          "response": 0
         }
        ],
        "data-9541c8a06b854463b850590b1d110cb1": [
         {
          "acetalv": 0.36116793674247033,
          "cntry": "DE",
          "essrnd": 1,
          "response": 1
         },
         {
          "acetalv": 0.5049777536140533,
          "cntry": "DE",
          "essrnd": 1,
          "response": 2
         },
         {
          "acetalv": 0.12436188654684106,
          "cntry": "DE",
          "essrnd": 1,
          "response": 3
         },
         {
          "acetalv": 0.0002505523859896586,
          "cntry": "DE",
          "essrnd": 1,
          "response": 7
         },
         {
          "acetalv": 0.009241870710643722,
          "cntry": "DE",
          "essrnd": 1,
          "response": 8
         },
         {
          "acetalv": 0.2931429441045302,
          "cntry": "FR",
          "essrnd": 1,
          "response": 1
         },
         {
          "acetalv": 0.43218092856845886,
          "cntry": "FR",
          "essrnd": 1,
          "response": 2
         },
         {
          "acetalv": 0.26509388088244057,
          "cntry": "FR",
          "essrnd": 1,
          "response": 3
         },
         {
          "acetalv": 0.009582246444570236,
          "cntry": "FR",
          "essrnd": 1,
          "response": 8
         },
         {
          "acetalv": 0.35787473852009366,
          "cntry": "IT",
          "essrnd": 1,
          "response": 1
         },
         {
          "acetalv": 0.47475328131598576,
          "cntry": "IT",
          "essrnd": 1,
          "response": 2
         },
         {
          "acetalv": 0.10724304898394527,
          "cntry": "IT",
          "essrnd": 1,
          "response": 3
         },
         {
          "acetalv": 0.06012893117997515,
          "cntry": "IT",
          "essrnd": 1,
          "response": 8
         }
        ],
        "data-9b96ff9acb869773c5a57f21e3eba5db": [
         {
          "acetalv": 0.46149986107786145,
          "cntry": "BE",
          "essrnd": 7,
          "response": 1
         },
         {
          "acetalv": 0.3837401432421893,
          "cntry": "BE",
          "essrnd": 7,
          "response": 2
         },
         {
          "acetalv": 0.15356567153044956,
          "cntry": "BE",
          "essrnd": 7,
          "response": 3
         },
         {
          "acetalv": 0.0011943241494986317,
          "cntry": "BE",
          "essrnd": 7,
          "response": 8
         },
         {
          "acetalv": 0.4726739023395959,
          "cntry": "NL",
          "essrnd": 7,
          "response": 1
         },
         {
          "acetalv": 0.3755631590529666,
          "cntry": "NL",
          "essrnd": 7,
          "response": 2
         },
         {
          "acetalv": 0.14973077287472528,
          "cntry": "NL",
          "essrnd": 7,
          "response": 3
         },
         {
          "acetalv": 0.002032165732712223,
          "cntry": "NL",
          "essrnd": 7,
          "response": 8
         },
         {
          "acetalv": 0,
          "cntry": "LU",
          "essrnd": 7,
          "response": 0
         }
        ],
        "data-b03084eaeb16cc02557b97add6252f9e": [
         {
          "acetalv": 0.7966826774295998,
          "cntry": "PL",
          "essrnd": 7,
          "response": 1
         },
         {
          "acetalv": 0.1737642238342629,
          "cntry": "PL",
          "essrnd": 7,
          "response": 2
         },
         {
          "acetalv": 0.014975959274119561,
          "cntry": "PL",
          "essrnd": 7,
          "response": 3
         },
         {
          "acetalv": 0.013312674993124666,
          "cntry": "PL",
          "essrnd": 7,
          "response": 8
         },
         {
          "acetalv": 0.001264464468892726,
          "cntry": "PL",
          "essrnd": 7,
          "response": 9
         },
         {
          "acetalv": 0.4607950838920493,
          "cntry": "HU",
          "essrnd": 7,
          "response": 1
         },
         {
          "acetalv": 0.43668521692176354,
          "cntry": "HU",
          "essrnd": 7,
          "response": 2
         },
         {
          "acetalv": 0.08536963310144761,
          "cntry": "HU",
          "essrnd": 7,
          "response": 3
         },
         {
          "acetalv": 0.0025546191547173294,
          "cntry": "HU",
          "essrnd": 7,
          "response": 7
         },
         {
          "acetalv": 0.014595446930022052,
          "cntry": "HU",
          "essrnd": 7,
          "response": 8
         },
         {
          "acetalv": 0.44569483083076655,
          "cntry": "CZ",
          "essrnd": 7,
          "response": 1
         },
         {
          "acetalv": 0.4508584752672044,
          "cntry": "CZ",
          "essrnd": 7,
          "response": 2
         },
         {
          "acetalv": 0.09397023689900966,
          "cntry": "CZ",
          "essrnd": 7,
          "response": 3
         },
         {
          "acetalv": 0.009476457003019039,
          "cntry": "CZ",
          "essrnd": 7,
          "response": 8
         }
        ],
        "data-b8b5ef9e7ee868237b2c549ba83dff1a": [
         {
          "acetalv": 0.36861610946029777,
          "cntry": "DE",
          "essrnd": 7,
          "response": 1
         },
         {
          "acetalv": 0.4792905324661714,
          "cntry": "DE",
          "essrnd": 7,
          "response": 2
         },
         {
          "acetalv": 0.14646413109277928,
          "cntry": "DE",
          "essrnd": 7,
          "response": 3
         },
         {
          "acetalv": 0.0014779332991358908,
          "cntry": "DE",
          "essrnd": 7,
          "response": 7
         },
         {
          "acetalv": 0.00415129368161681,
          "cntry": "DE",
          "essrnd": 7,
          "response": 8
         },
         {
          "acetalv": 0.30232516598701764,
          "cntry": "FR",
          "essrnd": 7,
          "response": 1
         },
         {
          "acetalv": 0.4370506274956259,
          "cntry": "FR",
          "essrnd": 7,
          "response": 2
         },
         {
          "acetalv": 0.25446823744762737,
          "cntry": "FR",
          "essrnd": 7,
          "response": 3
         },
         {
          "acetalv": 0.0005768822659818752,
          "cntry": "FR",
          "essrnd": 7,
          "response": 7
         },
         {
          "acetalv": 0.00557908680374753,
          "cntry": "FR",
          "essrnd": 7,
          "response": 8
         },
         {
          "acetalv": 0,
          "cntry": "IT",
          "essrnd": 7,
          "response": 0
         }
        ],
        "data-cafadc0a8946b88d31a45c38d1a401e4": [
         {
          "acetalv": 0.5826462185936765,
          "cntry": "BE",
          "essrnd": 1,
          "response": 1
         },
         {
          "acetalv": 0.2967864927427005,
          "cntry": "BE",
          "essrnd": 1,
          "response": 2
         },
         {
          "acetalv": 0.09758965853345232,
          "cntry": "BE",
          "essrnd": 1,
          "response": 3
         },
         {
          "acetalv": 0.02101541425513458,
          "cntry": "BE",
          "essrnd": 1,
          "response": 8
         },
         {
          "acetalv": 0.0019622158750360603,
          "cntry": "BE",
          "essrnd": 1,
          "response": 9
         },
         {
          "acetalv": 0.5645092344490116,
          "cntry": "NL",
          "essrnd": 1,
          "response": 1
         },
         {
          "acetalv": 0.34704852748390946,
          "cntry": "NL",
          "essrnd": 1,
          "response": 2
         },
         {
          "acetalv": 0.08515493328727126,
          "cntry": "NL",
          "essrnd": 1,
          "response": 3
         },
         {
          "acetalv": 0.0032873047798086534,
          "cntry": "NL",
          "essrnd": 1,
          "response": 8
         },
         {
          "acetalv": 0.4827260268712091,
          "cntry": "LU",
          "essrnd": 1,
          "response": 1
         },
         {
          "acetalv": 0.4025643906803995,
          "cntry": "LU",
          "essrnd": 1,
          "response": 2
         },
         {
          "acetalv": 0.08642968041165407,
          "cntry": "LU",
          "essrnd": 1,
          "response": 3
         },
         {
          "acetalv": 0.025334659730446536,
          "cntry": "LU",
          "essrnd": 1,
          "response": 8
         },
         {
          "acetalv": 0.0029452423062910197,
          "cntry": "LU",
          "essrnd": 1,
          "response": 9
         }
        ],
        "data-d33e91ad579b770ab9115b2c73655055": [
         {
          "acetalv": 0.33319070708157295,
          "cntry": "ES",
          "essrnd": 7,
          "response": 1
         },
         {
          "acetalv": 0.46624578614785694,
          "cntry": "ES",
          "essrnd": 7,
          "response": 2
         },
         {
          "acetalv": 0.18826688985382847,
          "cntry": "ES",
          "essrnd": 7,
          "response": 3
         },
         {
          "acetalv": 0.0021459392213258855,
          "cntry": "ES",
          "essrnd": 7,
          "response": 7
         },
         {
          "acetalv": 0.010150677695415064,
          "cntry": "ES",
          "essrnd": 7,
          "response": 8
         },
         {
          "acetalv": 0.6155596764939326,
          "cntry": "PT",
          "essrnd": 7,
          "response": 1
         },
         {
          "acetalv": 0.3075230662885296,
          "cntry": "PT",
          "essrnd": 7,
          "response": 2
         },
         {
          "acetalv": 0.06801152522327344,
          "cntry": "PT",
          "essrnd": 7,
          "response": 3
         },
         {
          "acetalv": 0.008905731994264813,
          "cntry": "PT",
          "essrnd": 7,
          "response": 8
         },
         {
          "acetalv": 0,
          "cntry": "GR",
          "essrnd": 7,
          "response": 0
         },
         {
          "acetalv": 0,
          "cntry": "IT",
          "essrnd": 7,
          "response": 0
         },
         {
          "acetalv": 0.42841638258606723,
          "cntry": "SI",
          "essrnd": 7,
          "response": 1
         },
         {
          "acetalv": 0.42641401825302555,
          "cntry": "SI",
          "essrnd": 7,
          "response": 2
         },
         {
          "acetalv": 0.13305867361214332,
          "cntry": "SI",
          "essrnd": 7,
          "response": 3
         },
         {
          "acetalv": 0.01150417197899164,
          "cntry": "SI",
          "essrnd": 7,
          "response": 8
         },
         {
          "acetalv": 0.0006067535697753218,
          "cntry": "SI",
          "essrnd": 7,
          "response": 9
         }
        ],
        "data-d57b6901f1ea7e618d7e80796aaef561": [
         {
          "acetalv": 0.3425222289783488,
          "cntry": "CH",
          "essrnd": 1,
          "response": 1
         },
         {
          "acetalv": 0.5000161795677238,
          "cntry": "CH",
          "essrnd": 1,
          "response": 2
         },
         {
          "acetalv": 0.1471946612085575,
          "cntry": "CH",
          "essrnd": 1,
          "response": 3
         },
         {
          "acetalv": 0.01026693024536922,
          "cntry": "CH",
          "essrnd": 1,
          "response": 8
         },
         {
          "acetalv": 0.46907332508254823,
          "cntry": "GB",
          "essrnd": 1,
          "response": 1
         },
         {
          "acetalv": 0.41037810580188844,
          "cntry": "GB",
          "essrnd": 1,
          "response": 2
         },
         {
          "acetalv": 0.11737085148988347,
          "cntry": "GB",
          "essrnd": 1,
          "response": 3
         },
         {
          "acetalv": 0.0005558709881875992,
          "cntry": "GB",
          "essrnd": 1,
          "response": 7
         },
         {
          "acetalv": 0.0026218466374911906,
          "cntry": "GB",
          "essrnd": 1,
          "response": 8
         },
         {
          "acetalv": 0.5838566305903407,
          "cntry": "IE",
          "essrnd": 1,
          "response": 1
         },
         {
          "acetalv": 0.340314798126868,
          "cntry": "IE",
          "essrnd": 1,
          "response": 2
         },
         {
          "acetalv": 0.04314668484787062,
          "cntry": "IE",
          "essrnd": 1,
          "response": 3
         },
         {
          "acetalv": 0.021201311616468807,
          "cntry": "IE",
          "essrnd": 1,
          "response": 8
         },
         {
          "acetalv": 0.011480574818450417,
          "cntry": "IE",
          "essrnd": 1,
          "response": 9
         },
         {
          "acetalv": 0.5518164774936616,
          "cntry": "IL",
          "essrnd": 1,
          "response": 1
         },
         {
          "acetalv": 0.25401157491339776,
          "cntry": "IL",
          "essrnd": 1,
          "response": 2
         },
         {
          "acetalv": 0.15040975524082145,
          "cntry": "IL",
          "essrnd": 1,
          "response": 3
         },
         {
          "acetalv": 0.03898945130951307,
          "cntry": "IL",
          "essrnd": 1,
          "response": 8
         },
         {
          "acetalv": 0.004772741042606342,
          "cntry": "IL",
          "essrnd": 1,
          "response": 9
         }
        ]
       },
       "vconcat": [
        {
         "hconcat": [
          {
           "data": {
            "name": "data-9541c8a06b854463b850590b1d110cb1"
           },
           "encoding": {
            "color": {
             "field": "response",
             "legend": {
              "title": "Response"
             },
             "scale": {
              "domain": [
               0,
               1,
               2,
               3,
               4,
               5,
               6,
               7,
               8,
               9,
               10,
               77,
               88,
               99
              ],
              "range": [
               "red",
               "indianred",
               "salmon",
               "darkorange",
               "yellow",
               "skyblue",
               "dodgerblue",
               "steelblue",
               "blue",
               "midnightblue",
               "darkmagenta",
               "gray",
               "silver",
               "mistyrose"
              ]
             },
             "type": "ordinal"
            },
            "order": {
             "field": "response",
             "sort": "ascending",
             "type": "quantitative"
            },
            "x": {
             "field": "acetalv",
             "scale": {
              "domain": [
               0,
               1
              ]
             },
             "type": "quantitative"
            },
            "y": {
             "field": "cntry",
             "type": "nominal"
            }
           },
           "mark": "bar",
           "title": "Ppl of min race/eth in area * 2002 * 1-alm none, 3-many, 789-ref/dk/na"
          },
          {
           "data": {
            "name": "data-b8b5ef9e7ee868237b2c549ba83dff1a"
           },
           "encoding": {
            "color": {
             "field": "response",
             "legend": {
              "title": "Response"
             },
             "scale": {
              "domain": [
               0,
               1,
               2,
               3,
               4,
               5,
               6,
               7,
               8,
               9,
               10,
               77,
               88,
               99
              ],
              "range": [
               "red",
               "indianred",
               "salmon",
               "darkorange",
               "yellow",
               "skyblue",
               "dodgerblue",
               "steelblue",
               "blue",
               "midnightblue",
               "darkmagenta",
               "gray",
               "silver",
               "mistyrose"
              ]
             },
             "type": "ordinal"
            },
            "order": {
             "field": "response",
             "sort": "ascending",
             "type": "quantitative"
            },
            "x": {
             "field": "acetalv",
             "scale": {
              "domain": [
               0,
               1
              ]
             },
             "type": "quantitative"
            },
            "y": {
             "field": "cntry",
             "type": "nominal"
            }
           },
           "mark": "bar",
           "title": "Ppl of min race/eth in area * 2014 * 1-alm none, 3-many, 789-ref/dk/na"
          }
         ]
        },
        {
         "hconcat": [
          {
           "data": {
            "name": "data-cafadc0a8946b88d31a45c38d1a401e4"
           },
           "encoding": {
            "color": {
             "field": "response",
             "legend": {
              "title": "Response"
             },
             "scale": {
              "domain": [
               0,
               1,
               2,
               3,
               4,
               5,
               6,
               7,
               8,
               9,
               10,
               77,
               88,
               99
              ],
              "range": [
               "red",
               "indianred",
               "salmon",
               "darkorange",
               "yellow",
               "skyblue",
               "dodgerblue",
               "steelblue",
               "blue",
               "midnightblue",
               "darkmagenta",
               "gray",
               "silver",
               "mistyrose"
              ]
             },
             "type": "ordinal"
            },
            "order": {
             "field": "response",
             "sort": "ascending",
             "type": "quantitative"
            },
            "x": {
             "field": "acetalv",
             "scale": {
              "domain": [
               0,
               1
              ]
             },
             "type": "quantitative"
            },
            "y": {
             "field": "cntry",
             "type": "nominal"
            }
           },
           "mark": "bar",
           "title": "Ppl of min race/eth in area * 2002 * 1-alm none, 3-many, 789-ref/dk/na"
          },
          {
           "data": {
            "name": "data-9b96ff9acb869773c5a57f21e3eba5db"
           },
           "encoding": {
            "color": {
             "field": "response",
             "legend": {
              "title": "Response"
             },
             "scale": {
              "domain": [
               0,
               1,
               2,
               3,
               4,
               5,
               6,
               7,
               8,
               9,
               10,
               77,
               88,
               99
              ],
              "range": [
               "red",
               "indianred",
               "salmon",
               "darkorange",
               "yellow",
               "skyblue",
               "dodgerblue",
               "steelblue",
               "blue",
               "midnightblue",
               "darkmagenta",
               "gray",
               "silver",
               "mistyrose"
              ]
             },
             "type": "ordinal"
            },
            "order": {
             "field": "response",
             "sort": "ascending",
             "type": "quantitative"
            },
            "x": {
             "field": "acetalv",
             "scale": {
              "domain": [
               0,
               1
              ]
             },
             "type": "quantitative"
            },
            "y": {
             "field": "cntry",
             "type": "nominal"
            }
           },
           "mark": "bar",
           "title": "Ppl of min race/eth in area * 2014 * 1-alm none, 3-many, 789-ref/dk/na"
          }
         ]
        },
        {
         "hconcat": [
          {
           "data": {
            "name": "data-56a1b99caf4707785e9ee973229f6c83"
           },
           "encoding": {
            "color": {
             "field": "response",
             "legend": {
              "title": "Response"
             },
             "scale": {
              "domain": [
               0,
               1,
               2,
               3,
               4,
               5,
               6,
               7,
               8,
               9,
               10,
               77,
               88,
               99
              ],
              "range": [
               "red",
               "indianred",
               "salmon",
               "darkorange",
               "yellow",
               "skyblue",
               "dodgerblue",
               "steelblue",
               "blue",
               "midnightblue",
               "darkmagenta",
               "gray",
               "silver",
               "mistyrose"
              ]
             },
             "type": "ordinal"
            },
            "order": {
             "field": "response",
             "sort": "ascending",
             "type": "quantitative"
            },
            "x": {
             "field": "acetalv",
             "scale": {
              "domain": [
               0,
               1
              ]
             },
             "type": "quantitative"
            },
            "y": {
             "field": "cntry",
             "type": "nominal"
            }
           },
           "mark": "bar",
           "title": "Ppl of min race/eth in area * 2002 * 1-alm none, 3-many, 789-ref/dk/na"
          },
          {
           "data": {
            "name": "data-d33e91ad579b770ab9115b2c73655055"
           },
           "encoding": {
            "color": {
             "field": "response",
             "legend": {
              "title": "Response"
             },
             "scale": {
              "domain": [
               0,
               1,
               2,
               3,
               4,
               5,
               6,
               7,
               8,
               9,
               10,
               77,
               88,
               99
              ],
              "range": [
               "red",
               "indianred",
               "salmon",
               "darkorange",
               "yellow",
               "skyblue",
               "dodgerblue",
               "steelblue",
               "blue",
               "midnightblue",
               "darkmagenta",
               "gray",
               "silver",
               "mistyrose"
              ]
             },
             "type": "ordinal"
            },
            "order": {
             "field": "response",
             "sort": "ascending",
             "type": "quantitative"
            },
            "x": {
             "field": "acetalv",
             "scale": {
              "domain": [
               0,
               1
              ]
             },
             "type": "quantitative"
            },
            "y": {
             "field": "cntry",
             "type": "nominal"
            }
           },
           "mark": "bar",
           "title": "Ppl of min race/eth in area * 2014 * 1-alm none, 3-many, 789-ref/dk/na"
          }
         ]
        },
        {
         "hconcat": [
          {
           "data": {
            "name": "data-2af189c47f0b6ea638032600a6283708"
           },
           "encoding": {
            "color": {
             "field": "response",
             "legend": {
              "title": "Response"
             },
             "scale": {
              "domain": [
               0,
               1,
               2,
               3,
               4,
               5,
               6,
               7,
               8,
               9,
               10,
               77,
               88,
               99
              ],
              "range": [
               "red",
               "indianred",
               "salmon",
               "darkorange",
               "yellow",
               "skyblue",
               "dodgerblue",
               "steelblue",
               "blue",
               "midnightblue",
               "darkmagenta",
               "gray",
               "silver",
               "mistyrose"
              ]
             },
             "type": "ordinal"
            },
            "order": {
             "field": "response",
             "sort": "ascending",
             "type": "quantitative"
            },
            "x": {
             "field": "acetalv",
             "scale": {
              "domain": [
               0,
               1
              ]
             },
             "type": "quantitative"
            },
            "y": {
             "field": "cntry",
             "type": "nominal"
            }
           },
           "mark": "bar",
           "title": "Ppl of min race/eth in area * 2002 * 1-alm none, 3-many, 789-ref/dk/na"
          },
          {
           "data": {
            "name": "data-b03084eaeb16cc02557b97add6252f9e"
           },
           "encoding": {
            "color": {
             "field": "response",
             "legend": {
              "title": "Response"
             },
             "scale": {
              "domain": [
               0,
               1,
               2,
               3,
               4,
               5,
               6,
               7,
               8,
               9,
               10,
               77,
               88,
               99
              ],
              "range": [
               "red",
               "indianred",
               "salmon",
               "darkorange",
               "yellow",
               "skyblue",
               "dodgerblue",
               "steelblue",
               "blue",
               "midnightblue",
               "darkmagenta",
               "gray",
               "silver",
               "mistyrose"
              ]
             },
             "type": "ordinal"
            },
            "order": {
             "field": "response",
             "sort": "ascending",
             "type": "quantitative"
            },
            "x": {
             "field": "acetalv",
             "scale": {
              "domain": [
               0,
               1
              ]
             },
             "type": "quantitative"
            },
            "y": {
             "field": "cntry",
             "type": "nominal"
            }
           },
           "mark": "bar",
           "title": "Ppl of min race/eth in area * 2014 * 1-alm none, 3-many, 789-ref/dk/na"
          }
         ]
        },
        {
         "hconcat": [
          {
           "data": {
            "name": "data-7be2e19618395ff5146fdcccbf7d3690"
           },
           "encoding": {
            "color": {
             "field": "response",
             "legend": {
              "title": "Response"
             },
             "scale": {
              "domain": [
               0,
               1,
               2,
               3,
               4,
               5,
               6,
               7,
               8,
               9,
               10,
               77,
               88,
               99
              ],
              "range": [
               "red",
               "indianred",
               "salmon",
               "darkorange",
               "yellow",
               "skyblue",
               "dodgerblue",
               "steelblue",
               "blue",
               "midnightblue",
               "darkmagenta",
               "gray",
               "silver",
               "mistyrose"
              ]
             },
             "type": "ordinal"
            },
            "order": {
             "field": "response",
             "sort": "ascending",
             "type": "quantitative"
            },
            "x": {
             "field": "acetalv",
             "scale": {
              "domain": [
               0,
               1
              ]
             },
             "type": "quantitative"
            },
            "y": {
             "field": "cntry",
             "type": "nominal"
            }
           },
           "mark": "bar",
           "title": "Ppl of min race/eth in area * 2002 * 1-alm none, 3-many, 789-ref/dk/na"
          },
          {
           "data": {
            "name": "data-0d49b1d1904c687427b13e95d0a918b8"
           },
           "encoding": {
            "color": {
             "field": "response",
             "legend": {
              "title": "Response"
             },
             "scale": {
              "domain": [
               0,
               1,
               2,
               3,
               4,
               5,
               6,
               7,
               8,
               9,
               10,
               77,
               88,
               99
              ],
              "range": [
               "red",
               "indianred",
               "salmon",
               "darkorange",
               "yellow",
               "skyblue",
               "dodgerblue",
               "steelblue",
               "blue",
               "midnightblue",
               "darkmagenta",
               "gray",
               "silver",
               "mistyrose"
              ]
             },
             "type": "ordinal"
            },
            "order": {
             "field": "response",
             "sort": "ascending",
             "type": "quantitative"
            },
            "x": {
             "field": "acetalv",
             "scale": {
              "domain": [
               0,
               1
              ]
             },
             "type": "quantitative"
            },
            "y": {
             "field": "cntry",
             "type": "nominal"
            }
           },
           "mark": "bar",
           "title": "Ppl of min race/eth in area * 2014 * 1-alm none, 3-many, 789-ref/dk/na"
          }
         ]
        },
        {
         "hconcat": [
          {
           "data": {
            "name": "data-d57b6901f1ea7e618d7e80796aaef561"
           },
           "encoding": {
            "color": {
             "field": "response",
             "legend": {
              "title": "Response"
             },
             "scale": {
              "domain": [
               0,
               1,
               2,
               3,
               4,
               5,
               6,
               7,
               8,
               9,
               10,
               77,
               88,
               99
              ],
              "range": [
               "red",
               "indianred",
               "salmon",
               "darkorange",
               "yellow",
               "skyblue",
               "dodgerblue",
               "steelblue",
               "blue",
               "midnightblue",
               "darkmagenta",
               "gray",
               "silver",
               "mistyrose"
              ]
             },
             "type": "ordinal"
            },
            "order": {
             "field": "response",
             "sort": "ascending",
             "type": "quantitative"
            },
            "x": {
             "field": "acetalv",
             "scale": {
              "domain": [
               0,
               1
              ]
             },
             "type": "quantitative"
            },
            "y": {
             "field": "cntry",
             "type": "nominal"
            }
           },
           "mark": "bar",
           "title": "Ppl of min race/eth in area * 2002 * 1-alm none, 3-many, 789-ref/dk/na"
          },
          {
           "data": {
            "name": "data-46a07f5dd2275453066b206e5fc11812"
           },
           "encoding": {
            "color": {
             "field": "response",
             "legend": {
              "title": "Response"
             },
             "scale": {
              "domain": [
               0,
               1,
               2,
               3,
               4,
               5,
               6,
               7,
               8,
               9,
               10,
               77,
               88,
               99
              ],
              "range": [
               "red",
               "indianred",
               "salmon",
               "darkorange",
               "yellow",
               "skyblue",
               "dodgerblue",
               "steelblue",
               "blue",
               "midnightblue",
               "darkmagenta",
               "gray",
               "silver",
               "mistyrose"
              ]
             },
             "type": "ordinal"
            },
            "order": {
             "field": "response",
             "sort": "ascending",
             "type": "quantitative"
            },
            "x": {
             "field": "acetalv",
             "scale": {
              "domain": [
               0,
               1
              ]
             },
             "type": "quantitative"
            },
            "y": {
             "field": "cntry",
             "type": "nominal"
            }
           },
           "mark": "bar",
           "title": "Ppl of min race/eth in area * 2014 * 1-alm none, 3-many, 789-ref/dk/na"
          }
         ]
        }
       ]
      },
      "image/png": "[encoded data removed]",
      "text/plain": [
       "<VegaLite 2 object>\n",
       "\n",
       "If you see this message, it means the renderer has not been properly enabled\n",
       "for the frontend that you are using. For more information, see\n",
       "https://altair-viz.github.io/user_guide/troubleshooting.html\n"
      ]
     },
     "execution_count": 115,
     "metadata": {},
     "output_type": "execute_result"
    }
   ],
   "source": [
    "utils.multigroup_plot(imm, ALL, 'acetalv')"
   ]
  },
  {
   "cell_type": "code",
   "execution_count": 116,
   "metadata": {},
   "outputs": [
    {
     "data": {
      "application/vnd.vegalite.v2+json": {
       "$schema": "https://vega.github.io/schema/vega-lite/v2.6.0.json",
       "config": {
        "view": {
         "height": 300,
         "width": 400
        }
       },
       "datasets": {
        "data-065d4348547cccfd69e26eeee683203a": [
         {
          "cntry": "DE",
          "essrnd": 7,
          "gvrfgap": 0.07508338232776508,
          "response": 1
         },
         {
          "cntry": "DE",
          "essrnd": 7,
          "gvrfgap": 0.3142196374757025,
          "response": 2
         },
         {
          "cntry": "DE",
          "essrnd": 7,
          "gvrfgap": 0.2644546004350299,
          "response": 3
         },
         {
          "cntry": "DE",
          "essrnd": 7,
          "gvrfgap": 0.2611915185991371,
          "response": 4
         },
         {
          "cntry": "DE",
          "essrnd": 7,
          "gvrfgap": 0.07086555932689093,
          "response": 5
         },
         {
          "cntry": "DE",
          "essrnd": 7,
          "gvrfgap": 0.0028488446328908132,
          "response": 7
         },
         {
          "cntry": "DE",
          "essrnd": 7,
          "gvrfgap": 0.011336457202583505,
          "response": 8
         },
         {
          "cntry": "FR",
          "essrnd": 7,
          "gvrfgap": 0.21743727710386507,
          "response": 1
         },
         {
          "cntry": "FR",
          "essrnd": 7,
          "gvrfgap": 0.36332303145628014,
          "response": 2
         },
         {
          "cntry": "FR",
          "essrnd": 7,
          "gvrfgap": 0.2270117199950692,
          "response": 3
         },
         {
          "cntry": "FR",
          "essrnd": 7,
          "gvrfgap": 0.11864844676963307,
          "response": 4
         },
         {
          "cntry": "FR",
          "essrnd": 7,
          "gvrfgap": 0.06082672084428284,
          "response": 5
         },
         {
          "cntry": "FR",
          "essrnd": 7,
          "gvrfgap": 0.0024484124240671816,
          "response": 7
         },
         {
          "cntry": "FR",
          "essrnd": 7,
          "gvrfgap": 0.010304391406802655,
          "response": 8
         },
         {
          "cntry": "IT",
          "essrnd": 7,
          "gvrfgap": 0,
          "response": 0
         }
        ],
        "data-1cab5e1d9d46764b8013bcc260a98ecc": [
         {
          "cntry": "CH",
          "essrnd": 1,
          "gvrfgap": 0.03308130673542556,
          "response": 1
         },
         {
          "cntry": "CH",
          "essrnd": 1,
          "gvrfgap": 0.1883491635667672,
          "response": 2
         },
         {
          "cntry": "CH",
          "essrnd": 1,
          "gvrfgap": 0.26612433096135785,
          "response": 3
         },
         {
          "cntry": "CH",
          "essrnd": 1,
          "gvrfgap": 0.395391607303385,
          "response": 4
         },
         {
          "cntry": "CH",
          "essrnd": 1,
          "gvrfgap": 0.10260925393944072,
          "response": 5
         },
         {
          "cntry": "CH",
          "essrnd": 1,
          "gvrfgap": 0.014444337493623166,
          "response": 8
         },
         {
          "cntry": "GB",
          "essrnd": 1,
          "gvrfgap": 0.015486845363608148,
          "response": 1
         },
         {
          "cntry": "GB",
          "essrnd": 1,
          "gvrfgap": 0.2542417286333774,
          "response": 2
         },
         {
          "cntry": "GB",
          "essrnd": 1,
          "gvrfgap": 0.2567144848997086,
          "response": 3
         },
         {
          "cntry": "GB",
          "essrnd": 1,
          "gvrfgap": 0.3957085362703492,
          "response": 4
         },
         {
          "cntry": "GB",
          "essrnd": 1,
          "gvrfgap": 0.06802639656104677,
          "response": 5
         },
         {
          "cntry": "GB",
          "essrnd": 1,
          "gvrfgap": 0.0005558709881875992,
          "response": 7
         },
         {
          "cntry": "GB",
          "essrnd": 1,
          "gvrfgap": 0.009266137283721719,
          "response": 8
         },
         {
          "cntry": "IE",
          "essrnd": 1,
          "gvrfgap": 0.050837031392710896,
          "response": 1
         },
         {
          "cntry": "IE",
          "essrnd": 1,
          "gvrfgap": 0.47808578406400687,
          "response": 2
         },
         {
          "cntry": "IE",
          "essrnd": 1,
          "gvrfgap": 0.22926746362536465,
          "response": 3
         },
         {
          "cntry": "IE",
          "essrnd": 1,
          "gvrfgap": 0.18310689863020832,
          "response": 4
         },
         {
          "cntry": "IE",
          "essrnd": 1,
          "gvrfgap": 0.023789254524536153,
          "response": 5
         },
         {
          "cntry": "IE",
          "essrnd": 1,
          "gvrfgap": 0.03311898291712292,
          "response": 8
         },
         {
          "cntry": "IE",
          "essrnd": 1,
          "gvrfgap": 0.0017945848460490857,
          "response": 9
         },
         {
          "cntry": "IL",
          "essrnd": 1,
          "gvrfgap": 0.04229530807949573,
          "response": 1
         },
         {
          "cntry": "IL",
          "essrnd": 1,
          "gvrfgap": 0.2583831445002414,
          "response": 2
         },
         {
          "cntry": "IL",
          "essrnd": 1,
          "gvrfgap": 0.3223397824094037,
          "response": 3
         },
         {
          "cntry": "IL",
          "essrnd": 1,
          "gvrfgap": 0.2969143836109316,
          "response": 4
         },
         {
          "cntry": "IL",
          "essrnd": 1,
          "gvrfgap": 0.06208340757978891,
          "response": 5
         },
         {
          "cntry": "IL",
          "essrnd": 1,
          "gvrfgap": 0.0179839738201383,
          "response": 9
         }
        ],
        "data-66f0924b4ae03c47c1d31bb4d4c6aa3f": [
         {
          "cntry": "BE",
          "essrnd": 1,
          "gvrfgap": 0.03568491229723814,
          "response": 1
         },
         {
          "cntry": "BE",
          "essrnd": 1,
          "gvrfgap": 0.1536984536676873,
          "response": 2
         },
         {
          "cntry": "BE",
          "essrnd": 1,
          "gvrfgap": 0.2259525771671176,
          "response": 3
         },
         {
          "cntry": "BE",
          "essrnd": 1,
          "gvrfgap": 0.4135423382736349,
          "response": 4
         },
         {
          "cntry": "BE",
          "essrnd": 1,
          "gvrfgap": 0.14105274558659775,
          "response": 5
         },
         {
          "cntry": "BE",
          "essrnd": 1,
          "gvrfgap": 0.025641772541390485,
          "response": 8
         },
         {
          "cntry": "BE",
          "essrnd": 1,
          "gvrfgap": 0.004427200466333656,
          "response": 9
         },
         {
          "cntry": "NL",
          "essrnd": 1,
          "gvrfgap": 0.010957293749050261,
          "response": 1
         },
         {
          "cntry": "NL",
          "essrnd": 1,
          "gvrfgap": 0.08552606399681088,
          "response": 2
         },
         {
          "cntry": "NL",
          "essrnd": 1,
          "gvrfgap": 0.14708846940910308,
          "response": 3
         },
         {
          "cntry": "NL",
          "essrnd": 1,
          "gvrfgap": 0.5867111784499143,
          "response": 4
         },
         {
          "cntry": "NL",
          "essrnd": 1,
          "gvrfgap": 0.16069302344404407,
          "response": 5
         },
         {
          "cntry": "NL",
          "essrnd": 1,
          "gvrfgap": 0.009023970951078139,
          "response": 8
         },
         {
          "cntry": "LU",
          "essrnd": 1,
          "gvrfgap": 0.0779227914208003,
          "response": 1
         },
         {
          "cntry": "LU",
          "essrnd": 1,
          "gvrfgap": 0.2078729132756564,
          "response": 2
         },
         {
          "cntry": "LU",
          "essrnd": 1,
          "gvrfgap": 0.2167693389574371,
          "response": 3
         },
         {
          "cntry": "LU",
          "essrnd": 1,
          "gvrfgap": 0.34328602628739163,
          "response": 4
         },
         {
          "cntry": "LU",
          "essrnd": 1,
          "gvrfgap": 0.06896465823592292,
          "response": 5
         },
         {
          "cntry": "LU",
          "essrnd": 1,
          "gvrfgap": 0.08088945978433999,
          "response": 8
         },
         {
          "cntry": "LU",
          "essrnd": 1,
          "gvrfgap": 0.004294812038451449,
          "response": 9
         }
        ],
        "data-6cad4b39dc0e824cd49bdd7379b8a4c5": [
         {
          "cntry": "DE",
          "essrnd": 1,
          "gvrfgap": 0.020689188630389183,
          "response": 1
         },
         {
          "cntry": "DE",
          "essrnd": 1,
          "gvrfgap": 0.13104142281158135,
          "response": 2
         },
         {
          "cntry": "DE",
          "essrnd": 1,
          "gvrfgap": 0.24277804501030856,
          "response": 3
         },
         {
          "cntry": "DE",
          "essrnd": 1,
          "gvrfgap": 0.39796879757945186,
          "response": 4
         },
         {
          "cntry": "DE",
          "essrnd": 1,
          "gvrfgap": 0.18944533866406388,
          "response": 5
         },
         {
          "cntry": "DE",
          "essrnd": 1,
          "gvrfgap": 0.0011718420537375385,
          "response": 7
         },
         {
          "cntry": "DE",
          "essrnd": 1,
          "gvrfgap": 0.01690536525046917,
          "response": 8
         },
         {
          "cntry": "FR",
          "essrnd": 1,
          "gvrfgap": 0.20792934523101775,
          "response": 1
         },
         {
          "cntry": "FR",
          "essrnd": 1,
          "gvrfgap": 0.4100325096344751,
          "response": 2
         },
         {
          "cntry": "FR",
          "essrnd": 1,
          "gvrfgap": 0.17551245958266665,
          "response": 3
         },
         {
          "cntry": "FR",
          "essrnd": 1,
          "gvrfgap": 0.11072207415922644,
          "response": 4
         },
         {
          "cntry": "FR",
          "essrnd": 1,
          "gvrfgap": 0.07207473045508304,
          "response": 5
         },
         {
          "cntry": "FR",
          "essrnd": 1,
          "gvrfgap": 0.023728880937531376,
          "response": 8
         },
         {
          "cntry": "IT",
          "essrnd": 1,
          "gvrfgap": 0.04098316805220226,
          "response": 1
         },
         {
          "cntry": "IT",
          "essrnd": 1,
          "gvrfgap": 0.18149082064992117,
          "response": 2
         },
         {
          "cntry": "IT",
          "essrnd": 1,
          "gvrfgap": 0.3331102604850744,
          "response": 3
         },
         {
          "cntry": "IT",
          "essrnd": 1,
          "gvrfgap": 0.28801096105402496,
          "response": 4
         },
         {
          "cntry": "IT",
          "essrnd": 1,
          "gvrfgap": 0.06819440481955698,
          "response": 5
         },
         {
          "cntry": "IT",
          "essrnd": 1,
          "gvrfgap": 0.08821038493922036,
          "response": 8
         }
        ],
        "data-80acf7badae8aa1d87313cc109d118f2": [
         {
          "cntry": "ES",
          "essrnd": 1,
          "gvrfgap": 0.06444214139142238,
          "response": 1
         },
         {
          "cntry": "ES",
          "essrnd": 1,
          "gvrfgap": 0.3466307992125851,
          "response": 2
         },
         {
          "cntry": "ES",
          "essrnd": 1,
          "gvrfgap": 0.2595958498079172,
          "response": 3
         },
         {
          "cntry": "ES",
          "essrnd": 1,
          "gvrfgap": 0.13124972063904156,
          "response": 4
         },
         {
          "cntry": "ES",
          "essrnd": 1,
          "gvrfgap": 0.025355557532273098,
          "response": 5
         },
         {
          "cntry": "ES",
          "essrnd": 1,
          "gvrfgap": 0.0023671912262850513,
          "response": 7
         },
         {
          "cntry": "ES",
          "essrnd": 1,
          "gvrfgap": 0.17035874019047537,
          "response": 8
         },
         {
          "cntry": "PT",
          "essrnd": 1,
          "gvrfgap": 0.03676163533569783,
          "response": 1
         },
         {
          "cntry": "PT",
          "essrnd": 1,
          "gvrfgap": 0.41416717332991687,
          "response": 2
         },
         {
          "cntry": "PT",
          "essrnd": 1,
          "gvrfgap": 0.2138779582523562,
          "response": 3
         },
         {
          "cntry": "PT",
          "essrnd": 1,
          "gvrfgap": 0.0669525147376546,
          "response": 4
         },
         {
          "cntry": "PT",
          "essrnd": 1,
          "gvrfgap": 0.01975045096045256,
          "response": 5
         },
         {
          "cntry": "PT",
          "essrnd": 1,
          "gvrfgap": 0.0005620298439414498,
          "response": 7
         },
         {
          "cntry": "PT",
          "essrnd": 1,
          "gvrfgap": 0.24218394293340384,
          "response": 8
         },
         {
          "cntry": "PT",
          "essrnd": 1,
          "gvrfgap": 0.005744294606575924,
          "response": 9
         },
         {
          "cntry": "GR",
          "essrnd": 1,
          "gvrfgap": 0.10306842252421754,
          "response": 1
         },
         {
          "cntry": "GR",
          "essrnd": 1,
          "gvrfgap": 0.3280093844801284,
          "response": 2
         },
         {
          "cntry": "GR",
          "essrnd": 1,
          "gvrfgap": 0.2279936629969314,
          "response": 3
         },
         {
          "cntry": "GR",
          "essrnd": 1,
          "gvrfgap": 0.22015902418911254,
          "response": 4
         },
         {
          "cntry": "GR",
          "essrnd": 1,
          "gvrfgap": 0.0684423690713689,
          "response": 5
         },
         {
          "cntry": "GR",
          "essrnd": 1,
          "gvrfgap": 0.0006424701636040777,
          "response": 7
         },
         {
          "cntry": "GR",
          "essrnd": 1,
          "gvrfgap": 0.051684666574637925,
          "response": 8
         },
         {
          "cntry": "IT",
          "essrnd": 1,
          "gvrfgap": 0.04098316805220226,
          "response": 1
         },
         {
          "cntry": "IT",
          "essrnd": 1,
          "gvrfgap": 0.18149082064992117,
          "response": 2
         },
         {
          "cntry": "IT",
          "essrnd": 1,
          "gvrfgap": 0.3331102604850744,
          "response": 3
         },
         {
          "cntry": "IT",
          "essrnd": 1,
          "gvrfgap": 0.28801096105402496,
          "response": 4
         },
         {
          "cntry": "IT",
          "essrnd": 1,
          "gvrfgap": 0.06819440481955698,
          "response": 5
         },
         {
          "cntry": "IT",
          "essrnd": 1,
          "gvrfgap": 0.08821038493922036,
          "response": 8
         },
         {
          "cntry": "SI",
          "essrnd": 1,
          "gvrfgap": 0.018795154122424707,
          "response": 1
         },
         {
          "cntry": "SI",
          "essrnd": 1,
          "gvrfgap": 0.17156334595995198,
          "response": 2
         },
         {
          "cntry": "SI",
          "essrnd": 1,
          "gvrfgap": 0.3017346834558557,
          "response": 3
         },
         {
          "cntry": "SI",
          "essrnd": 1,
          "gvrfgap": 0.3870274726373929,
          "response": 4
         },
         {
          "cntry": "SI",
          "essrnd": 1,
          "gvrfgap": 0.09150674509070063,
          "response": 5
         },
         {
          "cntry": "SI",
          "essrnd": 1,
          "gvrfgap": 0.02470944054282046,
          "response": 8
         },
         {
          "cntry": "SI",
          "essrnd": 1,
          "gvrfgap": 0.00466315819085143,
          "response": 9
         }
        ],
        "data-a194b4788f6669f55bea79319194455c": [
         {
          "cntry": "CH",
          "essrnd": 7,
          "gvrfgap": 0.08202054598225583,
          "response": 1
         },
         {
          "cntry": "CH",
          "essrnd": 7,
          "gvrfgap": 0.26208750906692024,
          "response": 2
         },
         {
          "cntry": "CH",
          "essrnd": 7,
          "gvrfgap": 0.3030384937491428,
          "response": 3
         },
         {
          "cntry": "CH",
          "essrnd": 7,
          "gvrfgap": 0.24597463449897908,
          "response": 4
         },
         {
          "cntry": "CH",
          "essrnd": 7,
          "gvrfgap": 0.09289112532534206,
          "response": 5
         },
         {
          "cntry": "CH",
          "essrnd": 7,
          "gvrfgap": 0.013987691377360814,
          "response": 8
         },
         {
          "cntry": "GB",
          "essrnd": 7,
          "gvrfgap": 0.10381443252622533,
          "response": 1
         },
         {
          "cntry": "GB",
          "essrnd": 7,
          "gvrfgap": 0.3584108962616519,
          "response": 2
         },
         {
          "cntry": "GB",
          "essrnd": 7,
          "gvrfgap": 0.2620265790796749,
          "response": 3
         },
         {
          "cntry": "GB",
          "essrnd": 7,
          "gvrfgap": 0.201958532761818,
          "response": 4
         },
         {
          "cntry": "GB",
          "essrnd": 7,
          "gvrfgap": 0.06680869827091412,
          "response": 5
         },
         {
          "cntry": "GB",
          "essrnd": 7,
          "gvrfgap": 0.006980861099716064,
          "response": 8
         },
         {
          "cntry": "IE",
          "essrnd": 7,
          "gvrfgap": 0.12702439582936403,
          "response": 1
         },
         {
          "cntry": "IE",
          "essrnd": 7,
          "gvrfgap": 0.41636352219813094,
          "response": 2
         },
         {
          "cntry": "IE",
          "essrnd": 7,
          "gvrfgap": 0.22013223322621797,
          "response": 3
         },
         {
          "cntry": "IE",
          "essrnd": 7,
          "gvrfgap": 0.15481556965126161,
          "response": 4
         },
         {
          "cntry": "IE",
          "essrnd": 7,
          "gvrfgap": 0.043003508012268245,
          "response": 5
         },
         {
          "cntry": "IE",
          "essrnd": 7,
          "gvrfgap": 0.004501246114407826,
          "response": 7
         },
         {
          "cntry": "IE",
          "essrnd": 7,
          "gvrfgap": 0.03415952496835129,
          "response": 8
         },
         {
          "cntry": "IL",
          "essrnd": 7,
          "gvrfgap": 0.04775369856593506,
          "response": 1
         },
         {
          "cntry": "IL",
          "essrnd": 7,
          "gvrfgap": 0.13043113887380722,
          "response": 2
         },
         {
          "cntry": "IL",
          "essrnd": 7,
          "gvrfgap": 0.3614463448743991,
          "response": 3
         },
         {
          "cntry": "IL",
          "essrnd": 7,
          "gvrfgap": 0.20524722205454296,
          "response": 4
         },
         {
          "cntry": "IL",
          "essrnd": 7,
          "gvrfgap": 0.19974849357633404,
          "response": 5
         },
         {
          "cntry": "IL",
          "essrnd": 7,
          "gvrfgap": 0.05537310205498197,
          "response": 8
         }
        ],
        "data-b265e0b5e4220285625ba2cd3e1a71a1": [
         {
          "cntry": "ES",
          "essrnd": 7,
          "gvrfgap": 0.15950033320086762,
          "response": 1
         },
         {
          "cntry": "ES",
          "essrnd": 7,
          "gvrfgap": 0.394984219186138,
          "response": 2
         },
         {
          "cntry": "ES",
          "essrnd": 7,
          "gvrfgap": 0.2240248556504214,
          "response": 3
         },
         {
          "cntry": "ES",
          "essrnd": 7,
          "gvrfgap": 0.10703731774955845,
          "response": 4
         },
         {
          "cntry": "ES",
          "essrnd": 7,
          "gvrfgap": 0.03790834521213871,
          "response": 5
         },
         {
          "cntry": "ES",
          "essrnd": 7,
          "gvrfgap": 0.0038367468246952178,
          "response": 7
         },
         {
          "cntry": "ES",
          "essrnd": 7,
          "gvrfgap": 0.07106872992895617,
          "response": 8
         },
         {
          "cntry": "ES",
          "essrnd": 7,
          "gvrfgap": 0.0016394522472242491,
          "response": 9
         },
         {
          "cntry": "PT",
          "essrnd": 7,
          "gvrfgap": 0.15041508721368754,
          "response": 1
         },
         {
          "cntry": "PT",
          "essrnd": 7,
          "gvrfgap": 0.5202774373937759,
          "response": 2
         },
         {
          "cntry": "PT",
          "essrnd": 7,
          "gvrfgap": 0.2316619834526937,
          "response": 3
         },
         {
          "cntry": "PT",
          "essrnd": 7,
          "gvrfgap": 0.060411751779631845,
          "response": 4
         },
         {
          "cntry": "PT",
          "essrnd": 7,
          "gvrfgap": 0.016549653473179885,
          "response": 5
         },
         {
          "cntry": "PT",
          "essrnd": 7,
          "gvrfgap": 0.0012635117505265627,
          "response": 7
         },
         {
          "cntry": "PT",
          "essrnd": 7,
          "gvrfgap": 0.01942057493650508,
          "response": 8
         },
         {
          "cntry": "GR",
          "essrnd": 7,
          "gvrfgap": 0,
          "response": 0
         },
         {
          "cntry": "IT",
          "essrnd": 7,
          "gvrfgap": 0,
          "response": 0
         },
         {
          "cntry": "SI",
          "essrnd": 7,
          "gvrfgap": 0.046767901869318056,
          "response": 1
         },
         {
          "cntry": "SI",
          "essrnd": 7,
          "gvrfgap": 0.32373904723329405,
          "response": 2
         },
         {
          "cntry": "SI",
          "essrnd": 7,
          "gvrfgap": 0.34669560338795347,
          "response": 3
         },
         {
          "cntry": "SI",
          "essrnd": 7,
          "gvrfgap": 0.1851918247291939,
          "response": 4
         },
         {
          "cntry": "SI",
          "essrnd": 7,
          "gvrfgap": 0.03903887766966526,
          "response": 5
         },
         {
          "cntry": "SI",
          "essrnd": 7,
          "gvrfgap": 0.05577588144703117,
          "response": 8
         },
         {
          "cntry": "SI",
          "essrnd": 7,
          "gvrfgap": 0.0027908636635458695,
          "response": 9
         }
        ],
        "data-b924ee1b1a06b654636f4253fe12af7b": [
         {
          "cntry": "EE",
          "essrnd": 7,
          "gvrfgap": 0.04517364496868704,
          "response": 1
         },
         {
          "cntry": "EE",
          "essrnd": 7,
          "gvrfgap": 0.2050795244028706,
          "response": 2
         },
         {
          "cntry": "EE",
          "essrnd": 7,
          "gvrfgap": 0.2694670107595688,
          "response": 3
         },
         {
          "cntry": "EE",
          "essrnd": 7,
          "gvrfgap": 0.3441767692521343,
          "response": 4
         },
         {
          "cntry": "EE",
          "essrnd": 7,
          "gvrfgap": 0.1118894361850724,
          "response": 5
         },
         {
          "cntry": "EE",
          "essrnd": 7,
          "gvrfgap": 0.024213614431671103,
          "response": 8
         },
         {
          "cntry": "FI",
          "essrnd": 7,
          "gvrfgap": 0.1357402103358135,
          "response": 1
         },
         {
          "cntry": "FI",
          "essrnd": 7,
          "gvrfgap": 0.3595684583438789,
          "response": 2
         },
         {
          "cntry": "FI",
          "essrnd": 7,
          "gvrfgap": 0.2716241608969812,
          "response": 3
         },
         {
          "cntry": "FI",
          "essrnd": 7,
          "gvrfgap": 0.1765936018107073,
          "response": 4
         },
         {
          "cntry": "FI",
          "essrnd": 7,
          "gvrfgap": 0.04648742303341351,
          "response": 5
         },
         {
          "cntry": "FI",
          "essrnd": 7,
          "gvrfgap": 0.0004430975616932663,
          "response": 7
         },
         {
          "cntry": "FI",
          "essrnd": 7,
          "gvrfgap": 0.009543048017513085,
          "response": 8
         },
         {
          "cntry": "LT",
          "essrnd": 7,
          "gvrfgap": 0.012353659921925657,
          "response": 1
         },
         {
          "cntry": "LT",
          "essrnd": 7,
          "gvrfgap": 0.24073466085458556,
          "response": 2
         },
         {
          "cntry": "LT",
          "essrnd": 7,
          "gvrfgap": 0.4372727448390483,
          "response": 3
         },
         {
          "cntry": "LT",
          "essrnd": 7,
          "gvrfgap": 0.15436689257195788,
          "response": 4
         },
         {
          "cntry": "LT",
          "essrnd": 7,
          "gvrfgap": 0.04948338882317569,
          "response": 5
         },
         {
          "cntry": "LT",
          "essrnd": 7,
          "gvrfgap": 0.10578865298930734,
          "response": 8
         }
        ],
        "data-e9b6cacd5ad1eb1e5bd6b2c63e3c98a6": [
         {
          "cntry": "PL",
          "essrnd": 1,
          "gvrfgap": 0.05760096051432616,
          "response": 1
         },
         {
          "cntry": "PL",
          "essrnd": 1,
          "gvrfgap": 0.518832606401922,
          "response": 2
         },
         {
          "cntry": "PL",
          "essrnd": 1,
          "gvrfgap": 0.22052145708601742,
          "response": 3
         },
         {
          "cntry": "PL",
          "essrnd": 1,
          "gvrfgap": 0.11290292167742115,
          "response": 4
         },
         {
          "cntry": "PL",
          "essrnd": 1,
          "gvrfgap": 0.006638738563932116,
          "response": 5
         },
         {
          "cntry": "PL",
          "essrnd": 1,
          "gvrfgap": 0.08247101309618905,
          "response": 8
         },
         {
          "cntry": "PL",
          "essrnd": 1,
          "gvrfgap": 0.0010323026601928023,
          "response": 9
         },
         {
          "cntry": "HU",
          "essrnd": 1,
          "gvrfgap": 0.019727223455552886,
          "response": 1
         },
         {
          "cntry": "HU",
          "essrnd": 1,
          "gvrfgap": 0.09172558112126197,
          "response": 2
         },
         {
          "cntry": "HU",
          "essrnd": 1,
          "gvrfgap": 0.2063672794740596,
          "response": 3
         },
         {
          "cntry": "HU",
          "essrnd": 1,
          "gvrfgap": 0.3985859911459867,
          "response": 4
         },
         {
          "cntry": "HU",
          "essrnd": 1,
          "gvrfgap": 0.18598220994579717,
          "response": 5
         },
         {
          "cntry": "HU",
          "essrnd": 1,
          "gvrfgap": 0.09761171485734137,
          "response": 8
         },
         {
          "cntry": "CZ",
          "essrnd": 1,
          "gvrfgap": 0.027317078713759362,
          "response": 1
         },
         {
          "cntry": "CZ",
          "essrnd": 1,
          "gvrfgap": 0.10683335686016358,
          "response": 2
         },
         {
          "cntry": "CZ",
          "essrnd": 1,
          "gvrfgap": 0.21015539813692455,
          "response": 3
         },
         {
          "cntry": "CZ",
          "essrnd": 1,
          "gvrfgap": 0.3735110941641906,
          "response": 4
         },
         {
          "cntry": "CZ",
          "essrnd": 1,
          "gvrfgap": 0.2103202672252255,
          "response": 5
         },
         {
          "cntry": "CZ",
          "essrnd": 1,
          "gvrfgap": 0.06633561997771895,
          "response": 8
         },
         {
          "cntry": "CZ",
          "essrnd": 1,
          "gvrfgap": 0.0055271849220172795,
          "response": 9
         }
        ],
        "data-eda4daba0a3a51a726289cd86902f8de": [
         {
          "cntry": "BE",
          "essrnd": 7,
          "gvrfgap": 0.061491940732731606,
          "response": 1
         },
         {
          "cntry": "BE",
          "essrnd": 7,
          "gvrfgap": 0.2389773954156797,
          "response": 2
         },
         {
          "cntry": "BE",
          "essrnd": 7,
          "gvrfgap": 0.24869272447476193,
          "response": 3
         },
         {
          "cntry": "BE",
          "essrnd": 7,
          "gvrfgap": 0.29913707606878404,
          "response": 4
         },
         {
          "cntry": "BE",
          "essrnd": 7,
          "gvrfgap": 0.14415479983110666,
          "response": 5
         },
         {
          "cntry": "BE",
          "essrnd": 7,
          "gvrfgap": 0.007546063476936396,
          "response": 8
         },
         {
          "cntry": "NL",
          "essrnd": 7,
          "gvrfgap": 0.06710168829204588,
          "response": 1
         },
         {
          "cntry": "NL",
          "essrnd": 7,
          "gvrfgap": 0.25139833362964964,
          "response": 2
         },
         {
          "cntry": "NL",
          "essrnd": 7,
          "gvrfgap": 0.20775511410784145,
          "response": 3
         },
         {
          "cntry": "NL",
          "essrnd": 7,
          "gvrfgap": 0.3810518782381372,
          "response": 4
         },
         {
          "cntry": "NL",
          "essrnd": 7,
          "gvrfgap": 0.08885264831571228,
          "response": 5
         },
         {
          "cntry": "NL",
          "essrnd": 7,
          "gvrfgap": 0.0038403374166143095,
          "response": 8
         },
         {
          "cntry": "LU",
          "essrnd": 7,
          "gvrfgap": 0,
          "response": 0
         }
        ],
        "data-ef39c53241c013459ff9c2ad3e07f357": [
         {
          "cntry": "PL",
          "essrnd": 7,
          "gvrfgap": 0.10117661346769703,
          "response": 1
         },
         {
          "cntry": "PL",
          "essrnd": 7,
          "gvrfgap": 0.49679108129638583,
          "response": 2
         },
         {
          "cntry": "PL",
          "essrnd": 7,
          "gvrfgap": 0.26112422428055526,
          "response": 3
         },
         {
          "cntry": "PL",
          "essrnd": 7,
          "gvrfgap": 0.06704862115149804,
          "response": 4
         },
         {
          "cntry": "PL",
          "essrnd": 7,
          "gvrfgap": 0.016027251920946273,
          "response": 5
         },
         {
          "cntry": "PL",
          "essrnd": 7,
          "gvrfgap": 0.05448451976570162,
          "response": 8
         },
         {
          "cntry": "PL",
          "essrnd": 7,
          "gvrfgap": 0.0033476881172162477,
          "response": 9
         },
         {
          "cntry": "HU",
          "essrnd": 7,
          "gvrfgap": 0.04602199802971362,
          "response": 1
         },
         {
          "cntry": "HU",
          "essrnd": 7,
          "gvrfgap": 0.17745381940801533,
          "response": 2
         },
         {
          "cntry": "HU",
          "essrnd": 7,
          "gvrfgap": 0.3686111145876843,
          "response": 3
         },
         {
          "cntry": "HU",
          "essrnd": 7,
          "gvrfgap": 0.25885622878505665,
          "response": 4
         },
         {
          "cntry": "HU",
          "essrnd": 7,
          "gvrfgap": 0.11433312380925349,
          "response": 5
         },
         {
          "cntry": "HU",
          "essrnd": 7,
          "gvrfgap": 0.005726511859062665,
          "response": 7
         },
         {
          "cntry": "HU",
          "essrnd": 7,
          "gvrfgap": 0.028997203521213658,
          "response": 8
         },
         {
          "cntry": "CZ",
          "essrnd": 7,
          "gvrfgap": 0.02932692011811055,
          "response": 1
         },
         {
          "cntry": "CZ",
          "essrnd": 7,
          "gvrfgap": 0.17475080635067372,
          "response": 2
         },
         {
          "cntry": "CZ",
          "essrnd": 7,
          "gvrfgap": 0.3330694274310151,
          "response": 3
         },
         {
          "cntry": "CZ",
          "essrnd": 7,
          "gvrfgap": 0.26963261029846486,
          "response": 4
         },
         {
          "cntry": "CZ",
          "essrnd": 7,
          "gvrfgap": 0.1632726904735482,
          "response": 5
         },
         {
          "cntry": "CZ",
          "essrnd": 7,
          "gvrfgap": 0.02994754532818717,
          "response": 8
         }
        ],
        "data-fb382c365791eb1704e2075c7382829e": [
         {
          "cntry": "EE",
          "essrnd": 1,
          "gvrfgap": 0,
          "response": 0
         },
         {
          "cntry": "FI",
          "essrnd": 1,
          "gvrfgap": 0.08137639391604673,
          "response": 1
         },
         {
          "cntry": "FI",
          "essrnd": 1,
          "gvrfgap": 0.24065454503248968,
          "response": 2
         },
         {
          "cntry": "FI",
          "essrnd": 1,
          "gvrfgap": 0.3310838705132152,
          "response": 3
         },
         {
          "cntry": "FI",
          "essrnd": 1,
          "gvrfgap": 0.22468241431011918,
          "response": 4
         },
         {
          "cntry": "FI",
          "essrnd": 1,
          "gvrfgap": 0.10278737354174715,
          "response": 5
         },
         {
          "cntry": "FI",
          "essrnd": 1,
          "gvrfgap": 0.0004767661622634981,
          "response": 7
         },
         {
          "cntry": "FI",
          "essrnd": 1,
          "gvrfgap": 0.018438826067722913,
          "response": 8
         },
         {
          "cntry": "FI",
          "essrnd": 1,
          "gvrfgap": 0.0004998104563941585,
          "response": 9
         },
         {
          "cntry": "LT",
          "essrnd": 1,
          "gvrfgap": 0,
          "response": 0
         }
        ]
       },
       "vconcat": [
        {
         "hconcat": [
          {
           "data": {
            "name": "data-6cad4b39dc0e824cd49bdd7379b8a4c5"
           },
           "encoding": {
            "color": {
             "field": "response",
             "legend": {
              "title": "Response"
             },
             "scale": {
              "domain": [
               0,
               1,
               2,
               3,
               4,
               5,
               6,
               7,
               8,
               9,
               10,
               77,
               88,
               99
              ],
              "range": [
               "red",
               "indianred",
               "salmon",
               "darkorange",
               "yellow",
               "skyblue",
               "dodgerblue",
               "steelblue",
               "blue",
               "midnightblue",
               "darkmagenta",
               "gray",
               "silver",
               "mistyrose"
              ]
             },
             "type": "ordinal"
            },
            "order": {
             "field": "response",
             "sort": "ascending",
             "type": "quantitative"
            },
            "x": {
             "field": "gvrfgap",
             "scale": {
              "domain": [
               0,
               1
              ]
             },
             "type": "quantitative"
            },
            "y": {
             "field": "cntry",
             "type": "nominal"
            }
           },
           "mark": "bar",
           "title": "Govt shd judge generously * 2002 * 1/5-agr/dis, 789-ref/dk/na"
          },
          {
           "data": {
            "name": "data-065d4348547cccfd69e26eeee683203a"
           },
           "encoding": {
            "color": {
             "field": "response",
             "legend": {
              "title": "Response"
             },
             "scale": {
              "domain": [
               0,
               1,
               2,
               3,
               4,
               5,
               6,
               7,
               8,
               9,
               10,
               77,
               88,
               99
              ],
              "range": [
               "red",
               "indianred",
               "salmon",
               "darkorange",
               "yellow",
               "skyblue",
               "dodgerblue",
               "steelblue",
               "blue",
               "midnightblue",
               "darkmagenta",
               "gray",
               "silver",
               "mistyrose"
              ]
             },
             "type": "ordinal"
            },
            "order": {
             "field": "response",
             "sort": "ascending",
             "type": "quantitative"
            },
            "x": {
             "field": "gvrfgap",
             "scale": {
              "domain": [
               0,
               1
              ]
             },
             "type": "quantitative"
            },
            "y": {
             "field": "cntry",
             "type": "nominal"
            }
           },
           "mark": "bar",
           "title": "Govt shd judge generously * 2014 * 1/5-agr/dis, 789-ref/dk/na"
          }
         ]
        },
        {
         "hconcat": [
          {
           "data": {
            "name": "data-66f0924b4ae03c47c1d31bb4d4c6aa3f"
           },
           "encoding": {
            "color": {
             "field": "response",
             "legend": {
              "title": "Response"
             },
             "scale": {
              "domain": [
               0,
               1,
               2,
               3,
               4,
               5,
               6,
               7,
               8,
               9,
               10,
               77,
               88,
               99
              ],
              "range": [
               "red",
               "indianred",
               "salmon",
               "darkorange",
               "yellow",
               "skyblue",
               "dodgerblue",
               "steelblue",
               "blue",
               "midnightblue",
               "darkmagenta",
               "gray",
               "silver",
               "mistyrose"
              ]
             },
             "type": "ordinal"
            },
            "order": {
             "field": "response",
             "sort": "ascending",
             "type": "quantitative"
            },
            "x": {
             "field": "gvrfgap",
             "scale": {
              "domain": [
               0,
               1
              ]
             },
             "type": "quantitative"
            },
            "y": {
             "field": "cntry",
             "type": "nominal"
            }
           },
           "mark": "bar",
           "title": "Govt shd judge generously * 2002 * 1/5-agr/dis, 789-ref/dk/na"
          },
          {
           "data": {
            "name": "data-eda4daba0a3a51a726289cd86902f8de"
           },
           "encoding": {
            "color": {
             "field": "response",
             "legend": {
              "title": "Response"
             },
             "scale": {
              "domain": [
               0,
               1,
               2,
               3,
               4,
               5,
               6,
               7,
               8,
               9,
               10,
               77,
               88,
               99
              ],
              "range": [
               "red",
               "indianred",
               "salmon",
               "darkorange",
               "yellow",
               "skyblue",
               "dodgerblue",
               "steelblue",
               "blue",
               "midnightblue",
               "darkmagenta",
               "gray",
               "silver",
               "mistyrose"
              ]
             },
             "type": "ordinal"
            },
            "order": {
             "field": "response",
             "sort": "ascending",
             "type": "quantitative"
            },
            "x": {
             "field": "gvrfgap",
             "scale": {
              "domain": [
               0,
               1
              ]
             },
             "type": "quantitative"
            },
            "y": {
             "field": "cntry",
             "type": "nominal"
            }
           },
           "mark": "bar",
           "title": "Govt shd judge generously * 2014 * 1/5-agr/dis, 789-ref/dk/na"
          }
         ]
        },
        {
         "hconcat": [
          {
           "data": {
            "name": "data-80acf7badae8aa1d87313cc109d118f2"
           },
           "encoding": {
            "color": {
             "field": "response",
             "legend": {
              "title": "Response"
             },
             "scale": {
              "domain": [
               0,
               1,
               2,
               3,
               4,
               5,
               6,
               7,
               8,
               9,
               10,
               77,
               88,
               99
              ],
              "range": [
               "red",
               "indianred",
               "salmon",
               "darkorange",
               "yellow",
               "skyblue",
               "dodgerblue",
               "steelblue",
               "blue",
               "midnightblue",
               "darkmagenta",
               "gray",
               "silver",
               "mistyrose"
              ]
             },
             "type": "ordinal"
            },
            "order": {
             "field": "response",
             "sort": "ascending",
             "type": "quantitative"
            },
            "x": {
             "field": "gvrfgap",
             "scale": {
              "domain": [
               0,
               1
              ]
             },
             "type": "quantitative"
            },
            "y": {
             "field": "cntry",
             "type": "nominal"
            }
           },
           "mark": "bar",
           "title": "Govt shd judge generously * 2002 * 1/5-agr/dis, 789-ref/dk/na"
          },
          {
           "data": {
            "name": "data-b265e0b5e4220285625ba2cd3e1a71a1"
           },
           "encoding": {
            "color": {
             "field": "response",
             "legend": {
              "title": "Response"
             },
             "scale": {
              "domain": [
               0,
               1,
               2,
               3,
               4,
               5,
               6,
               7,
               8,
               9,
               10,
               77,
               88,
               99
              ],
              "range": [
               "red",
               "indianred",
               "salmon",
               "darkorange",
               "yellow",
               "skyblue",
               "dodgerblue",
               "steelblue",
               "blue",
               "midnightblue",
               "darkmagenta",
               "gray",
               "silver",
               "mistyrose"
              ]
             },
             "type": "ordinal"
            },
            "order": {
             "field": "response",
             "sort": "ascending",
             "type": "quantitative"
            },
            "x": {
             "field": "gvrfgap",
             "scale": {
              "domain": [
               0,
               1
              ]
             },
             "type": "quantitative"
            },
            "y": {
             "field": "cntry",
             "type": "nominal"
            }
           },
           "mark": "bar",
           "title": "Govt shd judge generously * 2014 * 1/5-agr/dis, 789-ref/dk/na"
          }
         ]
        },
        {
         "hconcat": [
          {
           "data": {
            "name": "data-e9b6cacd5ad1eb1e5bd6b2c63e3c98a6"
           },
           "encoding": {
            "color": {
             "field": "response",
             "legend": {
              "title": "Response"
             },
             "scale": {
              "domain": [
               0,
               1,
               2,
               3,
               4,
               5,
               6,
               7,
               8,
               9,
               10,
               77,
               88,
               99
              ],
              "range": [
               "red",
               "indianred",
               "salmon",
               "darkorange",
               "yellow",
               "skyblue",
               "dodgerblue",
               "steelblue",
               "blue",
               "midnightblue",
               "darkmagenta",
               "gray",
               "silver",
               "mistyrose"
              ]
             },
             "type": "ordinal"
            },
            "order": {
             "field": "response",
             "sort": "ascending",
             "type": "quantitative"
            },
            "x": {
             "field": "gvrfgap",
             "scale": {
              "domain": [
               0,
               1
              ]
             },
             "type": "quantitative"
            },
            "y": {
             "field": "cntry",
             "type": "nominal"
            }
           },
           "mark": "bar",
           "title": "Govt shd judge generously * 2002 * 1/5-agr/dis, 789-ref/dk/na"
          },
          {
           "data": {
            "name": "data-ef39c53241c013459ff9c2ad3e07f357"
           },
           "encoding": {
            "color": {
             "field": "response",
             "legend": {
              "title": "Response"
             },
             "scale": {
              "domain": [
               0,
               1,
               2,
               3,
               4,
               5,
               6,
               7,
               8,
               9,
               10,
               77,
               88,
               99
              ],
              "range": [
               "red",
               "indianred",
               "salmon",
               "darkorange",
               "yellow",
               "skyblue",
               "dodgerblue",
               "steelblue",
               "blue",
               "midnightblue",
               "darkmagenta",
               "gray",
               "silver",
               "mistyrose"
              ]
             },
             "type": "ordinal"
            },
            "order": {
             "field": "response",
             "sort": "ascending",
             "type": "quantitative"
            },
            "x": {
             "field": "gvrfgap",
             "scale": {
              "domain": [
               0,
               1
              ]
             },
             "type": "quantitative"
            },
            "y": {
             "field": "cntry",
             "type": "nominal"
            }
           },
           "mark": "bar",
           "title": "Govt shd judge generously * 2014 * 1/5-agr/dis, 789-ref/dk/na"
          }
         ]
        },
        {
         "hconcat": [
          {
           "data": {
            "name": "data-fb382c365791eb1704e2075c7382829e"
           },
           "encoding": {
            "color": {
             "field": "response",
             "legend": {
              "title": "Response"
             },
             "scale": {
              "domain": [
               0,
               1,
               2,
               3,
               4,
               5,
               6,
               7,
               8,
               9,
               10,
               77,
               88,
               99
              ],
              "range": [
               "red",
               "indianred",
               "salmon",
               "darkorange",
               "yellow",
               "skyblue",
               "dodgerblue",
               "steelblue",
               "blue",
               "midnightblue",
               "darkmagenta",
               "gray",
               "silver",
               "mistyrose"
              ]
             },
             "type": "ordinal"
            },
            "order": {
             "field": "response",
             "sort": "ascending",
             "type": "quantitative"
            },
            "x": {
             "field": "gvrfgap",
             "scale": {
              "domain": [
               0,
               1
              ]
             },
             "type": "quantitative"
            },
            "y": {
             "field": "cntry",
             "type": "nominal"
            }
           },
           "mark": "bar",
           "title": "Govt shd judge generously * 2002 * 1/5-agr/dis, 789-ref/dk/na"
          },
          {
           "data": {
            "name": "data-b924ee1b1a06b654636f4253fe12af7b"
           },
           "encoding": {
            "color": {
             "field": "response",
             "legend": {
              "title": "Response"
             },
             "scale": {
              "domain": [
               0,
               1,
               2,
               3,
               4,
               5,
               6,
               7,
               8,
               9,
               10,
               77,
               88,
               99
              ],
              "range": [
               "red",
               "indianred",
               "salmon",
               "darkorange",
               "yellow",
               "skyblue",
               "dodgerblue",
               "steelblue",
               "blue",
               "midnightblue",
               "darkmagenta",
               "gray",
               "silver",
               "mistyrose"
              ]
             },
             "type": "ordinal"
            },
            "order": {
             "field": "response",
             "sort": "ascending",
             "type": "quantitative"
            },
            "x": {
             "field": "gvrfgap",
             "scale": {
              "domain": [
               0,
               1
              ]
             },
             "type": "quantitative"
            },
            "y": {
             "field": "cntry",
             "type": "nominal"
            }
           },
           "mark": "bar",
           "title": "Govt shd judge generously * 2014 * 1/5-agr/dis, 789-ref/dk/na"
          }
         ]
        },
        {
         "hconcat": [
          {
           "data": {
            "name": "data-1cab5e1d9d46764b8013bcc260a98ecc"
           },
           "encoding": {
            "color": {
             "field": "response",
             "legend": {
              "title": "Response"
             },
             "scale": {
              "domain": [
               0,
               1,
               2,
               3,
               4,
               5,
               6,
               7,
               8,
               9,
               10,
               77,
               88,
               99
              ],
              "range": [
               "red",
               "indianred",
               "salmon",
               "darkorange",
               "yellow",
               "skyblue",
               "dodgerblue",
               "steelblue",
               "blue",
               "midnightblue",
               "darkmagenta",
               "gray",
               "silver",
               "mistyrose"
              ]
             },
             "type": "ordinal"
            },
            "order": {
             "field": "response",
             "sort": "ascending",
             "type": "quantitative"
            },
            "x": {
             "field": "gvrfgap",
             "scale": {
              "domain": [
               0,
               1
              ]
             },
             "type": "quantitative"
            },
            "y": {
             "field": "cntry",
             "type": "nominal"
            }
           },
           "mark": "bar",
           "title": "Govt shd judge generously * 2002 * 1/5-agr/dis, 789-ref/dk/na"
          },
          {
           "data": {
            "name": "data-a194b4788f6669f55bea79319194455c"
           },
           "encoding": {
            "color": {
             "field": "response",
             "legend": {
              "title": "Response"
             },
             "scale": {
              "domain": [
               0,
               1,
               2,
               3,
               4,
               5,
               6,
               7,
               8,
               9,
               10,
               77,
               88,
               99
              ],
              "range": [
               "red",
               "indianred",
               "salmon",
               "darkorange",
               "yellow",
               "skyblue",
               "dodgerblue",
               "steelblue",
               "blue",
               "midnightblue",
               "darkmagenta",
               "gray",
               "silver",
               "mistyrose"
              ]
             },
             "type": "ordinal"
            },
            "order": {
             "field": "response",
             "sort": "ascending",
             "type": "quantitative"
            },
            "x": {
             "field": "gvrfgap",
             "scale": {
              "domain": [
               0,
               1
              ]
             },
             "type": "quantitative"
            },
            "y": {
             "field": "cntry",
             "type": "nominal"
            }
           },
           "mark": "bar",
           "title": "Govt shd judge generously * 2014 * 1/5-agr/dis, 789-ref/dk/na"
          }
         ]
        }
       ]
      },
      "image/png": "[encoded data removed]",
      "text/plain": [
       "<VegaLite 2 object>\n",
       "\n",
       "If you see this message, it means the renderer has not been properly enabled\n",
       "for the frontend that you are using. For more information, see\n",
       "https://altair-viz.github.io/user_guide/troubleshooting.html\n"
      ]
     },
     "execution_count": 116,
     "metadata": {},
     "output_type": "execute_result"
    }
   ],
   "source": [
    "utils.multigroup_plot(imm, ALL, 'gvrfgap')"
   ]
  },
  {
   "cell_type": "code",
   "execution_count": 119,
   "metadata": {},
   "outputs": [
    {
     "data": {
      "application/vnd.vegalite.v2+json": {
       "$schema": "https://vega.github.io/schema/vega-lite/v2.6.0.json",
       "config": {
        "view": {
         "height": 300,
         "width": 400
        }
       },
       "datasets": {
        "data-21030d6520898c2d5eb623ac5236640b": [
         {
          "cntry": "ES",
          "eimpcnt": 0.17202604654315673,
          "essrnd": 1,
          "response": 1
         },
         {
          "cntry": "ES",
          "eimpcnt": 0.2964287851851631,
          "essrnd": 1,
          "response": 2
         },
         {
          "cntry": "ES",
          "eimpcnt": 0.37334033923446913,
          "essrnd": 1,
          "response": 3
         },
         {
          "cntry": "ES",
          "eimpcnt": 0.0668952413104025,
          "essrnd": 1,
          "response": 4
         },
         {
          "cntry": "ES",
          "eimpcnt": 0.0031974152732500436,
          "essrnd": 1,
          "response": 7
         },
         {
          "cntry": "ES",
          "eimpcnt": 0.08811217245355878,
          "essrnd": 1,
          "response": 8
         },
         {
          "cntry": "PT",
          "eimpcnt": 0.05644110243742897,
          "essrnd": 1,
          "response": 1
         },
         {
          "cntry": "PT",
          "eimpcnt": 0.31043064410774956,
          "essrnd": 1,
          "response": 2
         },
         {
          "cntry": "PT",
          "eimpcnt": 0.3771647756035395,
          "essrnd": 1,
          "response": 3
         },
         {
          "cntry": "PT",
          "eimpcnt": 0.19512514121067764,
          "essrnd": 1,
          "response": 4
         },
         {
          "cntry": "PT",
          "eimpcnt": 0.0008243746462146808,
          "essrnd": 1,
          "response": 7
         },
         {
          "cntry": "PT",
          "eimpcnt": 0.05471814181041171,
          "essrnd": 1,
          "response": 8
         },
         {
          "cntry": "PT",
          "eimpcnt": 0.005295820183977808,
          "essrnd": 1,
          "response": 9
         },
         {
          "cntry": "GR",
          "eimpcnt": 0.03472865942600799,
          "essrnd": 1,
          "response": 1
         },
         {
          "cntry": "GR",
          "eimpcnt": 0.12713623466656734,
          "essrnd": 1,
          "response": 2
         },
         {
          "cntry": "GR",
          "eimpcnt": 0.6026061910186439,
          "essrnd": 1,
          "response": 3
         },
         {
          "cntry": "GR",
          "eimpcnt": 0.20362172632901035,
          "essrnd": 1,
          "response": 4
         },
         {
          "cntry": "GR",
          "eimpcnt": 0.00048671627047377374,
          "essrnd": 1,
          "response": 7
         },
         {
          "cntry": "GR",
          "eimpcnt": 0.0314204722892955,
          "essrnd": 1,
          "response": 8
         },
         {
          "cntry": "IT",
          "eimpcnt": 0.1565838034305894,
          "essrnd": 1,
          "response": 1
         },
         {
          "cntry": "IT",
          "eimpcnt": 0.47244810137998366,
          "essrnd": 1,
          "response": 2
         },
         {
          "cntry": "IT",
          "eimpcnt": 0.25080768239522055,
          "essrnd": 1,
          "response": 3
         },
         {
          "cntry": "IT",
          "eimpcnt": 0.0753528990954153,
          "essrnd": 1,
          "response": 4
         },
         {
          "cntry": "IT",
          "eimpcnt": 0.04480751369879047,
          "essrnd": 1,
          "response": 8
         },
         {
          "cntry": "SI",
          "eimpcnt": 0.08710963057140146,
          "essrnd": 1,
          "response": 1
         },
         {
          "cntry": "SI",
          "eimpcnt": 0.4798053526263618,
          "essrnd": 1,
          "response": 2
         },
         {
          "cntry": "SI",
          "eimpcnt": 0.3036502729245034,
          "essrnd": 1,
          "response": 3
         },
         {
          "cntry": "SI",
          "eimpcnt": 0.08848256368010757,
          "essrnd": 1,
          "response": 4
         },
         {
          "cntry": "SI",
          "eimpcnt": 0.038076549023235706,
          "essrnd": 1,
          "response": 8
         },
         {
          "cntry": "SI",
          "eimpcnt": 0.002875631174390322,
          "essrnd": 1,
          "response": 9
         }
        ],
        "data-21fa301419c89dcaf114e5a032d7178f": [
         {
          "cntry": "EE",
          "eimpcnt": 0.08650352553430332,
          "essrnd": 7,
          "response": 1
         },
         {
          "cntry": "EE",
          "eimpcnt": 0.37073267170250485,
          "essrnd": 7,
          "response": 2
         },
         {
          "cntry": "EE",
          "eimpcnt": 0.375940106196834,
          "essrnd": 7,
          "response": 3
         },
         {
          "cntry": "EE",
          "eimpcnt": 0.14838621360991877,
          "essrnd": 7,
          "response": 4
         },
         {
          "cntry": "EE",
          "eimpcnt": 0.018437482956447638,
          "essrnd": 7,
          "response": 8
         },
         {
          "cntry": "FI",
          "eimpcnt": 0.11280097962303606,
          "essrnd": 7,
          "response": 1
         },
         {
          "cntry": "FI",
          "eimpcnt": 0.3161339914914313,
          "essrnd": 7,
          "response": 2
         },
         {
          "cntry": "FI",
          "eimpcnt": 0.47038093069926773,
          "essrnd": 7,
          "response": 3
         },
         {
          "cntry": "FI",
          "eimpcnt": 0.08619556519484577,
          "essrnd": 7,
          "response": 4
         },
         {
          "cntry": "FI",
          "eimpcnt": 0.0018144582497102775,
          "essrnd": 7,
          "response": 7
         },
         {
          "cntry": "FI",
          "eimpcnt": 0.012674074741708861,
          "essrnd": 7,
          "response": 8
         },
         {
          "cntry": "LT",
          "eimpcnt": 0.09347342206884394,
          "essrnd": 7,
          "response": 1
         },
         {
          "cntry": "LT",
          "eimpcnt": 0.34342361225277207,
          "essrnd": 7,
          "response": 2
         },
         {
          "cntry": "LT",
          "eimpcnt": 0.31984436726847487,
          "essrnd": 7,
          "response": 3
         },
         {
          "cntry": "LT",
          "eimpcnt": 0.17310243773809547,
          "essrnd": 7,
          "response": 4
         },
         {
          "cntry": "LT",
          "eimpcnt": 0.07015616067181327,
          "essrnd": 7,
          "response": 8
         }
        ],
        "data-2ce0c29132242f0ea83e458c3a80968d": [
         {
          "cntry": "DK",
          "eimpcnt": 0.11760685039583517,
          "essrnd": 1,
          "response": 1
         },
         {
          "cntry": "DK",
          "eimpcnt": 0.4046252209789849,
          "essrnd": 1,
          "response": 2
         },
         {
          "cntry": "DK",
          "eimpcnt": 0.37518989874743774,
          "essrnd": 1,
          "response": 3
         },
         {
          "cntry": "DK",
          "eimpcnt": 0.0435260835691118,
          "essrnd": 1,
          "response": 4
         },
         {
          "cntry": "DK",
          "eimpcnt": 0.04535127855316126,
          "essrnd": 1,
          "response": 8
         },
         {
          "cntry": "DK",
          "eimpcnt": 0.013700667755469607,
          "essrnd": 1,
          "response": 9
         },
         {
          "cntry": "NO",
          "eimpcnt": 0.14473275465064459,
          "essrnd": 1,
          "response": 1
         },
         {
          "cntry": "NO",
          "eimpcnt": 0.5144196040173222,
          "essrnd": 1,
          "response": 2
         },
         {
          "cntry": "NO",
          "eimpcnt": 0.29467512725954387,
          "essrnd": 1,
          "response": 3
         },
         {
          "cntry": "NO",
          "eimpcnt": 0.03707009029549449,
          "essrnd": 1,
          "response": 4
         },
         {
          "cntry": "NO",
          "eimpcnt": 0.0017284154186789503,
          "essrnd": 1,
          "response": 7
         },
         {
          "cntry": "NO",
          "eimpcnt": 0.007374008358315952,
          "essrnd": 1,
          "response": 8
         },
         {
          "cntry": "SE",
          "eimpcnt": 0.29528972178273094,
          "essrnd": 1,
          "response": 1
         },
         {
          "cntry": "SE",
          "eimpcnt": 0.5417987965654434,
          "essrnd": 1,
          "response": 2
         },
         {
          "cntry": "SE",
          "eimpcnt": 0.10473399062406914,
          "essrnd": 1,
          "response": 3
         },
         {
          "cntry": "SE",
          "eimpcnt": 0.015381687719569983,
          "essrnd": 1,
          "response": 4
         },
         {
          "cntry": "SE",
          "eimpcnt": 0.010169044778165126,
          "essrnd": 1,
          "response": 7
         },
         {
          "cntry": "SE",
          "eimpcnt": 0.03213145067382472,
          "essrnd": 1,
          "response": 8
         },
         {
          "cntry": "SE",
          "eimpcnt": 0.0004953078561964766,
          "essrnd": 1,
          "response": 9
         }
        ],
        "data-2e280d7c9b11625b8d409eaee5e2ba03": [
         {
          "cntry": "CH",
          "eimpcnt": 0.15129241711155977,
          "essrnd": 1,
          "response": 1
         },
         {
          "cntry": "CH",
          "eimpcnt": 0.5462237805566437,
          "essrnd": 1,
          "response": 2
         },
         {
          "cntry": "CH",
          "eimpcnt": 0.2450248236089317,
          "essrnd": 1,
          "response": 3
         },
         {
          "cntry": "CH",
          "eimpcnt": 0.013786046093608078,
          "essrnd": 1,
          "response": 4
         },
         {
          "cntry": "CH",
          "eimpcnt": 0.043672932629256915,
          "essrnd": 1,
          "response": 8
         },
         {
          "cntry": "GB",
          "eimpcnt": 0.08565721569071989,
          "essrnd": 1,
          "response": 1
         },
         {
          "cntry": "GB",
          "eimpcnt": 0.4451967714886368,
          "essrnd": 1,
          "response": 2
         },
         {
          "cntry": "GB",
          "eimpcnt": 0.3345953550864242,
          "essrnd": 1,
          "response": 3
         },
         {
          "cntry": "GB",
          "eimpcnt": 0.12204075428129023,
          "essrnd": 1,
          "response": 4
         },
         {
          "cntry": "GB",
          "eimpcnt": 0.001111748402332605,
          "essrnd": 1,
          "response": 7
         },
         {
          "cntry": "GB",
          "eimpcnt": 0.011398155050595682,
          "essrnd": 1,
          "response": 8
         },
         {
          "cntry": "IE",
          "eimpcnt": 0.1323450415979214,
          "essrnd": 1,
          "response": 1
         },
         {
          "cntry": "IE",
          "eimpcnt": 0.5275958760772114,
          "essrnd": 1,
          "response": 2
         },
         {
          "cntry": "IE",
          "eimpcnt": 0.2599045626283677,
          "essrnd": 1,
          "response": 3
         },
         {
          "cntry": "IE",
          "eimpcnt": 0.04577432203161242,
          "essrnd": 1,
          "response": 4
         },
         {
          "cntry": "IE",
          "eimpcnt": 0.028801675852616778,
          "essrnd": 1,
          "response": 8
         },
         {
          "cntry": "IE",
          "eimpcnt": 0.0055785218122689105,
          "essrnd": 1,
          "response": 9
         },
         {
          "cntry": "IL",
          "eimpcnt": 0.2389730673112391,
          "essrnd": 1,
          "response": 1
         },
         {
          "cntry": "IL",
          "eimpcnt": 0.293515105965322,
          "essrnd": 1,
          "response": 2
         },
         {
          "cntry": "IL",
          "eimpcnt": 0.218300982280322,
          "essrnd": 1,
          "response": 3
         },
         {
          "cntry": "IL",
          "eimpcnt": 0.16717430924078386,
          "essrnd": 1,
          "response": 4
         },
         {
          "cntry": "IL",
          "eimpcnt": 0.07289039968370024,
          "essrnd": 1,
          "response": 8
         },
         {
          "cntry": "IL",
          "eimpcnt": 0.009146135518632774,
          "essrnd": 1,
          "response": 9
         }
        ],
        "data-4727062a19b64a0c220c93d1cd1ff5c6": [
         {
          "cntry": "DE",
          "eimpcnt": 0.12408710315299051,
          "essrnd": 1,
          "response": 1
         },
         {
          "cntry": "DE",
          "eimpcnt": 0.4955456997053881,
          "essrnd": 1,
          "response": 2
         },
         {
          "cntry": "DE",
          "eimpcnt": 0.29471407493470325,
          "essrnd": 1,
          "response": 3
         },
         {
          "cntry": "DE",
          "eimpcnt": 0.06544204653423867,
          "essrnd": 1,
          "response": 4
         },
         {
          "cntry": "DE",
          "eimpcnt": 0.00389584431781096,
          "essrnd": 1,
          "response": 7
         },
         {
          "cntry": "DE",
          "eimpcnt": 0.01631523135486773,
          "essrnd": 1,
          "response": 8
         },
         {
          "cntry": "FR",
          "eimpcnt": 0.08881099733345042,
          "essrnd": 1,
          "response": 1
         },
         {
          "cntry": "FR",
          "eimpcnt": 0.45727849864988085,
          "essrnd": 1,
          "response": 2
         },
         {
          "cntry": "FR",
          "eimpcnt": 0.33307355872302474,
          "essrnd": 1,
          "response": 3
         },
         {
          "cntry": "FR",
          "eimpcnt": 0.0886312456572151,
          "essrnd": 1,
          "response": 4
         },
         {
          "cntry": "FR",
          "eimpcnt": 0.03220569963642889,
          "essrnd": 1,
          "response": 8
         },
         {
          "cntry": "IT",
          "eimpcnt": 0.1565838034305894,
          "essrnd": 1,
          "response": 1
         },
         {
          "cntry": "IT",
          "eimpcnt": 0.47244810137998366,
          "essrnd": 1,
          "response": 2
         },
         {
          "cntry": "IT",
          "eimpcnt": 0.25080768239522055,
          "essrnd": 1,
          "response": 3
         },
         {
          "cntry": "IT",
          "eimpcnt": 0.0753528990954153,
          "essrnd": 1,
          "response": 4
         },
         {
          "cntry": "IT",
          "eimpcnt": 0.04480751369879047,
          "essrnd": 1,
          "response": 8
         }
        ],
        "data-4b9bf45a5e732a5a0cfc5ff7a6ea617f": [
         {
          "cntry": "PL",
          "eimpcnt": 0.09339478140681473,
          "essrnd": 1,
          "response": 1
         },
         {
          "cntry": "PL",
          "eimpcnt": 0.45625629327919226,
          "essrnd": 1,
          "response": 2
         },
         {
          "cntry": "PL",
          "eimpcnt": 0.324993938606196,
          "essrnd": 1,
          "response": 3
         },
         {
          "cntry": "PL",
          "eimpcnt": 0.05877610412834011,
          "essrnd": 1,
          "response": 4
         },
         {
          "cntry": "PL",
          "eimpcnt": 0.06657888257945743,
          "essrnd": 1,
          "response": 8
         },
         {
          "cntry": "HU",
          "eimpcnt": 0.03592885575920309,
          "essrnd": 1,
          "response": 1
         },
         {
          "cntry": "HU",
          "eimpcnt": 0.11171410946053044,
          "essrnd": 1,
          "response": 2
         },
         {
          "cntry": "HU",
          "eimpcnt": 0.5791124414066435,
          "essrnd": 1,
          "response": 3
         },
         {
          "cntry": "HU",
          "eimpcnt": 0.18448402876143974,
          "essrnd": 1,
          "response": 4
         },
         {
          "cntry": "HU",
          "eimpcnt": 0.08876056461218419,
          "essrnd": 1,
          "response": 8
         },
         {
          "cntry": "CZ",
          "eimpcnt": 0.08110710053143351,
          "essrnd": 1,
          "response": 1
         },
         {
          "cntry": "CZ",
          "eimpcnt": 0.4311555006396119,
          "essrnd": 1,
          "response": 2
         },
         {
          "cntry": "CZ",
          "eimpcnt": 0.3349832331738749,
          "essrnd": 1,
          "response": 3
         },
         {
          "cntry": "CZ",
          "eimpcnt": 0.09449241163027557,
          "essrnd": 1,
          "response": 4
         },
         {
          "cntry": "CZ",
          "eimpcnt": 0.05232751308291827,
          "essrnd": 1,
          "response": 8
         },
         {
          "cntry": "CZ",
          "eimpcnt": 0.005934240941885462,
          "essrnd": 1,
          "response": 9
         }
        ],
        "data-672e9588717fdf48c7c6d6b4a53b3f22": [
         {
          "cntry": "PL",
          "eimpcnt": 0.1566972326428313,
          "essrnd": 7,
          "response": 1
         },
         {
          "cntry": "PL",
          "eimpcnt": 0.4707456477550386,
          "essrnd": 7,
          "response": 2
         },
         {
          "cntry": "PL",
          "eimpcnt": 0.2687858784379624,
          "essrnd": 7,
          "response": 3
         },
         {
          "cntry": "PL",
          "eimpcnt": 0.06617832893932081,
          "essrnd": 7,
          "response": 4
         },
         {
          "cntry": "PL",
          "eimpcnt": 0.037592912224846446,
          "essrnd": 7,
          "response": 8
         },
         {
          "cntry": "HU",
          "eimpcnt": 0.0325835477246671,
          "essrnd": 7,
          "response": 1
         },
         {
          "cntry": "HU",
          "eimpcnt": 0.13804615091689146,
          "essrnd": 7,
          "response": 2
         },
         {
          "cntry": "HU",
          "eimpcnt": 0.4246088984546706,
          "essrnd": 7,
          "response": 3
         },
         {
          "cntry": "HU",
          "eimpcnt": 0.3596019731706299,
          "essrnd": 7,
          "response": 4
         },
         {
          "cntry": "HU",
          "eimpcnt": 0.00694639579823841,
          "essrnd": 7,
          "response": 7
         },
         {
          "cntry": "HU",
          "eimpcnt": 0.03821303393490134,
          "essrnd": 7,
          "response": 8
         },
         {
          "cntry": "CZ",
          "eimpcnt": 1.0000000000000018,
          "essrnd": 7,
          "response": 9
         }
        ],
        "data-6748a48e72dfc60a76a5e18b2801ee4a": [
         {
          "cntry": "ES",
          "eimpcnt": 0.20651067136911355,
          "essrnd": 7,
          "response": 1
         },
         {
          "cntry": "ES",
          "eimpcnt": 0.3067179006469251,
          "essrnd": 7,
          "response": 2
         },
         {
          "cntry": "ES",
          "eimpcnt": 0.3037670798860093,
          "essrnd": 7,
          "response": 3
         },
         {
          "cntry": "ES",
          "eimpcnt": 0.10957489542134217,
          "essrnd": 7,
          "response": 4
         },
         {
          "cntry": "ES",
          "eimpcnt": 0.02420178780860205,
          "essrnd": 7,
          "response": 7
         },
         {
          "cntry": "ES",
          "eimpcnt": 0.04868342885295397,
          "essrnd": 7,
          "response": 8
         },
         {
          "cntry": "ES",
          "eimpcnt": 0.0005442360150526439,
          "essrnd": 7,
          "response": 9
         },
         {
          "cntry": "PT",
          "eimpcnt": 0.09978367206093847,
          "essrnd": 7,
          "response": 1
         },
         {
          "cntry": "PT",
          "eimpcnt": 0.47813954392510866,
          "essrnd": 7,
          "response": 2
         },
         {
          "cntry": "PT",
          "eimpcnt": 0.2806425149175936,
          "essrnd": 7,
          "response": 3
         },
         {
          "cntry": "PT",
          "eimpcnt": 0.12641434509934124,
          "essrnd": 7,
          "response": 4
         },
         {
          "cntry": "PT",
          "eimpcnt": 0.0014882331418336712,
          "essrnd": 7,
          "response": 7
         },
         {
          "cntry": "PT",
          "eimpcnt": 0.013531690855184852,
          "essrnd": 7,
          "response": 8
         },
         {
          "cntry": "GR",
          "eimpcnt": 0,
          "essrnd": 7,
          "response": 0
         },
         {
          "cntry": "IT",
          "eimpcnt": 0,
          "essrnd": 7,
          "response": 0
         },
         {
          "cntry": "SI",
          "eimpcnt": 0.13447300035481322,
          "essrnd": 7,
          "response": 1
         },
         {
          "cntry": "SI",
          "eimpcnt": 0.4679601350991327,
          "essrnd": 7,
          "response": 2
         },
         {
          "cntry": "SI",
          "eimpcnt": 0.22075346973179083,
          "essrnd": 7,
          "response": 3
         },
         {
          "cntry": "SI",
          "eimpcnt": 0.13256008932802835,
          "essrnd": 7,
          "response": 4
         },
         {
          "cntry": "SI",
          "eimpcnt": 0.03824554353845843,
          "essrnd": 7,
          "response": 8
         },
         {
          "cntry": "SI",
          "eimpcnt": 0.006007761947777725,
          "essrnd": 7,
          "response": 9
         }
        ],
        "data-7b885f529e5c8628a75c6cdc7dfd09c1": [
         {
          "cntry": "BE",
          "eimpcnt": 0.11784390203812677,
          "essrnd": 7,
          "response": 1
         },
         {
          "cntry": "BE",
          "eimpcnt": 0.4858954517688761,
          "essrnd": 7,
          "response": 2
         },
         {
          "cntry": "BE",
          "eimpcnt": 0.26461008736753716,
          "essrnd": 7,
          "response": 3
         },
         {
          "cntry": "BE",
          "eimpcnt": 0.12557508060790853,
          "essrnd": 7,
          "response": 4
         },
         {
          "cntry": "BE",
          "eimpcnt": 0.006075478217551079,
          "essrnd": 7,
          "response": 8
         },
         {
          "cntry": "NL",
          "eimpcnt": 0.12105817293987317,
          "essrnd": 7,
          "response": 1
         },
         {
          "cntry": "NL",
          "eimpcnt": 0.45297109375811107,
          "essrnd": 7,
          "response": 2
         },
         {
          "cntry": "NL",
          "eimpcnt": 0.3203035514740458,
          "essrnd": 7,
          "response": 3
         },
         {
          "cntry": "NL",
          "eimpcnt": 0.09867367991234542,
          "essrnd": 7,
          "response": 4
         },
         {
          "cntry": "NL",
          "eimpcnt": 0.0012144934675981554,
          "essrnd": 7,
          "response": 7
         },
         {
          "cntry": "NL",
          "eimpcnt": 0.005779008448026398,
          "essrnd": 7,
          "response": 8
         },
         {
          "cntry": "LU",
          "eimpcnt": 0,
          "essrnd": 7,
          "response": 0
         }
        ],
        "data-8cc0f1299e6c82b607bb31715eb36337": [
         {
          "cntry": "DE",
          "eimpcnt": 0.22551450520982524,
          "essrnd": 7,
          "response": 1
         },
         {
          "cntry": "DE",
          "eimpcnt": 0.46818594019880594,
          "essrnd": 7,
          "response": 2
         },
         {
          "cntry": "DE",
          "eimpcnt": 0.23943702323545826,
          "essrnd": 7,
          "response": 3
         },
         {
          "cntry": "DE",
          "eimpcnt": 0.05350877794119306,
          "essrnd": 7,
          "response": 4
         },
         {
          "cntry": "DE",
          "eimpcnt": 0.0027787222404579578,
          "essrnd": 7,
          "response": 7
         },
         {
          "cntry": "DE",
          "eimpcnt": 0.010575031174261082,
          "essrnd": 7,
          "response": 8
         },
         {
          "cntry": "FR",
          "eimpcnt": 0.12011225277743362,
          "essrnd": 7,
          "response": 1
         },
         {
          "cntry": "FR",
          "eimpcnt": 0.4657774964057192,
          "essrnd": 7,
          "response": 2
         },
         {
          "cntry": "FR",
          "eimpcnt": 0.26112433624940906,
          "essrnd": 7,
          "response": 3
         },
         {
          "cntry": "FR",
          "eimpcnt": 0.14046707402264003,
          "essrnd": 7,
          "response": 4
         },
         {
          "cntry": "FR",
          "eimpcnt": 0.003160885141456294,
          "essrnd": 7,
          "response": 7
         },
         {
          "cntry": "FR",
          "eimpcnt": 0.009357955403342201,
          "essrnd": 7,
          "response": 8
         },
         {
          "cntry": "IT",
          "eimpcnt": 0,
          "essrnd": 7,
          "response": 0
         }
        ],
        "data-aeefe2d3326d7aa0c1e36911f0d1e81b": [
         {
          "cntry": "CH",
          "eimpcnt": 0.1324502502826303,
          "essrnd": 7,
          "response": 1
         },
         {
          "cntry": "CH",
          "eimpcnt": 0.5006771400252831,
          "essrnd": 7,
          "response": 2
         },
         {
          "cntry": "CH",
          "eimpcnt": 0.30155762265731084,
          "essrnd": 7,
          "response": 3
         },
         {
          "cntry": "CH",
          "eimpcnt": 0.04446181587450642,
          "essrnd": 7,
          "response": 4
         },
         {
          "cntry": "CH",
          "eimpcnt": 0.02085317116027051,
          "essrnd": 7,
          "response": 8
         },
         {
          "cntry": "GB",
          "eimpcnt": 0.10915167298008197,
          "essrnd": 7,
          "response": 1
         },
         {
          "cntry": "GB",
          "eimpcnt": 0.4049432405931796,
          "essrnd": 7,
          "response": 2
         },
         {
          "cntry": "GB",
          "eimpcnt": 0.31151582471841716,
          "essrnd": 7,
          "response": 3
         },
         {
          "cntry": "GB",
          "eimpcnt": 0.1583409281078463,
          "essrnd": 7,
          "response": 4
         },
         {
          "cntry": "GB",
          "eimpcnt": 0.001763735704296303,
          "essrnd": 7,
          "response": 7
         },
         {
          "cntry": "GB",
          "eimpcnt": 0.014284597896180059,
          "essrnd": 7,
          "response": 8
         },
         {
          "cntry": "IE",
          "eimpcnt": 0.13213200888328044,
          "essrnd": 7,
          "response": 1
         },
         {
          "cntry": "IE",
          "eimpcnt": 0.38584647156156576,
          "essrnd": 7,
          "response": 2
         },
         {
          "cntry": "IE",
          "eimpcnt": 0.3316916210192429,
          "essrnd": 7,
          "response": 3
         },
         {
          "cntry": "IE",
          "eimpcnt": 0.13030766339907235,
          "essrnd": 7,
          "response": 4
         },
         {
          "cntry": "IE",
          "eimpcnt": 0.0017931646781677681,
          "essrnd": 7,
          "response": 7
         },
         {
          "cntry": "IE",
          "eimpcnt": 0.01822907045867304,
          "essrnd": 7,
          "response": 8
         },
         {
          "cntry": "IL",
          "eimpcnt": 0.06554079237753475,
          "essrnd": 7,
          "response": 1
         },
         {
          "cntry": "IL",
          "eimpcnt": 0.22752931902662304,
          "essrnd": 7,
          "response": 2
         },
         {
          "cntry": "IL",
          "eimpcnt": 0.2751176518955716,
          "essrnd": 7,
          "response": 3
         },
         {
          "cntry": "IL",
          "eimpcnt": 0.3846235511207308,
          "essrnd": 7,
          "response": 4
         },
         {
          "cntry": "IL",
          "eimpcnt": 0.04718868557953996,
          "essrnd": 7,
          "response": 8
         }
        ],
        "data-dc4efba003d9a475f2cbf13c52459ac7": [
         {
          "cntry": "DK",
          "eimpcnt": 0.11675881235725187,
          "essrnd": 7,
          "response": 1
         },
         {
          "cntry": "DK",
          "eimpcnt": 0.42020373074449324,
          "essrnd": 7,
          "response": 2
         },
         {
          "cntry": "DK",
          "eimpcnt": 0.3660301078183461,
          "essrnd": 7,
          "response": 3
         },
         {
          "cntry": "DK",
          "eimpcnt": 0.07886719646787044,
          "essrnd": 7,
          "response": 4
         },
         {
          "cntry": "DK",
          "eimpcnt": 0.015426180930966251,
          "essrnd": 7,
          "response": 8
         },
         {
          "cntry": "DK",
          "eimpcnt": 0.0027139716810704482,
          "essrnd": 7,
          "response": 9
         },
         {
          "cntry": "NO",
          "eimpcnt": 0.19960713011853956,
          "essrnd": 7,
          "response": 1
         },
         {
          "cntry": "NO",
          "eimpcnt": 0.5363409724156796,
          "essrnd": 7,
          "response": 2
         },
         {
          "cntry": "NO",
          "eimpcnt": 0.2295013608533881,
          "essrnd": 7,
          "response": 3
         },
         {
          "cntry": "NO",
          "eimpcnt": 0.027828542338836807,
          "essrnd": 7,
          "response": 4
         },
         {
          "cntry": "NO",
          "eimpcnt": 0.0004896634195803396,
          "essrnd": 7,
          "response": 7
         },
         {
          "cntry": "NO",
          "eimpcnt": 0.0062323308539759936,
          "essrnd": 7,
          "response": 8
         },
         {
          "cntry": "SE",
          "eimpcnt": 0.38336568389191017,
          "essrnd": 7,
          "response": 1
         },
         {
          "cntry": "SE",
          "eimpcnt": 0.478331835053277,
          "essrnd": 7,
          "response": 2
         },
         {
          "cntry": "SE",
          "eimpcnt": 0.10189003981934466,
          "essrnd": 7,
          "response": 3
         },
         {
          "cntry": "SE",
          "eimpcnt": 0.015916914902265305,
          "essrnd": 7,
          "response": 4
         },
         {
          "cntry": "SE",
          "eimpcnt": 0.001856163590377753,
          "essrnd": 7,
          "response": 7
         },
         {
          "cntry": "SE",
          "eimpcnt": 0.018639362742824527,
          "essrnd": 7,
          "response": 8
         }
        ],
        "data-dd809ebe90d3152d6a9ebbacc5f7a069": [
         {
          "cntry": "EE",
          "eimpcnt": 0,
          "essrnd": 1,
          "response": 0
         },
         {
          "cntry": "FI",
          "eimpcnt": 0.09629241820401838,
          "essrnd": 1,
          "response": 1
         },
         {
          "cntry": "FI",
          "eimpcnt": 0.35667568546215483,
          "essrnd": 1,
          "response": 2
         },
         {
          "cntry": "FI",
          "eimpcnt": 0.4604619612281862,
          "essrnd": 1,
          "response": 3
         },
         {
          "cntry": "FI",
          "eimpcnt": 0.05959960807353107,
          "essrnd": 1,
          "response": 4
         },
         {
          "cntry": "FI",
          "eimpcnt": 0.026970327032107635,
          "essrnd": 1,
          "response": 8
         },
         {
          "cntry": "LT",
          "eimpcnt": 0,
          "essrnd": 1,
          "response": 0
         }
        ],
        "data-fa5ab97b301c683630272338a93fc67f": [
         {
          "cntry": "BE",
          "eimpcnt": 0.13073101745036822,
          "essrnd": 1,
          "response": 1
         },
         {
          "cntry": "BE",
          "eimpcnt": 0.46486625173939095,
          "essrnd": 1,
          "response": 2
         },
         {
          "cntry": "BE",
          "eimpcnt": 0.2566140763551465,
          "essrnd": 1,
          "response": 3
         },
         {
          "cntry": "BE",
          "eimpcnt": 0.11734511713643735,
          "essrnd": 1,
          "response": 4
         },
         {
          "cntry": "BE",
          "eimpcnt": 0.026112150230382273,
          "essrnd": 1,
          "response": 8
         },
         {
          "cntry": "BE",
          "eimpcnt": 0.004331387088274567,
          "essrnd": 1,
          "response": 9
         },
         {
          "cntry": "NL",
          "eimpcnt": 0.06883283260344948,
          "essrnd": 1,
          "response": 1
         },
         {
          "cntry": "NL",
          "eimpcnt": 0.5073044571593389,
          "essrnd": 1,
          "response": 2
         },
         {
          "cntry": "NL",
          "eimpcnt": 0.3287091892577399,
          "essrnd": 1,
          "response": 3
         },
         {
          "cntry": "NL",
          "eimpcnt": 0.07994362113693845,
          "essrnd": 1,
          "response": 4
         },
         {
          "cntry": "NL",
          "eimpcnt": 0.01520989984253311,
          "essrnd": 1,
          "response": 8
         },
         {
          "cntry": "LU",
          "eimpcnt": 0.12841180276845277,
          "essrnd": 1,
          "response": 1
         },
         {
          "cntry": "LU",
          "eimpcnt": 0.3221893657668855,
          "essrnd": 1,
          "response": 2
         },
         {
          "cntry": "LU",
          "eimpcnt": 0.3682398700275003,
          "essrnd": 1,
          "response": 3
         },
         {
          "cntry": "LU",
          "eimpcnt": 0.08989731365515055,
          "essrnd": 1,
          "response": 4
         },
         {
          "cntry": "LU",
          "eimpcnt": 0.08679788987866835,
          "essrnd": 1,
          "response": 8
         },
         {
          "cntry": "LU",
          "eimpcnt": 0.00446375790334262,
          "essrnd": 1,
          "response": 9
         }
        ]
       },
       "vconcat": [
        {
         "hconcat": [
          {
           "data": {
            "name": "data-4727062a19b64a0c220c93d1cd1ff5c6"
           },
           "encoding": {
            "color": {
             "field": "response",
             "legend": {
              "title": "Response"
             },
             "scale": {
              "domain": [
               0,
               1,
               2,
               3,
               4,
               5,
               6,
               7,
               8,
               9,
               10,
               77,
               88,
               99
              ],
              "range": [
               "red",
               "indianred",
               "salmon",
               "darkorange",
               "yellow",
               "skyblue",
               "dodgerblue",
               "steelblue",
               "blue",
               "midnightblue",
               "darkmagenta",
               "gray",
               "silver",
               "mistyrose"
              ]
             },
             "type": "ordinal"
            },
            "order": {
             "field": "response",
             "sort": "ascending",
             "type": "quantitative"
            },
            "x": {
             "field": "eimpcnt",
             "scale": {
              "domain": [
               0,
               1
              ]
             },
             "type": "quantitative"
            },
            "y": {
             "field": "cntry",
             "type": "nominal"
            }
           },
           "mark": "bar",
           "title": "Alw many/few from poorer cntrys * 2002 * 1-many, 4-none, 789-ref/dk/na"
          },
          {
           "data": {
            "name": "data-8cc0f1299e6c82b607bb31715eb36337"
           },
           "encoding": {
            "color": {
             "field": "response",
             "legend": {
              "title": "Response"
             },
             "scale": {
              "domain": [
               0,
               1,
               2,
               3,
               4,
               5,
               6,
               7,
               8,
               9,
               10,
               77,
               88,
               99
              ],
              "range": [
               "red",
               "indianred",
               "salmon",
               "darkorange",
               "yellow",
               "skyblue",
               "dodgerblue",
               "steelblue",
               "blue",
               "midnightblue",
               "darkmagenta",
               "gray",
               "silver",
               "mistyrose"
              ]
             },
             "type": "ordinal"
            },
            "order": {
             "field": "response",
             "sort": "ascending",
             "type": "quantitative"
            },
            "x": {
             "field": "eimpcnt",
             "scale": {
              "domain": [
               0,
               1
              ]
             },
             "type": "quantitative"
            },
            "y": {
             "field": "cntry",
             "type": "nominal"
            }
           },
           "mark": "bar",
           "title": "Alw many/few from poorer cntrys * 2014 * 1-many, 4-none, 789-ref/dk/na"
          }
         ]
        },
        {
         "hconcat": [
          {
           "data": {
            "name": "data-fa5ab97b301c683630272338a93fc67f"
           },
           "encoding": {
            "color": {
             "field": "response",
             "legend": {
              "title": "Response"
             },
             "scale": {
              "domain": [
               0,
               1,
               2,
               3,
               4,
               5,
               6,
               7,
               8,
               9,
               10,
               77,
               88,
               99
              ],
              "range": [
               "red",
               "indianred",
               "salmon",
               "darkorange",
               "yellow",
               "skyblue",
               "dodgerblue",
               "steelblue",
               "blue",
               "midnightblue",
               "darkmagenta",
               "gray",
               "silver",
               "mistyrose"
              ]
             },
             "type": "ordinal"
            },
            "order": {
             "field": "response",
             "sort": "ascending",
             "type": "quantitative"
            },
            "x": {
             "field": "eimpcnt",
             "scale": {
              "domain": [
               0,
               1
              ]
             },
             "type": "quantitative"
            },
            "y": {
             "field": "cntry",
             "type": "nominal"
            }
           },
           "mark": "bar",
           "title": "Alw many/few from poorer cntrys * 2002 * 1-many, 4-none, 789-ref/dk/na"
          },
          {
           "data": {
            "name": "data-7b885f529e5c8628a75c6cdc7dfd09c1"
           },
           "encoding": {
            "color": {
             "field": "response",
             "legend": {
              "title": "Response"
             },
             "scale": {
              "domain": [
               0,
               1,
               2,
               3,
               4,
               5,
               6,
               7,
               8,
               9,
               10,
               77,
               88,
               99
              ],
              "range": [
               "red",
               "indianred",
               "salmon",
               "darkorange",
               "yellow",
               "skyblue",
               "dodgerblue",
               "steelblue",
               "blue",
               "midnightblue",
               "darkmagenta",
               "gray",
               "silver",
               "mistyrose"
              ]
             },
             "type": "ordinal"
            },
            "order": {
             "field": "response",
             "sort": "ascending",
             "type": "quantitative"
            },
            "x": {
             "field": "eimpcnt",
             "scale": {
              "domain": [
               0,
               1
              ]
             },
             "type": "quantitative"
            },
            "y": {
             "field": "cntry",
             "type": "nominal"
            }
           },
           "mark": "bar",
           "title": "Alw many/few from poorer cntrys * 2014 * 1-many, 4-none, 789-ref/dk/na"
          }
         ]
        },
        {
         "hconcat": [
          {
           "data": {
            "name": "data-21030d6520898c2d5eb623ac5236640b"
           },
           "encoding": {
            "color": {
             "field": "response",
             "legend": {
              "title": "Response"
             },
             "scale": {
              "domain": [
               0,
               1,
               2,
               3,
               4,
               5,
               6,
               7,
               8,
               9,
               10,
               77,
               88,
               99
              ],
              "range": [
               "red",
               "indianred",
               "salmon",
               "darkorange",
               "yellow",
               "skyblue",
               "dodgerblue",
               "steelblue",
               "blue",
               "midnightblue",
               "darkmagenta",
               "gray",
               "silver",
               "mistyrose"
              ]
             },
             "type": "ordinal"
            },
            "order": {
             "field": "response",
             "sort": "ascending",
             "type": "quantitative"
            },
            "x": {
             "field": "eimpcnt",
             "scale": {
              "domain": [
               0,
               1
              ]
             },
             "type": "quantitative"
            },
            "y": {
             "field": "cntry",
             "type": "nominal"
            }
           },
           "mark": "bar",
           "title": "Alw many/few from poorer cntrys * 2002 * 1-many, 4-none, 789-ref/dk/na"
          },
          {
           "data": {
            "name": "data-6748a48e72dfc60a76a5e18b2801ee4a"
           },
           "encoding": {
            "color": {
             "field": "response",
             "legend": {
              "title": "Response"
             },
             "scale": {
              "domain": [
               0,
               1,
               2,
               3,
               4,
               5,
               6,
               7,
               8,
               9,
               10,
               77,
               88,
               99
              ],
              "range": [
               "red",
               "indianred",
               "salmon",
               "darkorange",
               "yellow",
               "skyblue",
               "dodgerblue",
               "steelblue",
               "blue",
               "midnightblue",
               "darkmagenta",
               "gray",
               "silver",
               "mistyrose"
              ]
             },
             "type": "ordinal"
            },
            "order": {
             "field": "response",
             "sort": "ascending",
             "type": "quantitative"
            },
            "x": {
             "field": "eimpcnt",
             "scale": {
              "domain": [
               0,
               1
              ]
             },
             "type": "quantitative"
            },
            "y": {
             "field": "cntry",
             "type": "nominal"
            }
           },
           "mark": "bar",
           "title": "Alw many/few from poorer cntrys * 2014 * 1-many, 4-none, 789-ref/dk/na"
          }
         ]
        },
        {
         "hconcat": [
          {
           "data": {
            "name": "data-4b9bf45a5e732a5a0cfc5ff7a6ea617f"
           },
           "encoding": {
            "color": {
             "field": "response",
             "legend": {
              "title": "Response"
             },
             "scale": {
              "domain": [
               0,
               1,
               2,
               3,
               4,
               5,
               6,
               7,
               8,
               9,
               10,
               77,
               88,
               99
              ],
              "range": [
               "red",
               "indianred",
               "salmon",
               "darkorange",
               "yellow",
               "skyblue",
               "dodgerblue",
               "steelblue",
               "blue",
               "midnightblue",
               "darkmagenta",
               "gray",
               "silver",
               "mistyrose"
              ]
             },
             "type": "ordinal"
            },
            "order": {
             "field": "response",
             "sort": "ascending",
             "type": "quantitative"
            },
            "x": {
             "field": "eimpcnt",
             "scale": {
              "domain": [
               0,
               1
              ]
             },
             "type": "quantitative"
            },
            "y": {
             "field": "cntry",
             "type": "nominal"
            }
           },
           "mark": "bar",
           "title": "Alw many/few from poorer cntrys * 2002 * 1-many, 4-none, 789-ref/dk/na"
          },
          {
           "data": {
            "name": "data-672e9588717fdf48c7c6d6b4a53b3f22"
           },
           "encoding": {
            "color": {
             "field": "response",
             "legend": {
              "title": "Response"
             },
             "scale": {
              "domain": [
               0,
               1,
               2,
               3,
               4,
               5,
               6,
               7,
               8,
               9,
               10,
               77,
               88,
               99
              ],
              "range": [
               "red",
               "indianred",
               "salmon",
               "darkorange",
               "yellow",
               "skyblue",
               "dodgerblue",
               "steelblue",
               "blue",
               "midnightblue",
               "darkmagenta",
               "gray",
               "silver",
               "mistyrose"
              ]
             },
             "type": "ordinal"
            },
            "order": {
             "field": "response",
             "sort": "ascending",
             "type": "quantitative"
            },
            "x": {
             "field": "eimpcnt",
             "scale": {
              "domain": [
               0,
               1
              ]
             },
             "type": "quantitative"
            },
            "y": {
             "field": "cntry",
             "type": "nominal"
            }
           },
           "mark": "bar",
           "title": "Alw many/few from poorer cntrys * 2014 * 1-many, 4-none, 789-ref/dk/na"
          }
         ]
        },
        {
         "hconcat": [
          {
           "data": {
            "name": "data-dd809ebe90d3152d6a9ebbacc5f7a069"
           },
           "encoding": {
            "color": {
             "field": "response",
             "legend": {
              "title": "Response"
             },
             "scale": {
              "domain": [
               0,
               1,
               2,
               3,
               4,
               5,
               6,
               7,
               8,
               9,
               10,
               77,
               88,
               99
              ],
              "range": [
               "red",
               "indianred",
               "salmon",
               "darkorange",
               "yellow",
               "skyblue",
               "dodgerblue",
               "steelblue",
               "blue",
               "midnightblue",
               "darkmagenta",
               "gray",
               "silver",
               "mistyrose"
              ]
             },
             "type": "ordinal"
            },
            "order": {
             "field": "response",
             "sort": "ascending",
             "type": "quantitative"
            },
            "x": {
             "field": "eimpcnt",
             "scale": {
              "domain": [
               0,
               1
              ]
             },
             "type": "quantitative"
            },
            "y": {
             "field": "cntry",
             "type": "nominal"
            }
           },
           "mark": "bar",
           "title": "Alw many/few from poorer cntrys * 2002 * 1-many, 4-none, 789-ref/dk/na"
          },
          {
           "data": {
            "name": "data-21fa301419c89dcaf114e5a032d7178f"
           },
           "encoding": {
            "color": {
             "field": "response",
             "legend": {
              "title": "Response"
             },
             "scale": {
              "domain": [
               0,
               1,
               2,
               3,
               4,
               5,
               6,
               7,
               8,
               9,
               10,
               77,
               88,
               99
              ],
              "range": [
               "red",
               "indianred",
               "salmon",
               "darkorange",
               "yellow",
               "skyblue",
               "dodgerblue",
               "steelblue",
               "blue",
               "midnightblue",
               "darkmagenta",
               "gray",
               "silver",
               "mistyrose"
              ]
             },
             "type": "ordinal"
            },
            "order": {
             "field": "response",
             "sort": "ascending",
             "type": "quantitative"
            },
            "x": {
             "field": "eimpcnt",
             "scale": {
              "domain": [
               0,
               1
              ]
             },
             "type": "quantitative"
            },
            "y": {
             "field": "cntry",
             "type": "nominal"
            }
           },
           "mark": "bar",
           "title": "Alw many/few from poorer cntrys * 2014 * 1-many, 4-none, 789-ref/dk/na"
          }
         ]
        },
        {
         "hconcat": [
          {
           "data": {
            "name": "data-2ce0c29132242f0ea83e458c3a80968d"
           },
           "encoding": {
            "color": {
             "field": "response",
             "legend": {
              "title": "Response"
             },
             "scale": {
              "domain": [
               0,
               1,
               2,
               3,
               4,
               5,
               6,
               7,
               8,
               9,
               10,
               77,
               88,
               99
              ],
              "range": [
               "red",
               "indianred",
               "salmon",
               "darkorange",
               "yellow",
               "skyblue",
               "dodgerblue",
               "steelblue",
               "blue",
               "midnightblue",
               "darkmagenta",
               "gray",
               "silver",
               "mistyrose"
              ]
             },
             "type": "ordinal"
            },
            "order": {
             "field": "response",
             "sort": "ascending",
             "type": "quantitative"
            },
            "x": {
             "field": "eimpcnt",
             "scale": {
              "domain": [
               0,
               1
              ]
             },
             "type": "quantitative"
            },
            "y": {
             "field": "cntry",
             "type": "nominal"
            }
           },
           "mark": "bar",
           "title": "Alw many/few from poorer cntrys * 2002 * 1-many, 4-none, 789-ref/dk/na"
          },
          {
           "data": {
            "name": "data-dc4efba003d9a475f2cbf13c52459ac7"
           },
           "encoding": {
            "color": {
             "field": "response",
             "legend": {
              "title": "Response"
             },
             "scale": {
              "domain": [
               0,
               1,
               2,
               3,
               4,
               5,
               6,
               7,
               8,
               9,
               10,
               77,
               88,
               99
              ],
              "range": [
               "red",
               "indianred",
               "salmon",
               "darkorange",
               "yellow",
               "skyblue",
               "dodgerblue",
               "steelblue",
               "blue",
               "midnightblue",
               "darkmagenta",
               "gray",
               "silver",
               "mistyrose"
              ]
             },
             "type": "ordinal"
            },
            "order": {
             "field": "response",
             "sort": "ascending",
             "type": "quantitative"
            },
            "x": {
             "field": "eimpcnt",
             "scale": {
              "domain": [
               0,
               1
              ]
             },
             "type": "quantitative"
            },
            "y": {
             "field": "cntry",
             "type": "nominal"
            }
           },
           "mark": "bar",
           "title": "Alw many/few from poorer cntrys * 2014 * 1-many, 4-none, 789-ref/dk/na"
          }
         ]
        },
        {
         "hconcat": [
          {
           "data": {
            "name": "data-2e280d7c9b11625b8d409eaee5e2ba03"
           },
           "encoding": {
            "color": {
             "field": "response",
             "legend": {
              "title": "Response"
             },
             "scale": {
              "domain": [
               0,
               1,
               2,
               3,
               4,
               5,
               6,
               7,
               8,
               9,
               10,
               77,
               88,
               99
              ],
              "range": [
               "red",
               "indianred",
               "salmon",
               "darkorange",
               "yellow",
               "skyblue",
               "dodgerblue",
               "steelblue",
               "blue",
               "midnightblue",
               "darkmagenta",
               "gray",
               "silver",
               "mistyrose"
              ]
             },
             "type": "ordinal"
            },
            "order": {
             "field": "response",
             "sort": "ascending",
             "type": "quantitative"
            },
            "x": {
             "field": "eimpcnt",
             "scale": {
              "domain": [
               0,
               1
              ]
             },
             "type": "quantitative"
            },
            "y": {
             "field": "cntry",
             "type": "nominal"
            }
           },
           "mark": "bar",
           "title": "Alw many/few from poorer cntrys * 2002 * 1-many, 4-none, 789-ref/dk/na"
          },
          {
           "data": {
            "name": "data-aeefe2d3326d7aa0c1e36911f0d1e81b"
           },
           "encoding": {
            "color": {
             "field": "response",
             "legend": {
              "title": "Response"
             },
             "scale": {
              "domain": [
               0,
               1,
               2,
               3,
               4,
               5,
               6,
               7,
               8,
               9,
               10,
               77,
               88,
               99
              ],
              "range": [
               "red",
               "indianred",
               "salmon",
               "darkorange",
               "yellow",
               "skyblue",
               "dodgerblue",
               "steelblue",
               "blue",
               "midnightblue",
               "darkmagenta",
               "gray",
               "silver",
               "mistyrose"
              ]
             },
             "type": "ordinal"
            },
            "order": {
             "field": "response",
             "sort": "ascending",
             "type": "quantitative"
            },
            "x": {
             "field": "eimpcnt",
             "scale": {
              "domain": [
               0,
               1
              ]
             },
             "type": "quantitative"
            },
            "y": {
             "field": "cntry",
             "type": "nominal"
            }
           },
           "mark": "bar",
           "title": "Alw many/few from poorer cntrys * 2014 * 1-many, 4-none, 789-ref/dk/na"
          }
         ]
        }
       ]
      },
      "image/png": "[encoded data removed]",
      "text/plain": [
       "<VegaLite 2 object>\n",
       "\n",
       "If you see this message, it means the renderer has not been properly enabled\n",
       "for the frontend that you are using. For more information, see\n",
       "https://altair-viz.github.io/user_guide/troubleshooting.html\n"
      ]
     },
     "execution_count": 119,
     "metadata": {},
     "output_type": "execute_result"
    }
   ],
   "source": [
    "utils.multigroup_plot(imm, ALL, 'eimpcnt')"
   ]
  },
  {
   "cell_type": "code",
   "execution_count": null,
   "metadata": {},
   "outputs": [],
   "source": []
  }
 ],
 "metadata": {
  "kernelspec": {
   "display_name": "Python 3",
   "language": "python",
   "name": "python3"
  },
  "language_info": {
   "codemirror_mode": {
    "name": "ipython",
    "version": 3
   },
   "file_extension": ".py",
   "mimetype": "text/x-python",
   "name": "python",
   "nbconvert_exporter": "python",
   "pygments_lexer": "ipython3",
   "version": "3.7.0"
  }
 },
 "nbformat": 4,
 "nbformat_minor": 2
}
