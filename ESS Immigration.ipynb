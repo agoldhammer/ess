{
 "cells": [
  {
   "cell_type": "markdown",
   "metadata": {},
   "source": [
    "# ESS Immigration"
   ]
  },
  {
   "cell_type": "code",
   "execution_count": 71,
   "metadata": {},
   "outputs": [
    {
     "name": "stdout",
     "output_type": "stream",
     "text": [
      "The autoreload extension is already loaded. To reload it, use:\n",
      "  %reload_ext autoreload\n"
     ]
    }
   ],
   "source": [
    "import pandas as pd\n",
    "import numpy as np\n",
    "import matplotlib\n",
    "import matplotlib.pyplot as plt\n",
    "%matplotlib inline\n",
    "%load_ext autoreload\n",
    "%autoreload 2\n",
    "from essutils import utils\n",
    "import altair as alt"
   ]
  },
  {
   "cell_type": "markdown",
   "metadata": {},
   "source": [
    "## Import immigration data from *European Social Survey*\n",
    "* This contains data on various countries from Rounds 1 and 7 (2002 and 2014)\n",
    "* Some countries are missing data from one or the other round"
   ]
  },
  {
   "cell_type": "code",
   "execution_count": 2,
   "metadata": {},
   "outputs": [],
   "source": [
    "imm = utils.get_data(utils.IMMDATA)"
   ]
  },
  {
   "cell_type": "markdown",
   "metadata": {},
   "source": [
    "## The following countries are represented"
   ]
  },
  {
   "cell_type": "code",
   "execution_count": 4,
   "metadata": {},
   "outputs": [],
   "source": [
    "countries = imm.cntry.unique()"
   ]
  },
  {
   "cell_type": "markdown",
   "metadata": {},
   "source": [
    "### Country Groups"
   ]
  },
  {
   "cell_type": "code",
   "execution_count": 5,
   "metadata": {},
   "outputs": [],
   "source": [
    "VISEGRAD = [\"PL\", \"HU\", \"CZ\"]\n",
    "BENELUX = [\"BE\", \"NL\", \"LU\"]\n",
    "CORE = [\"DE\", \"FR\", \"IT\"]\n",
    "NORDIC = [\"DK\", \"NO\", \"SE\"]\n",
    "SOUTH = [\"ES\", \"PT\", \"GR\", \"IT\", \"SI\"]\n",
    "BALTIC = [\"EE\", \"FI\", \"LT\"]\n",
    "OTHER = [\"CH\", \"GB\", \"IE\", \"IL\"]"
   ]
  },
  {
   "cell_type": "code",
   "execution_count": 62,
   "metadata": {},
   "outputs": [
    {
     "data": {
      "text/plain": [
       "{'acetalv': 'Ppl of min race/eth in area',\n",
       " 'eimpcnt': 'Alw many/few from poorer cntrys',\n",
       " 'gvrfgap': 'Govt shd judge generously',\n",
       " 'imbleco': 'Imm take more than put',\n",
       " 'imdetbs': 'Boss diff race/eth',\n",
       " 'imdetmr': 'Imm marry close rel',\n",
       " 'imtcjob': 'Imm take/create jobs',\n",
       " 'imwbcrm': 'Imm make crime worse/better',\n",
       " 'lwdscwp': 'Anti-disc law good/bad',\n",
       " 'noimbro': 'Estimate num',\n",
       " 'pplstrd': 'Share tradition bet/worse',\n",
       " 'qfimchr': 'Qualif Christian',\n",
       " 'qfimcmt': 'Qualif cmtd way of life',\n",
       " 'qfimedu': 'Qualif edu',\n",
       " 'qfimlng': 'Qualif lang',\n",
       " 'qfimwht': 'Qualif white',\n",
       " 'qfimwsk': 'Qualif skills'}"
      ]
     },
     "execution_count": 62,
     "metadata": {},
     "output_type": "execute_result"
    }
   ],
   "source": [
    "utils.questions"
   ]
  },
  {
   "cell_type": "code",
   "execution_count": 13,
   "metadata": {},
   "outputs": [
    {
     "data": {
      "application/vnd.vegalite.v2+json": {
       "$schema": "https://vega.github.io/schema/vega-lite/v2.6.0.json",
       "config": {
        "view": {
         "height": 300,
         "width": 400
        }
       },
       "data": {
        "name": "data-96713e03bad4275b632dd9259c9c8490"
       },
       "datasets": {
        "data-96713e03bad4275b632dd9259c9c8490": [
         {
          "cntry": "PL",
          "essrnd": 7,
          "pplstrd": 0.1444701879704664,
          "response": 1
         },
         {
          "cntry": "PL",
          "essrnd": 7,
          "pplstrd": 0.3955975552276215,
          "response": 2
         },
         {
          "cntry": "PL",
          "essrnd": 7,
          "pplstrd": 0.24803207775366942,
          "response": 3
         },
         {
          "cntry": "PL",
          "essrnd": 7,
          "pplstrd": 0.15713594980017373,
          "response": 4
         },
         {
          "cntry": "PL",
          "essrnd": 7,
          "pplstrd": 0.023185861465825127,
          "response": 5
         },
         {
          "cntry": "PL",
          "essrnd": 7,
          "pplstrd": 0.02918850392696007,
          "response": 8
         },
         {
          "cntry": "PL",
          "essrnd": 7,
          "pplstrd": 0.0023898638552836094,
          "response": 9
         },
         {
          "cntry": "HU",
          "essrnd": 7,
          "pplstrd": 0.16371255369851215,
          "response": 1
         },
         {
          "cntry": "HU",
          "essrnd": 7,
          "pplstrd": 0.40146675988148595,
          "response": 2
         },
         {
          "cntry": "HU",
          "essrnd": 7,
          "pplstrd": 0.29312010366998875,
          "response": 3
         },
         {
          "cntry": "HU",
          "essrnd": 7,
          "pplstrd": 0.10590246475339228,
          "response": 4
         },
         {
          "cntry": "HU",
          "essrnd": 7,
          "pplstrd": 0.021368630972839264,
          "response": 5
         },
         {
          "cntry": "HU",
          "essrnd": 7,
          "pplstrd": 0.0014438435775451098,
          "response": 7
         },
         {
          "cntry": "HU",
          "essrnd": 7,
          "pplstrd": 0.012985643446235984,
          "response": 8
         },
         {
          "cntry": "CZ",
          "essrnd": 7,
          "pplstrd": 0.295960980597096,
          "response": 1
         },
         {
          "cntry": "CZ",
          "essrnd": 7,
          "pplstrd": 0.39276386139058334,
          "response": 2
         },
         {
          "cntry": "CZ",
          "essrnd": 7,
          "pplstrd": 0.21887617722668024,
          "response": 3
         },
         {
          "cntry": "CZ",
          "essrnd": 7,
          "pplstrd": 0.05911132308100779,
          "response": 4
         },
         {
          "cntry": "CZ",
          "essrnd": 7,
          "pplstrd": 0.016039652433832072,
          "response": 5
         },
         {
          "cntry": "CZ",
          "essrnd": 7,
          "pplstrd": 0.01724800527080008,
          "response": 8
         }
        ]
       },
       "encoding": {
        "color": {
         "field": "response",
         "legend": {
          "title": "Response"
         },
         "scale": {
          "domain": [
           0,
           1,
           2,
           3,
           4,
           5,
           6,
           7,
           8,
           9,
           10,
           77,
           88,
           99
          ],
          "range": [
           "red",
           "indianred",
           "salmon",
           "darkorange",
           "yellow",
           "skyblue",
           "dodgerblue",
           "steelblue",
           "blue",
           "midnightblue",
           "darkmagenta",
           "gray",
           "silver",
           "mistyrose"
          ]
         },
         "type": "ordinal"
        },
        "order": {
         "field": "response",
         "sort": "ascending",
         "type": "quantitative"
        },
        "x": {
         "field": "pplstrd",
         "type": "quantitative"
        },
        "y": {
         "field": "cntry",
         "type": "nominal"
        }
       },
       "mark": "bar",
       "title": "Graph of pplstrd round 7"
      },
      "image/png": "[encoded data removed]",
      "text/plain": [
       "<VegaLite 2 object>\n",
       "\n",
       "If you see this message, it means the renderer has not been properly enabled\n",
       "for the frontend that you are using. For more information, see\n",
       "https://altair-viz.github.io/user_guide/troubleshooting.html\n"
      ]
     },
     "execution_count": 13,
     "metadata": {},
     "output_type": "execute_result"
    }
   ],
   "source": [
    "utils.plot_group(imm, VISEGRAD, 7, 'pplstrd')"
   ]
  },
  {
   "cell_type": "code",
   "execution_count": 14,
   "metadata": {},
   "outputs": [
    {
     "data": {
      "application/vnd.vegalite.v2+json": {
       "$schema": "https://vega.github.io/schema/vega-lite/v2.6.0.json",
       "config": {
        "view": {
         "height": 300,
         "width": 400
        }
       },
       "data": {
        "name": "data-6af1cb275055d1bbd4a3d47cef7f4a3e"
       },
       "datasets": {
        "data-6af1cb275055d1bbd4a3d47cef7f4a3e": [
         {
          "cntry": "EE",
          "essrnd": 1,
          "pplstrd": 0,
          "response": 0
         },
         {
          "cntry": "FI",
          "essrnd": 1,
          "pplstrd": 0.18950874193128212,
          "response": 1
         },
         {
          "cntry": "FI",
          "essrnd": 1,
          "pplstrd": 0.347919066651709,
          "response": 2
         },
         {
          "cntry": "FI",
          "essrnd": 1,
          "pplstrd": 0.17647184056315912,
          "response": 3
         },
         {
          "cntry": "FI",
          "essrnd": 1,
          "pplstrd": 0.23141322949545448,
          "response": 4
         },
         {
          "cntry": "FI",
          "essrnd": 1,
          "pplstrd": 0.04571357653751371,
          "response": 5
         },
         {
          "cntry": "FI",
          "essrnd": 1,
          "pplstrd": 0.0084737343644861,
          "response": 8
         },
         {
          "cntry": "FI",
          "essrnd": 1,
          "pplstrd": 0.0004998104563941585,
          "response": 9
         },
         {
          "cntry": "LT",
          "essrnd": 1,
          "pplstrd": 0,
          "response": 0
         }
        ]
       },
       "encoding": {
        "color": {
         "field": "response",
         "legend": {
          "title": "Response"
         },
         "scale": {
          "domain": [
           0,
           1,
           2,
           3,
           4,
           5,
           6,
           7,
           8,
           9,
           10,
           77,
           88,
           99
          ],
          "range": [
           "red",
           "indianred",
           "salmon",
           "darkorange",
           "yellow",
           "skyblue",
           "dodgerblue",
           "steelblue",
           "blue",
           "midnightblue",
           "darkmagenta",
           "gray",
           "silver",
           "mistyrose"
          ]
         },
         "type": "ordinal"
        },
        "order": {
         "field": "response",
         "sort": "ascending",
         "type": "quantitative"
        },
        "x": {
         "field": "pplstrd",
         "type": "quantitative"
        },
        "y": {
         "field": "cntry",
         "type": "nominal"
        }
       },
       "mark": "bar",
       "title": "Graph of pplstrd round 1"
      },
      "image/png": "[encoded data removed]",
      "text/plain": [
       "<VegaLite 2 object>\n",
       "\n",
       "If you see this message, it means the renderer has not been properly enabled\n",
       "for the frontend that you are using. For more information, see\n",
       "https://altair-viz.github.io/user_guide/troubleshooting.html\n"
      ]
     },
     "execution_count": 14,
     "metadata": {},
     "output_type": "execute_result"
    }
   ],
   "source": [
    "utils.plot_group(imm, BALTIC, 1, 'pplstrd')"
   ]
  },
  {
   "cell_type": "code",
   "execution_count": 88,
   "metadata": {},
   "outputs": [
    {
     "data": {
      "application/vnd.vegalite.v2+json": {
       "$schema": "https://vega.github.io/schema/vega-lite/v2.6.0.json",
       "config": {
        "view": {
         "height": 300,
         "width": 400
        }
       },
       "data": {
        "name": "data-4b9bf45a5e732a5a0cfc5ff7a6ea617f"
       },
       "datasets": {
        "data-4b9bf45a5e732a5a0cfc5ff7a6ea617f": [
         {
          "cntry": "PL",
          "eimpcnt": 0.09339478140681473,
          "essrnd": 1,
          "response": 1
         },
         {
          "cntry": "PL",
          "eimpcnt": 0.45625629327919226,
          "essrnd": 1,
          "response": 2
         },
         {
          "cntry": "PL",
          "eimpcnt": 0.324993938606196,
          "essrnd": 1,
          "response": 3
         },
         {
          "cntry": "PL",
          "eimpcnt": 0.05877610412834011,
          "essrnd": 1,
          "response": 4
         },
         {
          "cntry": "PL",
          "eimpcnt": 0.06657888257945743,
          "essrnd": 1,
          "response": 8
         },
         {
          "cntry": "HU",
          "eimpcnt": 0.03592885575920309,
          "essrnd": 1,
          "response": 1
         },
         {
          "cntry": "HU",
          "eimpcnt": 0.11171410946053044,
          "essrnd": 1,
          "response": 2
         },
         {
          "cntry": "HU",
          "eimpcnt": 0.5791124414066435,
          "essrnd": 1,
          "response": 3
         },
         {
          "cntry": "HU",
          "eimpcnt": 0.18448402876143974,
          "essrnd": 1,
          "response": 4
         },
         {
          "cntry": "HU",
          "eimpcnt": 0.08876056461218419,
          "essrnd": 1,
          "response": 8
         },
         {
          "cntry": "CZ",
          "eimpcnt": 0.08110710053143351,
          "essrnd": 1,
          "response": 1
         },
         {
          "cntry": "CZ",
          "eimpcnt": 0.4311555006396119,
          "essrnd": 1,
          "response": 2
         },
         {
          "cntry": "CZ",
          "eimpcnt": 0.3349832331738749,
          "essrnd": 1,
          "response": 3
         },
         {
          "cntry": "CZ",
          "eimpcnt": 0.09449241163027557,
          "essrnd": 1,
          "response": 4
         },
         {
          "cntry": "CZ",
          "eimpcnt": 0.05232751308291827,
          "essrnd": 1,
          "response": 8
         },
         {
          "cntry": "CZ",
          "eimpcnt": 0.005934240941885462,
          "essrnd": 1,
          "response": 9
         }
        ]
       },
       "encoding": {
        "color": {
         "field": "response",
         "legend": {
          "title": "Response"
         },
         "scale": {
          "domain": [
           0,
           1,
           2,
           3,
           4,
           5,
           6,
           7,
           8,
           9,
           10,
           77,
           88,
           99
          ],
          "range": [
           "red",
           "indianred",
           "salmon",
           "darkorange",
           "yellow",
           "skyblue",
           "dodgerblue",
           "steelblue",
           "blue",
           "midnightblue",
           "darkmagenta",
           "gray",
           "silver",
           "mistyrose"
          ]
         },
         "type": "ordinal"
        },
        "order": {
         "field": "response",
         "sort": "ascending",
         "type": "quantitative"
        },
        "x": {
         "field": "eimpcnt",
         "scale": {
          "domain": [
           0,
           1
          ]
         },
         "type": "quantitative"
        },
        "y": {
         "field": "cntry",
         "type": "nominal"
        }
       },
       "mark": "bar",
       "title": "Alw many/few from poorer cntrys round 1"
      },
      "image/png": "[encoded data removed]",
      "text/plain": [
       "<VegaLite 2 object>\n",
       "\n",
       "If you see this message, it means the renderer has not been properly enabled\n",
       "for the frontend that you are using. For more information, see\n",
       "https://altair-viz.github.io/user_guide/troubleshooting.html\n"
      ]
     },
     "execution_count": 88,
     "metadata": {},
     "output_type": "execute_result"
    }
   ],
   "source": [
    "utils.plot_group(imm, VISEGRAD, 1, 'eimpcnt')"
   ]
  },
  {
   "cell_type": "code",
   "execution_count": 54,
   "metadata": {},
   "outputs": [
    {
     "data": {
      "application/vnd.vegalite.v2+json": {
       "$schema": "https://vega.github.io/schema/vega-lite/v2.6.0.json",
       "config": {
        "view": {
         "height": 300,
         "width": 400
        }
       },
       "data": {
        "name": "data-9f1550d985ba7538d99eae4868f14e60"
       },
       "datasets": {
        "data-9f1550d985ba7538d99eae4868f14e60": [
         {
          "cntry": "PL",
          "essrnd": 7,
          "qfimchr": 0.15835512318336734,
          "response": 0
         },
         {
          "cntry": "PL",
          "essrnd": 7,
          "qfimchr": 0.04923293532243976,
          "response": 1
         },
         {
          "cntry": "PL",
          "essrnd": 7,
          "qfimchr": 0.0602216548128451,
          "response": 2
         },
         {
          "cntry": "PL",
          "essrnd": 7,
          "qfimchr": 0.06394642828005194,
          "response": 3
         },
         {
          "cntry": "PL",
          "essrnd": 7,
          "qfimchr": 0.06448242775034356,
          "response": 4
         },
         {
          "cntry": "PL",
          "essrnd": 7,
          "qfimchr": 0.16343168040299055,
          "response": 5
         },
         {
          "cntry": "PL",
          "essrnd": 7,
          "qfimchr": 0.07706673285734908,
          "response": 6
         },
         {
          "cntry": "PL",
          "essrnd": 7,
          "qfimchr": 0.08330861756579228,
          "response": 7
         },
         {
          "cntry": "PL",
          "essrnd": 7,
          "qfimchr": 0.11090731876586543,
          "response": 8
         },
         {
          "cntry": "PL",
          "essrnd": 7,
          "qfimchr": 0.05730091560421333,
          "response": 9
         },
         {
          "cntry": "PL",
          "essrnd": 7,
          "qfimchr": 0.08091299939050806,
          "response": 10
         },
         {
          "cntry": "PL",
          "essrnd": 7,
          "qfimchr": 0.029712357571895456,
          "response": 88
         },
         {
          "cntry": "PL",
          "essrnd": 7,
          "qfimchr": 0.0011208084923382809,
          "response": 99
         },
         {
          "cntry": "HU",
          "essrnd": 7,
          "qfimchr": 0.14601467623955058,
          "response": 0
         },
         {
          "cntry": "HU",
          "essrnd": 7,
          "qfimchr": 0.036708048460795964,
          "response": 1
         },
         {
          "cntry": "HU",
          "essrnd": 7,
          "qfimchr": 0.06079419847772195,
          "response": 2
         },
         {
          "cntry": "HU",
          "essrnd": 7,
          "qfimchr": 0.06204299029378137,
          "response": 3
         },
         {
          "cntry": "HU",
          "essrnd": 7,
          "qfimchr": 0.07929271202762628,
          "response": 4
         },
         {
          "cntry": "HU",
          "essrnd": 7,
          "qfimchr": 0.1933016579958335,
          "response": 5
         },
         {
          "cntry": "HU",
          "essrnd": 7,
          "qfimchr": 0.08647371713641752,
          "response": 6
         },
         {
          "cntry": "HU",
          "essrnd": 7,
          "qfimchr": 0.1154622268016424,
          "response": 7
         },
         {
          "cntry": "HU",
          "essrnd": 7,
          "qfimchr": 0.07640324985220905,
          "response": 8
         },
         {
          "cntry": "HU",
          "essrnd": 7,
          "qfimchr": 0.03003219928914135,
          "response": 9
         },
         {
          "cntry": "HU",
          "essrnd": 7,
          "qfimchr": 0.0819439736320968,
          "response": 10
         },
         {
          "cntry": "HU",
          "essrnd": 7,
          "qfimchr": 0.00536725028938466,
          "response": 77
         },
         {
          "cntry": "HU",
          "essrnd": 7,
          "qfimchr": 0.026163099503798574,
          "response": 88
         },
         {
          "cntry": "CZ",
          "essrnd": 7,
          "qfimchr": 0.12687497363245845,
          "response": 0
         },
         {
          "cntry": "CZ",
          "essrnd": 7,
          "qfimchr": 0.049493539108952884,
          "response": 1
         },
         {
          "cntry": "CZ",
          "essrnd": 7,
          "qfimchr": 0.07086429612693243,
          "response": 2
         },
         {
          "cntry": "CZ",
          "essrnd": 7,
          "qfimchr": 0.08709622675413513,
          "response": 3
         },
         {
          "cntry": "CZ",
          "essrnd": 7,
          "qfimchr": 0.08592221862609496,
          "response": 4
         },
         {
          "cntry": "CZ",
          "essrnd": 7,
          "qfimchr": 0.15927740971252236,
          "response": 5
         },
         {
          "cntry": "CZ",
          "essrnd": 7,
          "qfimchr": 0.07719029746082018,
          "response": 6
         },
         {
          "cntry": "CZ",
          "essrnd": 7,
          "qfimchr": 0.09360227461678496,
          "response": 7
         },
         {
          "cntry": "CZ",
          "essrnd": 7,
          "qfimchr": 0.08493498936307285,
          "response": 8
         },
         {
          "cntry": "CZ",
          "essrnd": 7,
          "qfimchr": 0.0589989743783317,
          "response": 9
         },
         {
          "cntry": "CZ",
          "essrnd": 7,
          "qfimchr": 0.07665161147305423,
          "response": 10
         },
         {
          "cntry": "CZ",
          "essrnd": 7,
          "qfimchr": 0.029093188746839714,
          "response": 88
         }
        ]
       },
       "encoding": {
        "color": {
         "field": "response",
         "legend": {
          "title": "Response"
         },
         "scale": {
          "domain": [
           0,
           1,
           2,
           3,
           4,
           5,
           6,
           7,
           8,
           9,
           10,
           77,
           88,
           99
          ],
          "range": [
           "red",
           "indianred",
           "salmon",
           "darkorange",
           "yellow",
           "skyblue",
           "dodgerblue",
           "steelblue",
           "blue",
           "midnightblue",
           "darkmagenta",
           "gray",
           "silver",
           "mistyrose"
          ]
         },
         "type": "ordinal"
        },
        "order": {
         "field": "response",
         "sort": "ascending",
         "type": "quantitative"
        },
        "x": {
         "field": "qfimchr",
         "type": "quantitative"
        },
        "y": {
         "field": "cntry",
         "type": "nominal"
        }
       },
       "mark": "bar",
       "title": "Graph of qfimchr round 7"
      },
      "image/png": "[encoded data removed]",
      "text/plain": [
       "<VegaLite 2 object>\n",
       "\n",
       "If you see this message, it means the renderer has not been properly enabled\n",
       "for the frontend that you are using. For more information, see\n",
       "https://altair-viz.github.io/user_guide/troubleshooting.html\n"
      ]
     },
     "execution_count": 54,
     "metadata": {},
     "output_type": "execute_result"
    }
   ],
   "source": [
    "utils.plot_group(imm, VISEGRAD, 7, 'qfimchr')"
   ]
  },
  {
   "cell_type": "code",
   "execution_count": 56,
   "metadata": {},
   "outputs": [
    {
     "data": {
      "application/vnd.vegalite.v2+json": {
       "$schema": "https://vega.github.io/schema/vega-lite/v2.6.0.json",
       "config": {
        "view": {
         "height": 300,
         "width": 400
        }
       },
       "data": {
        "name": "data-138e3b67f05eef65c26abaee829ad1ea"
       },
       "datasets": {
        "data-138e3b67f05eef65c26abaee829ad1ea": [
         {
          "cntry": "CH",
          "essrnd": 7,
          "qfimlng": 0.04081373349911488,
          "response": 0
         },
         {
          "cntry": "CH",
          "essrnd": 7,
          "qfimlng": 0.009374549730150745,
          "response": 1
         },
         {
          "cntry": "CH",
          "essrnd": 7,
          "qfimlng": 0.029767269478505456,
          "response": 2
         },
         {
          "cntry": "CH",
          "essrnd": 7,
          "qfimlng": 0.04642947878140446,
          "response": 3
         },
         {
          "cntry": "CH",
          "essrnd": 7,
          "qfimlng": 0.029842740681329073,
          "response": 4
         },
         {
          "cntry": "CH",
          "essrnd": 7,
          "qfimlng": 0.09195221465689696,
          "response": 5
         },
         {
          "cntry": "CH",
          "essrnd": 7,
          "qfimlng": 0.07958271862776757,
          "response": 6
         },
         {
          "cntry": "CH",
          "essrnd": 7,
          "qfimlng": 0.13663093707523033,
          "response": 7
         },
         {
          "cntry": "CH",
          "essrnd": 7,
          "qfimlng": 0.21947033624018675,
          "response": 8
         },
         {
          "cntry": "CH",
          "essrnd": 7,
          "qfimlng": 0.10374085820985872,
          "response": 9
         },
         {
          "cntry": "CH",
          "essrnd": 7,
          "qfimlng": 0.2085606494263469,
          "response": 10
         },
         {
          "cntry": "CH",
          "essrnd": 7,
          "qfimlng": 0.0038345135932080156,
          "response": 88
         },
         {
          "cntry": "GB",
          "essrnd": 7,
          "qfimlng": 0.01028696660663914,
          "response": 0
         },
         {
          "cntry": "GB",
          "essrnd": 7,
          "qfimlng": 0.007367737030078503,
          "response": 1
         },
         {
          "cntry": "GB",
          "essrnd": 7,
          "qfimlng": 0.010489413961813479,
          "response": 2
         },
         {
          "cntry": "GB",
          "essrnd": 7,
          "qfimlng": 0.020490439788220113,
          "response": 3
         },
         {
          "cntry": "GB",
          "essrnd": 7,
          "qfimlng": 0.022895215243515208,
          "response": 4
         },
         {
          "cntry": "GB",
          "essrnd": 7,
          "qfimlng": 0.05269271119094136,
          "response": 5
         },
         {
          "cntry": "GB",
          "essrnd": 7,
          "qfimlng": 0.06058999494379406,
          "response": 6
         },
         {
          "cntry": "GB",
          "essrnd": 7,
          "qfimlng": 0.11144665227553696,
          "response": 7
         },
         {
          "cntry": "GB",
          "essrnd": 7,
          "qfimlng": 0.20147796853193964,
          "response": 8
         },
         {
          "cntry": "GB",
          "essrnd": 7,
          "qfimlng": 0.1709871258039134,
          "response": 9
         },
         {
          "cntry": "GB",
          "essrnd": 7,
          "qfimlng": 0.32721967734731766,
          "response": 10
         },
         {
          "cntry": "GB",
          "essrnd": 7,
          "qfimlng": 0.004056097276290788,
          "response": 88
         },
         {
          "cntry": "IE",
          "essrnd": 7,
          "qfimlng": 0.011025378399169257,
          "response": 0
         },
         {
          "cntry": "IE",
          "essrnd": 7,
          "qfimlng": 0.008671644602871972,
          "response": 1
         },
         {
          "cntry": "IE",
          "essrnd": 7,
          "qfimlng": 0.022972852427005388,
          "response": 2
         },
         {
          "cntry": "IE",
          "essrnd": 7,
          "qfimlng": 0.028763773666826625,
          "response": 3
         },
         {
          "cntry": "IE",
          "essrnd": 7,
          "qfimlng": 0.03405879068977254,
          "response": 4
         },
         {
          "cntry": "IE",
          "essrnd": 7,
          "qfimlng": 0.09686987036179172,
          "response": 5
         },
         {
          "cntry": "IE",
          "essrnd": 7,
          "qfimlng": 0.09986286708339856,
          "response": 6
         },
         {
          "cntry": "IE",
          "essrnd": 7,
          "qfimlng": 0.1654232379500391,
          "response": 7
         },
         {
          "cntry": "IE",
          "essrnd": 7,
          "qfimlng": 0.21117537043166826,
          "response": 8
         },
         {
          "cntry": "IE",
          "essrnd": 7,
          "qfimlng": 0.12385946679816207,
          "response": 9
         },
         {
          "cntry": "IE",
          "essrnd": 7,
          "qfimlng": 0.19557897107561875,
          "response": 10
         },
         {
          "cntry": "IE",
          "essrnd": 7,
          "qfimlng": 0.0004525897205717916,
          "response": 77
         },
         {
          "cntry": "IE",
          "essrnd": 7,
          "qfimlng": 0.001285186793103628,
          "response": 88
         },
         {
          "cntry": "IL",
          "essrnd": 7,
          "qfimlng": 0.17539130954037047,
          "response": 0
         },
         {
          "cntry": "IL",
          "essrnd": 7,
          "qfimlng": 0.03919835186616463,
          "response": 1
         },
         {
          "cntry": "IL",
          "essrnd": 7,
          "qfimlng": 0.05530220512850571,
          "response": 2
         },
         {
          "cntry": "IL",
          "essrnd": 7,
          "qfimlng": 0.06347693212387177,
          "response": 3
         },
         {
          "cntry": "IL",
          "essrnd": 7,
          "qfimlng": 0.060098294068856015,
          "response": 4
         },
         {
          "cntry": "IL",
          "essrnd": 7,
          "qfimlng": 0.10068484325744527,
          "response": 5
         },
         {
          "cntry": "IL",
          "essrnd": 7,
          "qfimlng": 0.06426393766538355,
          "response": 6
         },
         {
          "cntry": "IL",
          "essrnd": 7,
          "qfimlng": 0.0838018616037116,
          "response": 7
         },
         {
          "cntry": "IL",
          "essrnd": 7,
          "qfimlng": 0.10224856003353455,
          "response": 8
         },
         {
          "cntry": "IL",
          "essrnd": 7,
          "qfimlng": 0.0691594693095208,
          "response": 9
         },
         {
          "cntry": "IL",
          "essrnd": 7,
          "qfimlng": 0.15553052233051873,
          "response": 10
         },
         {
          "cntry": "IL",
          "essrnd": 7,
          "qfimlng": 0.03084371307211693,
          "response": 88
         }
        ]
       },
       "encoding": {
        "color": {
         "field": "response",
         "legend": {
          "title": "Response"
         },
         "scale": {
          "domain": [
           0,
           1,
           2,
           3,
           4,
           5,
           6,
           7,
           8,
           9,
           10,
           77,
           88,
           99
          ],
          "range": [
           "red",
           "indianred",
           "salmon",
           "darkorange",
           "yellow",
           "skyblue",
           "dodgerblue",
           "steelblue",
           "blue",
           "midnightblue",
           "darkmagenta",
           "gray",
           "silver",
           "mistyrose"
          ]
         },
         "type": "ordinal"
        },
        "order": {
         "field": "response",
         "sort": "ascending",
         "type": "quantitative"
        },
        "x": {
         "field": "qfimlng",
         "scale": {
          "domain": [
           0,
           1
          ]
         },
         "type": "quantitative"
        },
        "y": {
         "field": "cntry",
         "type": "nominal"
        }
       },
       "mark": "bar",
       "title": "Graph of qfimlng round 7"
      },
      "image/png": "[encoded data removed]",
      "text/plain": [
       "<VegaLite 2 object>\n",
       "\n",
       "If you see this message, it means the renderer has not been properly enabled\n",
       "for the frontend that you are using. For more information, see\n",
       "https://altair-viz.github.io/user_guide/troubleshooting.html\n"
      ]
     },
     "execution_count": 56,
     "metadata": {},
     "output_type": "execute_result"
    }
   ],
   "source": [
    "utils.plot_group(imm, OTHER, 7, 'qfimlng')"
   ]
  },
  {
   "cell_type": "code",
   "execution_count": 59,
   "metadata": {},
   "outputs": [
    {
     "data": {
      "application/vnd.vegalite.v2+json": {
       "$schema": "https://vega.github.io/schema/vega-lite/v2.6.0.json",
       "config": {
        "view": {
         "height": 300,
         "width": 400
        }
       },
       "data": {
        "name": "data-3dc4a6f263463af2b7c9a9eaf9269d59"
       },
       "datasets": {
        "data-3dc4a6f263463af2b7c9a9eaf9269d59": [
         {
          "cntry": "CH",
          "essrnd": 7,
          "qfimwsk": 0.053923418751931566,
          "response": 0
         },
         {
          "cntry": "CH",
          "essrnd": 7,
          "qfimwsk": 0.013893153438588976,
          "response": 1
         },
         {
          "cntry": "CH",
          "essrnd": 7,
          "qfimwsk": 0.031963651403031285,
          "response": 2
         },
         {
          "cntry": "CH",
          "essrnd": 7,
          "qfimwsk": 0.04066317993803829,
          "response": 3
         },
         {
          "cntry": "CH",
          "essrnd": 7,
          "qfimwsk": 0.04198758477536789,
          "response": 4
         },
         {
          "cntry": "CH",
          "essrnd": 7,
          "qfimwsk": 0.1251396686893488,
          "response": 5
         },
         {
          "cntry": "CH",
          "essrnd": 7,
          "qfimwsk": 0.08722846967608366,
          "response": 6
         },
         {
          "cntry": "CH",
          "essrnd": 7,
          "qfimwsk": 0.16238725092655207,
          "response": 7
         },
         {
          "cntry": "CH",
          "essrnd": 7,
          "qfimwsk": 0.2377876074970281,
          "response": 8
         },
         {
          "cntry": "CH",
          "essrnd": 7,
          "qfimwsk": 0.09143253768886837,
          "response": 9
         },
         {
          "cntry": "CH",
          "essrnd": 7,
          "qfimwsk": 0.1090489489034748,
          "response": 10
         },
         {
          "cntry": "CH",
          "essrnd": 7,
          "qfimwsk": 0.004544528311685978,
          "response": 88
         },
         {
          "cntry": "GB",
          "essrnd": 7,
          "qfimwsk": 0.02297732240109914,
          "response": 0
         },
         {
          "cntry": "GB",
          "essrnd": 7,
          "qfimwsk": 0.007363900876589586,
          "response": 1
         },
         {
          "cntry": "GB",
          "essrnd": 7,
          "qfimwsk": 0.016527685661806815,
          "response": 2
         },
         {
          "cntry": "GB",
          "essrnd": 7,
          "qfimwsk": 0.022559221180720016,
          "response": 3
         },
         {
          "cntry": "GB",
          "essrnd": 7,
          "qfimwsk": 0.025844270542343565,
          "response": 4
         },
         {
          "cntry": "GB",
          "essrnd": 7,
          "qfimwsk": 0.08015780395281502,
          "response": 5
         },
         {
          "cntry": "GB",
          "essrnd": 7,
          "qfimwsk": 0.10013124263346684,
          "response": 6
         },
         {
          "cntry": "GB",
          "essrnd": 7,
          "qfimwsk": 0.13791154757220395,
          "response": 7
         },
         {
          "cntry": "GB",
          "essrnd": 7,
          "qfimwsk": 0.22275410452711314,
          "response": 8
         },
         {
          "cntry": "GB",
          "essrnd": 7,
          "qfimwsk": 0.12201743940334898,
          "response": 9
         },
         {
          "cntry": "GB",
          "essrnd": 7,
          "qfimwsk": 0.2348382209752126,
          "response": 10
         },
         {
          "cntry": "GB",
          "essrnd": 7,
          "qfimwsk": 0.00691724027328038,
          "response": 88
         },
         {
          "cntry": "IE",
          "essrnd": 7,
          "qfimwsk": 0.01769022015489915,
          "response": 0
         },
         {
          "cntry": "IE",
          "essrnd": 7,
          "qfimwsk": 0.008374082256133652,
          "response": 1
         },
         {
          "cntry": "IE",
          "essrnd": 7,
          "qfimwsk": 0.01775284278658782,
          "response": 2
         },
         {
          "cntry": "IE",
          "essrnd": 7,
          "qfimwsk": 0.029073764903218762,
          "response": 3
         },
         {
          "cntry": "IE",
          "essrnd": 7,
          "qfimwsk": 0.03335724486024584,
          "response": 4
         },
         {
          "cntry": "IE",
          "essrnd": 7,
          "qfimwsk": 0.1131160289868005,
          "response": 5
         },
         {
          "cntry": "IE",
          "essrnd": 7,
          "qfimwsk": 0.12946764470914188,
          "response": 6
         },
         {
          "cntry": "IE",
          "essrnd": 7,
          "qfimwsk": 0.18024897183608407,
          "response": 7
         },
         {
          "cntry": "IE",
          "essrnd": 7,
          "qfimwsk": 0.20904211656737023,
          "response": 8
         },
         {
          "cntry": "IE",
          "essrnd": 7,
          "qfimwsk": 0.11052488940269606,
          "response": 9
         },
         {
          "cntry": "IE",
          "essrnd": 7,
          "qfimwsk": 0.14677805740169927,
          "response": 10
         },
         {
          "cntry": "IE",
          "essrnd": 7,
          "qfimwsk": 0.0007286627561379903,
          "response": 77
         },
         {
          "cntry": "IE",
          "essrnd": 7,
          "qfimwsk": 0.003845473378984236,
          "response": 88
         },
         {
          "cntry": "IL",
          "essrnd": 7,
          "qfimwsk": 0.07317383696182991,
          "response": 0
         },
         {
          "cntry": "IL",
          "essrnd": 7,
          "qfimwsk": 0.019985824355611487,
          "response": 1
         },
         {
          "cntry": "IL",
          "essrnd": 7,
          "qfimwsk": 0.021858208693224475,
          "response": 2
         },
         {
          "cntry": "IL",
          "essrnd": 7,
          "qfimwsk": 0.03062337211509144,
          "response": 3
         },
         {
          "cntry": "IL",
          "essrnd": 7,
          "qfimwsk": 0.034705805585141775,
          "response": 4
         },
         {
          "cntry": "IL",
          "essrnd": 7,
          "qfimwsk": 0.09239002509242675,
          "response": 5
         },
         {
          "cntry": "IL",
          "essrnd": 7,
          "qfimwsk": 0.0729397292202742,
          "response": 6
         },
         {
          "cntry": "IL",
          "essrnd": 7,
          "qfimwsk": 0.1037401953307436,
          "response": 7
         },
         {
          "cntry": "IL",
          "essrnd": 7,
          "qfimwsk": 0.20049297914720832,
          "response": 8
         },
         {
          "cntry": "IL",
          "essrnd": 7,
          "qfimwsk": 0.12913244108121189,
          "response": 9
         },
         {
          "cntry": "IL",
          "essrnd": 7,
          "qfimwsk": 0.1823704056838651,
          "response": 10
         },
         {
          "cntry": "IL",
          "essrnd": 7,
          "qfimwsk": 0.038587176733371184,
          "response": 88
         }
        ]
       },
       "encoding": {
        "color": {
         "field": "response",
         "legend": {
          "title": "Response"
         },
         "scale": {
          "domain": [
           0,
           1,
           2,
           3,
           4,
           5,
           6,
           7,
           8,
           9,
           10,
           77,
           88,
           99
          ],
          "range": [
           "red",
           "indianred",
           "salmon",
           "darkorange",
           "yellow",
           "skyblue",
           "dodgerblue",
           "steelblue",
           "blue",
           "midnightblue",
           "darkmagenta",
           "gray",
           "silver",
           "mistyrose"
          ]
         },
         "type": "ordinal"
        },
        "order": {
         "field": "response",
         "sort": "ascending",
         "type": "quantitative"
        },
        "x": {
         "field": "qfimwsk",
         "scale": {
          "domain": [
           0,
           1
          ]
         },
         "type": "quantitative"
        },
        "y": {
         "field": "cntry",
         "type": "nominal"
        }
       },
       "mark": "bar",
       "title": "Graph of qfimwsk round 7"
      },
      "image/png": "[encoded data removed]",
      "text/plain": [
       "<VegaLite 2 object>\n",
       "\n",
       "If you see this message, it means the renderer has not been properly enabled\n",
       "for the frontend that you are using. For more information, see\n",
       "https://altair-viz.github.io/user_guide/troubleshooting.html\n"
      ]
     },
     "execution_count": 59,
     "metadata": {},
     "output_type": "execute_result"
    }
   ],
   "source": [
    "utils.plot_group(imm, OTHER, 7, 'qfimwsk')"
   ]
  },
  {
   "cell_type": "code",
   "execution_count": 73,
   "metadata": {},
   "outputs": [],
   "source": [
    "def duoplot(grp, var):\n",
    "    chart1 = utils.plot_group(imm, grp, 1, var)\n",
    "    chart2 = utils.plot_group(imm, grp, 7, var)\n",
    "    return alt.vconcat(chart1, chart2)"
   ]
  },
  {
   "cell_type": "code",
   "execution_count": 80,
   "metadata": {},
   "outputs": [
    {
     "data": {
      "application/vnd.vegalite.v2+json": {
       "$schema": "https://vega.github.io/schema/vega-lite/v2.6.0.json",
       "config": {
        "view": {
         "height": 300,
         "width": 400
        }
       },
       "datasets": {
        "data-b77adfa02dbcbb78c658f7d133ba7bd3": [
         {
          "cntry": "DK",
          "essrnd": 7,
          "qfimwsk": 0.0805714208018411,
          "response": 0
         },
         {
          "cntry": "DK",
          "essrnd": 7,
          "qfimwsk": 0.024041504658838198,
          "response": 1
         },
         {
          "cntry": "DK",
          "essrnd": 7,
          "qfimwsk": 0.060397722667721414,
          "response": 2
         },
         {
          "cntry": "DK",
          "essrnd": 7,
          "qfimwsk": 0.059955346827308374,
          "response": 3
         },
         {
          "cntry": "DK",
          "essrnd": 7,
          "qfimwsk": 0.03786334878504141,
          "response": 4
         },
         {
          "cntry": "DK",
          "essrnd": 7,
          "qfimwsk": 0.12344061221025165,
          "response": 5
         },
         {
          "cntry": "DK",
          "essrnd": 7,
          "qfimwsk": 0.09451344450764634,
          "response": 6
         },
         {
          "cntry": "DK",
          "essrnd": 7,
          "qfimwsk": 0.13426641070831294,
          "response": 7
         },
         {
          "cntry": "DK",
          "essrnd": 7,
          "qfimwsk": 0.18949961828952866,
          "response": 8
         },
         {
          "cntry": "DK",
          "essrnd": 7,
          "qfimwsk": 0.09279095127839661,
          "response": 9
         },
         {
          "cntry": "DK",
          "essrnd": 7,
          "qfimwsk": 0.0922096878354817,
          "response": 10
         },
         {
          "cntry": "DK",
          "essrnd": 7,
          "qfimwsk": 0.0075415784071586455,
          "response": 88
         },
         {
          "cntry": "DK",
          "essrnd": 7,
          "qfimwsk": 0.0029083530224727266,
          "response": 99
         },
         {
          "cntry": "NO",
          "essrnd": 7,
          "qfimwsk": 0.09547637136658366,
          "response": 0
         },
         {
          "cntry": "NO",
          "essrnd": 7,
          "qfimwsk": 0.02969086404710649,
          "response": 1
         },
         {
          "cntry": "NO",
          "essrnd": 7,
          "qfimwsk": 0.07448172515087122,
          "response": 2
         },
         {
          "cntry": "NO",
          "essrnd": 7,
          "qfimwsk": 0.07691590409453883,
          "response": 3
         },
         {
          "cntry": "NO",
          "essrnd": 7,
          "qfimwsk": 0.06433035903586634,
          "response": 4
         },
         {
          "cntry": "NO",
          "essrnd": 7,
          "qfimwsk": 0.15251149738630526,
          "response": 5
         },
         {
          "cntry": "NO",
          "essrnd": 7,
          "qfimwsk": 0.09400778498384625,
          "response": 6
         },
         {
          "cntry": "NO",
          "essrnd": 7,
          "qfimwsk": 0.122353732837062,
          "response": 7
         },
         {
          "cntry": "NO",
          "essrnd": 7,
          "qfimwsk": 0.16637538305619348,
          "response": 8
         },
         {
          "cntry": "NO",
          "essrnd": 7,
          "qfimwsk": 0.06619537508573346,
          "response": 9
         },
         {
          "cntry": "NO",
          "essrnd": 7,
          "qfimwsk": 0.052239294555860426,
          "response": 10
         },
         {
          "cntry": "NO",
          "essrnd": 7,
          "qfimwsk": 0.005421708400033103,
          "response": 88
         },
         {
          "cntry": "SE",
          "essrnd": 7,
          "qfimwsk": 0.2478586693162473,
          "response": 0
         },
         {
          "cntry": "SE",
          "essrnd": 7,
          "qfimwsk": 0.059266609815750645,
          "response": 1
         },
         {
          "cntry": "SE",
          "essrnd": 7,
          "qfimwsk": 0.08508093144524367,
          "response": 2
         },
         {
          "cntry": "SE",
          "essrnd": 7,
          "qfimwsk": 0.0770061334439119,
          "response": 3
         },
         {
          "cntry": "SE",
          "essrnd": 7,
          "qfimwsk": 0.06837291849651042,
          "response": 4
         },
         {
          "cntry": "SE",
          "essrnd": 7,
          "qfimwsk": 0.13181622304610915,
          "response": 5
         },
         {
          "cntry": "SE",
          "essrnd": 7,
          "qfimwsk": 0.07781559713394437,
          "response": 6
         },
         {
          "cntry": "SE",
          "essrnd": 7,
          "qfimwsk": 0.0919874310297799,
          "response": 7
         },
         {
          "cntry": "SE",
          "essrnd": 7,
          "qfimwsk": 0.07840153951516955,
          "response": 8
         },
         {
          "cntry": "SE",
          "essrnd": 7,
          "qfimwsk": 0.03521812151067186,
          "response": 9
         },
         {
          "cntry": "SE",
          "essrnd": 7,
          "qfimwsk": 0.03481266925657357,
          "response": 10
         },
         {
          "cntry": "SE",
          "essrnd": 7,
          "qfimwsk": 0.0005792547945212562,
          "response": 77
         },
         {
          "cntry": "SE",
          "essrnd": 7,
          "qfimwsk": 0.01178390119556681,
          "response": 88
         }
        ],
        "data-d05ee9f2a62119423ca6bf078416b330": [
         {
          "cntry": "DK",
          "essrnd": 1,
          "qfimwsk": 0.07556253637842236,
          "response": 0
         },
         {
          "cntry": "DK",
          "essrnd": 1,
          "qfimwsk": 0.02405336509469074,
          "response": 1
         },
         {
          "cntry": "DK",
          "essrnd": 1,
          "qfimwsk": 0.0426078387375988,
          "response": 2
         },
         {
          "cntry": "DK",
          "essrnd": 1,
          "qfimwsk": 0.03532883008723411,
          "response": 3
         },
         {
          "cntry": "DK",
          "essrnd": 1,
          "qfimwsk": 0.03658505783760781,
          "response": 4
         },
         {
          "cntry": "DK",
          "essrnd": 1,
          "qfimwsk": 0.10973193375929553,
          "response": 5
         },
         {
          "cntry": "DK",
          "essrnd": 1,
          "qfimwsk": 0.06135538860788582,
          "response": 6
         },
         {
          "cntry": "DK",
          "essrnd": 1,
          "qfimwsk": 0.12159542138033735,
          "response": 7
         },
         {
          "cntry": "DK",
          "essrnd": 1,
          "qfimwsk": 0.21799455647168003,
          "response": 8
         },
         {
          "cntry": "DK",
          "essrnd": 1,
          "qfimwsk": 0.09682951899212144,
          "response": 9
         },
         {
          "cntry": "DK",
          "essrnd": 1,
          "qfimwsk": 0.14259523090430357,
          "response": 10
         },
         {
          "cntry": "DK",
          "essrnd": 1,
          "qfimwsk": 0.021895143389761895,
          "response": 88
         },
         {
          "cntry": "DK",
          "essrnd": 1,
          "qfimwsk": 0.013865178359060532,
          "response": 99
         },
         {
          "cntry": "NO",
          "essrnd": 1,
          "qfimwsk": 0.06247181760448209,
          "response": 0
         },
         {
          "cntry": "NO",
          "essrnd": 1,
          "qfimwsk": 0.030176564908381453,
          "response": 1
         },
         {
          "cntry": "NO",
          "essrnd": 1,
          "qfimwsk": 0.03795598039442493,
          "response": 2
         },
         {
          "cntry": "NO",
          "essrnd": 1,
          "qfimwsk": 0.05884218963538195,
          "response": 3
         },
         {
          "cntry": "NO",
          "essrnd": 1,
          "qfimwsk": 0.05763322780540288,
          "response": 4
         },
         {
          "cntry": "NO",
          "essrnd": 1,
          "qfimwsk": 0.15824793797821654,
          "response": 5
         },
         {
          "cntry": "NO",
          "essrnd": 1,
          "qfimwsk": 0.10104374096073261,
          "response": 6
         },
         {
          "cntry": "NO",
          "essrnd": 1,
          "qfimwsk": 0.16796775871029573,
          "response": 7
         },
         {
          "cntry": "NO",
          "essrnd": 1,
          "qfimwsk": 0.16829956985140856,
          "response": 8
         },
         {
          "cntry": "NO",
          "essrnd": 1,
          "qfimwsk": 0.07075274876083076,
          "response": 9
         },
         {
          "cntry": "NO",
          "essrnd": 1,
          "qfimwsk": 0.0799211095436003,
          "response": 10
         },
         {
          "cntry": "NO",
          "essrnd": 1,
          "qfimwsk": 0.001557544237406429,
          "response": 77
         },
         {
          "cntry": "NO",
          "essrnd": 1,
          "qfimwsk": 0.005129809609435844,
          "response": 88
         },
         {
          "cntry": "SE",
          "essrnd": 1,
          "qfimwsk": 0.16941767953619719,
          "response": 0
         },
         {
          "cntry": "SE",
          "essrnd": 1,
          "qfimwsk": 0.036382605735935804,
          "response": 1
         },
         {
          "cntry": "SE",
          "essrnd": 1,
          "qfimwsk": 0.06495325576949858,
          "response": 2
         },
         {
          "cntry": "SE",
          "essrnd": 1,
          "qfimwsk": 0.0834046594382902,
          "response": 3
         },
         {
          "cntry": "SE",
          "essrnd": 1,
          "qfimwsk": 0.06330838359025885,
          "response": 4
         },
         {
          "cntry": "SE",
          "essrnd": 1,
          "qfimwsk": 0.12320673495380516,
          "response": 5
         },
         {
          "cntry": "SE",
          "essrnd": 1,
          "qfimwsk": 0.06305919141302614,
          "response": 6
         },
         {
          "cntry": "SE",
          "essrnd": 1,
          "qfimwsk": 0.10696157042021408,
          "response": 7
         },
         {
          "cntry": "SE",
          "essrnd": 1,
          "qfimwsk": 0.14450690191637588,
          "response": 8
         },
         {
          "cntry": "SE",
          "essrnd": 1,
          "qfimwsk": 0.05528577744170856,
          "response": 9
         },
         {
          "cntry": "SE",
          "essrnd": 1,
          "qfimwsk": 0.06816874724534698,
          "response": 10
         },
         {
          "cntry": "SE",
          "essrnd": 1,
          "qfimwsk": 0.007016536428872462,
          "response": 77
         },
         {
          "cntry": "SE",
          "essrnd": 1,
          "qfimwsk": 0.013832648254273081,
          "response": 88
         },
         {
          "cntry": "SE",
          "essrnd": 1,
          "qfimwsk": 0.0004953078561964766,
          "response": 99
         }
        ]
       },
       "vconcat": [
        {
         "data": {
          "name": "data-d05ee9f2a62119423ca6bf078416b330"
         },
         "encoding": {
          "color": {
           "field": "response",
           "legend": {
            "title": "Response"
           },
           "scale": {
            "domain": [
             0,
             1,
             2,
             3,
             4,
             5,
             6,
             7,
             8,
             9,
             10,
             77,
             88,
             99
            ],
            "range": [
             "red",
             "indianred",
             "salmon",
             "darkorange",
             "yellow",
             "skyblue",
             "dodgerblue",
             "steelblue",
             "blue",
             "midnightblue",
             "darkmagenta",
             "gray",
             "silver",
             "mistyrose"
            ]
           },
           "type": "ordinal"
          },
          "order": {
           "field": "response",
           "sort": "ascending",
           "type": "quantitative"
          },
          "x": {
           "field": "qfimwsk",
           "scale": {
            "domain": [
             0,
             1
            ]
           },
           "type": "quantitative"
          },
          "y": {
           "field": "cntry",
           "type": "nominal"
          }
         },
         "mark": "bar",
         "title": "Graph of qfimwsk round 1"
        },
        {
         "data": {
          "name": "data-b77adfa02dbcbb78c658f7d133ba7bd3"
         },
         "encoding": {
          "color": {
           "field": "response",
           "legend": {
            "title": "Response"
           },
           "scale": {
            "domain": [
             0,
             1,
             2,
             3,
             4,
             5,
             6,
             7,
             8,
             9,
             10,
             77,
             88,
             99
            ],
            "range": [
             "red",
             "indianred",
             "salmon",
             "darkorange",
             "yellow",
             "skyblue",
             "dodgerblue",
             "steelblue",
             "blue",
             "midnightblue",
             "darkmagenta",
             "gray",
             "silver",
             "mistyrose"
            ]
           },
           "type": "ordinal"
          },
          "order": {
           "field": "response",
           "sort": "ascending",
           "type": "quantitative"
          },
          "x": {
           "field": "qfimwsk",
           "scale": {
            "domain": [
             0,
             1
            ]
           },
           "type": "quantitative"
          },
          "y": {
           "field": "cntry",
           "type": "nominal"
          }
         },
         "mark": "bar",
         "title": "Graph of qfimwsk round 7"
        }
       ]
      },
      "image/png": "[encoded data removed]",
      "text/plain": [
       "<VegaLite 2 object>\n",
       "\n",
       "If you see this message, it means the renderer has not been properly enabled\n",
       "for the frontend that you are using. For more information, see\n",
       "https://altair-viz.github.io/user_guide/troubleshooting.html\n"
      ]
     },
     "execution_count": 80,
     "metadata": {},
     "output_type": "execute_result"
    }
   ],
   "source": [
    "duoplot(NORDIC, \"qfimwsk\")"
   ]
  },
  {
   "cell_type": "code",
   "execution_count": 94,
   "metadata": {},
   "outputs": [
    {
     "data": {
      "application/vnd.vegalite.v2+json": {
       "$schema": "https://vega.github.io/schema/vega-lite/v2.6.0.json",
       "config": {
        "view": {
         "height": 300,
         "width": 400
        }
       },
       "datasets": {
        "data-4b9bf45a5e732a5a0cfc5ff7a6ea617f": [
         {
          "cntry": "PL",
          "eimpcnt": 0.09339478140681473,
          "essrnd": 1,
          "response": 1
         },
         {
          "cntry": "PL",
          "eimpcnt": 0.45625629327919226,
          "essrnd": 1,
          "response": 2
         },
         {
          "cntry": "PL",
          "eimpcnt": 0.324993938606196,
          "essrnd": 1,
          "response": 3
         },
         {
          "cntry": "PL",
          "eimpcnt": 0.05877610412834011,
          "essrnd": 1,
          "response": 4
         },
         {
          "cntry": "PL",
          "eimpcnt": 0.06657888257945743,
          "essrnd": 1,
          "response": 8
         },
         {
          "cntry": "HU",
          "eimpcnt": 0.03592885575920309,
          "essrnd": 1,
          "response": 1
         },
         {
          "cntry": "HU",
          "eimpcnt": 0.11171410946053044,
          "essrnd": 1,
          "response": 2
         },
         {
          "cntry": "HU",
          "eimpcnt": 0.5791124414066435,
          "essrnd": 1,
          "response": 3
         },
         {
          "cntry": "HU",
          "eimpcnt": 0.18448402876143974,
          "essrnd": 1,
          "response": 4
         },
         {
          "cntry": "HU",
          "eimpcnt": 0.08876056461218419,
          "essrnd": 1,
          "response": 8
         },
         {
          "cntry": "CZ",
          "eimpcnt": 0.08110710053143351,
          "essrnd": 1,
          "response": 1
         },
         {
          "cntry": "CZ",
          "eimpcnt": 0.4311555006396119,
          "essrnd": 1,
          "response": 2
         },
         {
          "cntry": "CZ",
          "eimpcnt": 0.3349832331738749,
          "essrnd": 1,
          "response": 3
         },
         {
          "cntry": "CZ",
          "eimpcnt": 0.09449241163027557,
          "essrnd": 1,
          "response": 4
         },
         {
          "cntry": "CZ",
          "eimpcnt": 0.05232751308291827,
          "essrnd": 1,
          "response": 8
         },
         {
          "cntry": "CZ",
          "eimpcnt": 0.005934240941885462,
          "essrnd": 1,
          "response": 9
         }
        ],
        "data-672e9588717fdf48c7c6d6b4a53b3f22": [
         {
          "cntry": "PL",
          "eimpcnt": 0.1566972326428313,
          "essrnd": 7,
          "response": 1
         },
         {
          "cntry": "PL",
          "eimpcnt": 0.4707456477550386,
          "essrnd": 7,
          "response": 2
         },
         {
          "cntry": "PL",
          "eimpcnt": 0.2687858784379624,
          "essrnd": 7,
          "response": 3
         },
         {
          "cntry": "PL",
          "eimpcnt": 0.06617832893932081,
          "essrnd": 7,
          "response": 4
         },
         {
          "cntry": "PL",
          "eimpcnt": 0.037592912224846446,
          "essrnd": 7,
          "response": 8
         },
         {
          "cntry": "HU",
          "eimpcnt": 0.0325835477246671,
          "essrnd": 7,
          "response": 1
         },
         {
          "cntry": "HU",
          "eimpcnt": 0.13804615091689146,
          "essrnd": 7,
          "response": 2
         },
         {
          "cntry": "HU",
          "eimpcnt": 0.4246088984546706,
          "essrnd": 7,
          "response": 3
         },
         {
          "cntry": "HU",
          "eimpcnt": 0.3596019731706299,
          "essrnd": 7,
          "response": 4
         },
         {
          "cntry": "HU",
          "eimpcnt": 0.00694639579823841,
          "essrnd": 7,
          "response": 7
         },
         {
          "cntry": "HU",
          "eimpcnt": 0.03821303393490134,
          "essrnd": 7,
          "response": 8
         },
         {
          "cntry": "CZ",
          "eimpcnt": 1.0000000000000018,
          "essrnd": 7,
          "response": 9
         }
        ]
       },
       "vconcat": [
        {
         "data": {
          "name": "data-4b9bf45a5e732a5a0cfc5ff7a6ea617f"
         },
         "encoding": {
          "color": {
           "field": "response",
           "legend": {
            "title": "Response"
           },
           "scale": {
            "domain": [
             0,
             1,
             2,
             3,
             4,
             5,
             6,
             7,
             8,
             9,
             10,
             77,
             88,
             99
            ],
            "range": [
             "red",
             "indianred",
             "salmon",
             "darkorange",
             "yellow",
             "skyblue",
             "dodgerblue",
             "steelblue",
             "blue",
             "midnightblue",
             "darkmagenta",
             "gray",
             "silver",
             "mistyrose"
            ]
           },
           "type": "ordinal"
          },
          "order": {
           "field": "response",
           "sort": "ascending",
           "type": "quantitative"
          },
          "x": {
           "field": "eimpcnt",
           "scale": {
            "domain": [
             0,
             1
            ]
           },
           "type": "quantitative"
          },
          "y": {
           "field": "cntry",
           "type": "nominal"
          }
         },
         "mark": "bar",
         "title": "Alw many/few from poorer cntrys * 2002 * 1-many, 4-none, 789-ref/dk/na"
        },
        {
         "data": {
          "name": "data-672e9588717fdf48c7c6d6b4a53b3f22"
         },
         "encoding": {
          "color": {
           "field": "response",
           "legend": {
            "title": "Response"
           },
           "scale": {
            "domain": [
             0,
             1,
             2,
             3,
             4,
             5,
             6,
             7,
             8,
             9,
             10,
             77,
             88,
             99
            ],
            "range": [
             "red",
             "indianred",
             "salmon",
             "darkorange",
             "yellow",
             "skyblue",
             "dodgerblue",
             "steelblue",
             "blue",
             "midnightblue",
             "darkmagenta",
             "gray",
             "silver",
             "mistyrose"
            ]
           },
           "type": "ordinal"
          },
          "order": {
           "field": "response",
           "sort": "ascending",
           "type": "quantitative"
          },
          "x": {
           "field": "eimpcnt",
           "scale": {
            "domain": [
             0,
             1
            ]
           },
           "type": "quantitative"
          },
          "y": {
           "field": "cntry",
           "type": "nominal"
          }
         },
         "mark": "bar",
         "title": "Alw many/few from poorer cntrys * 2014 * 1-many, 4-none, 789-ref/dk/na"
        }
       ]
      },
      "image/png": "[encoded data removed]",
      "text/plain": [
       "<VegaLite 2 object>\n",
       "\n",
       "If you see this message, it means the renderer has not been properly enabled\n",
       "for the frontend that you are using. For more information, see\n",
       "https://altair-viz.github.io/user_guide/troubleshooting.html\n"
      ]
     },
     "execution_count": 94,
     "metadata": {},
     "output_type": "execute_result"
    }
   ],
   "source": [
    "duoplot(VISEGRAD, 'eimpcnt')"
   ]
  },
  {
   "cell_type": "code",
   "execution_count": 95,
   "metadata": {},
   "outputs": [],
   "source": [
    "c1 = duoplot(CORE, 'imdetmr')\n",
    "c2 = duoplot(VISEGRAD, 'imdetmr')"
   ]
  },
  {
   "cell_type": "code",
   "execution_count": 96,
   "metadata": {},
   "outputs": [
    {
     "data": {
      "application/vnd.vegalite.v2+json": {
       "$schema": "https://vega.github.io/schema/vega-lite/v2.6.0.json",
       "config": {
        "view": {
         "height": 300,
         "width": 400
        }
       },
       "datasets": {
        "data-05801c9acf035fb3abd2b10f86b300c5": [
         {
          "cntry": "PL",
          "essrnd": 7,
          "imdetmr": 0.3273008393718356,
          "response": 0
         },
         {
          "cntry": "PL",
          "essrnd": 7,
          "imdetmr": 0.11579708115748705,
          "response": 1
         },
         {
          "cntry": "PL",
          "essrnd": 7,
          "imdetmr": 0.0787853179655732,
          "response": 2
         },
         {
          "cntry": "PL",
          "essrnd": 7,
          "imdetmr": 0.06701651135927592,
          "response": 3
         },
         {
          "cntry": "PL",
          "essrnd": 7,
          "imdetmr": 0.04347488426553402,
          "response": 4
         },
         {
          "cntry": "PL",
          "essrnd": 7,
          "imdetmr": 0.12533648359119398,
          "response": 5
         },
         {
          "cntry": "PL",
          "essrnd": 7,
          "imdetmr": 0.03311442299924181,
          "response": 6
         },
         {
          "cntry": "PL",
          "essrnd": 7,
          "imdetmr": 0.03597515333697491,
          "response": 7
         },
         {
          "cntry": "PL",
          "essrnd": 7,
          "imdetmr": 0.03557388525547964,
          "response": 8
         },
         {
          "cntry": "PL",
          "essrnd": 7,
          "imdetmr": 0.025526232580686356,
          "response": 9
         },
         {
          "cntry": "PL",
          "essrnd": 7,
          "imdetmr": 0.05337600537572333,
          "response": 10
         },
         {
          "cntry": "PL",
          "essrnd": 7,
          "imdetmr": 0.055602054974111394,
          "response": 88
         },
         {
          "cntry": "PL",
          "essrnd": 7,
          "imdetmr": 0.0031211277668827895,
          "response": 99
         },
         {
          "cntry": "HU",
          "essrnd": 7,
          "imdetmr": 0.15477917407510305,
          "response": 0
         },
         {
          "cntry": "HU",
          "essrnd": 7,
          "imdetmr": 0.033935319524596066,
          "response": 1
         },
         {
          "cntry": "HU",
          "essrnd": 7,
          "imdetmr": 0.05841141847202474,
          "response": 2
         },
         {
          "cntry": "HU",
          "essrnd": 7,
          "imdetmr": 0.06938613960433025,
          "response": 3
         },
         {
          "cntry": "HU",
          "essrnd": 7,
          "imdetmr": 0.06977196302667764,
          "response": 4
         },
         {
          "cntry": "HU",
          "essrnd": 7,
          "imdetmr": 0.18312368247682628,
          "response": 5
         },
         {
          "cntry": "HU",
          "essrnd": 7,
          "imdetmr": 0.062467687830985504,
          "response": 6
         },
         {
          "cntry": "HU",
          "essrnd": 7,
          "imdetmr": 0.07499798841961568,
          "response": 7
         },
         {
          "cntry": "HU",
          "essrnd": 7,
          "imdetmr": 0.06599381248200663,
          "response": 8
         },
         {
          "cntry": "HU",
          "essrnd": 7,
          "imdetmr": 0.04435790041935665,
          "response": 9
         },
         {
          "cntry": "HU",
          "essrnd": 7,
          "imdetmr": 0.11289062151716343,
          "response": 10
         },
         {
          "cntry": "HU",
          "essrnd": 7,
          "imdetmr": 0.007105032928245927,
          "response": 77
         },
         {
          "cntry": "HU",
          "essrnd": 7,
          "imdetmr": 0.06277925922306839,
          "response": 88
         },
         {
          "cntry": "CZ",
          "essrnd": 7,
          "imdetmr": 0.10208529429274325,
          "response": 0
         },
         {
          "cntry": "CZ",
          "essrnd": 7,
          "imdetmr": 0.03767830197705791,
          "response": 1
         },
         {
          "cntry": "CZ",
          "essrnd": 7,
          "imdetmr": 0.053235707940543046,
          "response": 2
         },
         {
          "cntry": "CZ",
          "essrnd": 7,
          "imdetmr": 0.08588611977675285,
          "response": 3
         },
         {
          "cntry": "CZ",
          "essrnd": 7,
          "imdetmr": 0.06326180516207643,
          "response": 4
         },
         {
          "cntry": "CZ",
          "essrnd": 7,
          "imdetmr": 0.2000880942056071,
          "response": 5
         },
         {
          "cntry": "CZ",
          "essrnd": 7,
          "imdetmr": 0.06875523070029133,
          "response": 6
         },
         {
          "cntry": "CZ",
          "essrnd": 7,
          "imdetmr": 0.08019096637539422,
          "response": 7
         },
         {
          "cntry": "CZ",
          "essrnd": 7,
          "imdetmr": 0.0884454326566045,
          "response": 8
         },
         {
          "cntry": "CZ",
          "essrnd": 7,
          "imdetmr": 0.06253499279573024,
          "response": 9
         },
         {
          "cntry": "CZ",
          "essrnd": 7,
          "imdetmr": 0.11946200298707371,
          "response": 10
         },
         {
          "cntry": "CZ",
          "essrnd": 7,
          "imdetmr": 0.03837605113012536,
          "response": 88
         }
        ],
        "data-56db8fd27c0e60ebb4fd9138717b4b2a": [
         {
          "cntry": "DE",
          "essrnd": 1,
          "imdetmr": 0.3239204229691936,
          "response": 0
         },
         {
          "cntry": "DE",
          "essrnd": 1,
          "imdetmr": 0.07598302214020232,
          "response": 1
         },
         {
          "cntry": "DE",
          "essrnd": 1,
          "imdetmr": 0.09196321203960862,
          "response": 2
         },
         {
          "cntry": "DE",
          "essrnd": 1,
          "imdetmr": 0.0805473009671894,
          "response": 3
         },
         {
          "cntry": "DE",
          "essrnd": 1,
          "imdetmr": 0.05186112399626065,
          "response": 4
         },
         {
          "cntry": "DE",
          "essrnd": 1,
          "imdetmr": 0.12436599029848219,
          "response": 5
         },
         {
          "cntry": "DE",
          "essrnd": 1,
          "imdetmr": 0.04056366192250823,
          "response": 6
         },
         {
          "cntry": "DE",
          "essrnd": 1,
          "imdetmr": 0.04578752429632452,
          "response": 7
         },
         {
          "cntry": "DE",
          "essrnd": 1,
          "imdetmr": 0.05039344478725326,
          "response": 8
         },
         {
          "cntry": "DE",
          "essrnd": 1,
          "imdetmr": 0.029995224333533285,
          "response": 9
         },
         {
          "cntry": "DE",
          "essrnd": 1,
          "imdetmr": 0.05974037004984202,
          "response": 10
         },
         {
          "cntry": "DE",
          "essrnd": 1,
          "imdetmr": 0.0018279377428532272,
          "response": 77
         },
         {
          "cntry": "DE",
          "essrnd": 1,
          "imdetmr": 0.02305076445674898,
          "response": 88
         },
         {
          "cntry": "FR",
          "essrnd": 1,
          "imdetmr": 0.33400574896607776,
          "response": 0
         },
         {
          "cntry": "FR",
          "essrnd": 1,
          "imdetmr": 0.05260311199257669,
          "response": 1
         },
         {
          "cntry": "FR",
          "essrnd": 1,
          "imdetmr": 0.06537318521183769,
          "response": 2
         },
         {
          "cntry": "FR",
          "essrnd": 1,
          "imdetmr": 0.056226636513289296,
          "response": 3
         },
         {
          "cntry": "FR",
          "essrnd": 1,
          "imdetmr": 0.03910241050408142,
          "response": 4
         },
         {
          "cntry": "FR",
          "essrnd": 1,
          "imdetmr": 0.12270882159396541,
          "response": 5
         },
         {
          "cntry": "FR",
          "essrnd": 1,
          "imdetmr": 0.03294668996814664,
          "response": 6
         },
         {
          "cntry": "FR",
          "essrnd": 1,
          "imdetmr": 0.04660496758860469,
          "response": 7
         },
         {
          "cntry": "FR",
          "essrnd": 1,
          "imdetmr": 0.06762745520422961,
          "response": 8
         },
         {
          "cntry": "FR",
          "essrnd": 1,
          "imdetmr": 0.04072290669447831,
          "response": 9
         },
         {
          "cntry": "FR",
          "essrnd": 1,
          "imdetmr": 0.12557761538294349,
          "response": 10
         },
         {
          "cntry": "FR",
          "essrnd": 1,
          "imdetmr": 0.016500450379768983,
          "response": 88
         },
         {
          "cntry": "IT",
          "essrnd": 1,
          "imdetmr": 0.2146604041564986,
          "response": 0
         },
         {
          "cntry": "IT",
          "essrnd": 1,
          "imdetmr": 0.0692404782791333,
          "response": 1
         },
         {
          "cntry": "IT",
          "essrnd": 1,
          "imdetmr": 0.0837028022536449,
          "response": 2
         },
         {
          "cntry": "IT",
          "essrnd": 1,
          "imdetmr": 0.06310934135618641,
          "response": 3
         },
         {
          "cntry": "IT",
          "essrnd": 1,
          "imdetmr": 0.06790809420784148,
          "response": 4
         },
         {
          "cntry": "IT",
          "essrnd": 1,
          "imdetmr": 0.13963447836637902,
          "response": 5
         },
         {
          "cntry": "IT",
          "essrnd": 1,
          "imdetmr": 0.070927218603706,
          "response": 6
         },
         {
          "cntry": "IT",
          "essrnd": 1,
          "imdetmr": 0.057003884275941094,
          "response": 7
         },
         {
          "cntry": "IT",
          "essrnd": 1,
          "imdetmr": 0.057239471740592254,
          "response": 8
         },
         {
          "cntry": "IT",
          "essrnd": 1,
          "imdetmr": 0.057775540638812295,
          "response": 9
         },
         {
          "cntry": "IT",
          "essrnd": 1,
          "imdetmr": 0.053684136102208464,
          "response": 10
         },
         {
          "cntry": "IT",
          "essrnd": 1,
          "imdetmr": 0.06511415001905631,
          "response": 88
         }
        ],
        "data-67810a414a07b1d24c00c64a1dff6f0b": [
         {
          "cntry": "PL",
          "essrnd": 1,
          "imdetmr": 0.3126472136719688,
          "response": 0
         },
         {
          "cntry": "PL",
          "essrnd": 1,
          "imdetmr": 0.11579356175237837,
          "response": 1
         },
         {
          "cntry": "PL",
          "essrnd": 1,
          "imdetmr": 0.07057317976382224,
          "response": 2
         },
         {
          "cntry": "PL",
          "essrnd": 1,
          "imdetmr": 0.05275146555583131,
          "response": 3
         },
         {
          "cntry": "PL",
          "essrnd": 1,
          "imdetmr": 0.04930875152857876,
          "response": 4
         },
         {
          "cntry": "PL",
          "essrnd": 1,
          "imdetmr": 0.09891373923385444,
          "response": 5
         },
         {
          "cntry": "PL",
          "essrnd": 1,
          "imdetmr": 0.04170369990363529,
          "response": 6
         },
         {
          "cntry": "PL",
          "essrnd": 1,
          "imdetmr": 0.042618565402454955,
          "response": 7
         },
         {
          "cntry": "PL",
          "essrnd": 1,
          "imdetmr": 0.04332321320185105,
          "response": 8
         },
         {
          "cntry": "PL",
          "essrnd": 1,
          "imdetmr": 0.028559398757794344,
          "response": 9
         },
         {
          "cntry": "PL",
          "essrnd": 1,
          "imdetmr": 0.08742218641264646,
          "response": 10
         },
         {
          "cntry": "PL",
          "essrnd": 1,
          "imdetmr": 0.05638502481518441,
          "response": 88
         },
         {
          "cntry": "HU",
          "essrnd": 1,
          "imdetmr": 0.32709965954810927,
          "response": 0
         },
         {
          "cntry": "HU",
          "essrnd": 1,
          "imdetmr": 0.10243086514777885,
          "response": 1
         },
         {
          "cntry": "HU",
          "essrnd": 1,
          "imdetmr": 0.06451754965333649,
          "response": 2
         },
         {
          "cntry": "HU",
          "essrnd": 1,
          "imdetmr": 0.06289817957183325,
          "response": 3
         },
         {
          "cntry": "HU",
          "essrnd": 1,
          "imdetmr": 0.05033633443566441,
          "response": 4
         },
         {
          "cntry": "HU",
          "essrnd": 1,
          "imdetmr": 0.11088360263085953,
          "response": 5
         },
         {
          "cntry": "HU",
          "essrnd": 1,
          "imdetmr": 0.02893618901717849,
          "response": 6
         },
         {
          "cntry": "HU",
          "essrnd": 1,
          "imdetmr": 0.02980829858556596,
          "response": 7
         },
         {
          "cntry": "HU",
          "essrnd": 1,
          "imdetmr": 0.041942422252477254,
          "response": 8
         },
         {
          "cntry": "HU",
          "essrnd": 1,
          "imdetmr": 0.02191909488076308,
          "response": 9
         },
         {
          "cntry": "HU",
          "essrnd": 1,
          "imdetmr": 0.09437103365392127,
          "response": 10
         },
         {
          "cntry": "HU",
          "essrnd": 1,
          "imdetmr": 0.06485677062251215,
          "response": 88
         },
         {
          "cntry": "CZ",
          "essrnd": 1,
          "imdetmr": 0.14772893608750592,
          "response": 0
         },
         {
          "cntry": "CZ",
          "essrnd": 1,
          "imdetmr": 0.09624624382253401,
          "response": 1
         },
         {
          "cntry": "CZ",
          "essrnd": 1,
          "imdetmr": 0.06539683153925467,
          "response": 2
         },
         {
          "cntry": "CZ",
          "essrnd": 1,
          "imdetmr": 0.05839415560350727,
          "response": 3
         },
         {
          "cntry": "CZ",
          "essrnd": 1,
          "imdetmr": 0.062976222224404,
          "response": 4
         },
         {
          "cntry": "CZ",
          "essrnd": 1,
          "imdetmr": 0.11268608842707749,
          "response": 5
         },
         {
          "cntry": "CZ",
          "essrnd": 1,
          "imdetmr": 0.06090243706751555,
          "response": 6
         },
         {
          "cntry": "CZ",
          "essrnd": 1,
          "imdetmr": 0.05876991850283546,
          "response": 7
         },
         {
          "cntry": "CZ",
          "essrnd": 1,
          "imdetmr": 0.0773078764036426,
          "response": 8
         },
         {
          "cntry": "CZ",
          "essrnd": 1,
          "imdetmr": 0.08151117152455227,
          "response": 9
         },
         {
          "cntry": "CZ",
          "essrnd": 1,
          "imdetmr": 0.11188833637123283,
          "response": 10
         },
         {
          "cntry": "CZ",
          "essrnd": 1,
          "imdetmr": 0.06050793943707786,
          "response": 88
         },
         {
          "cntry": "CZ",
          "essrnd": 1,
          "imdetmr": 0.005683842988860175,
          "response": 99
         }
        ],
        "data-b29c1595181f554f4a50beebe241168f": [
         {
          "cntry": "DE",
          "essrnd": 7,
          "imdetmr": 0.4638432177126444,
          "response": 0
         },
         {
          "cntry": "DE",
          "essrnd": 7,
          "imdetmr": 0.07970988602033073,
          "response": 1
         },
         {
          "cntry": "DE",
          "essrnd": 7,
          "imdetmr": 0.09792094783181057,
          "response": 2
         },
         {
          "cntry": "DE",
          "essrnd": 7,
          "imdetmr": 0.07981523038525774,
          "response": 3
         },
         {
          "cntry": "DE",
          "essrnd": 7,
          "imdetmr": 0.03748232491103379,
          "response": 4
         },
         {
          "cntry": "DE",
          "essrnd": 7,
          "imdetmr": 0.1095606500200703,
          "response": 5
         },
         {
          "cntry": "DE",
          "essrnd": 7,
          "imdetmr": 0.027194416971228017,
          "response": 6
         },
         {
          "cntry": "DE",
          "essrnd": 7,
          "imdetmr": 0.026187410496046355,
          "response": 7
         },
         {
          "cntry": "DE",
          "essrnd": 7,
          "imdetmr": 0.03449202594845116,
          "response": 8
         },
         {
          "cntry": "DE",
          "essrnd": 7,
          "imdetmr": 0.009117679227621934,
          "response": 9
         },
         {
          "cntry": "DE",
          "essrnd": 7,
          "imdetmr": 0.023310883851727613,
          "response": 10
         },
         {
          "cntry": "DE",
          "essrnd": 7,
          "imdetmr": 0.0016727003104554062,
          "response": 77
         },
         {
          "cntry": "DE",
          "essrnd": 7,
          "imdetmr": 0.00969262631332241,
          "response": 88
         },
         {
          "cntry": "FR",
          "essrnd": 7,
          "imdetmr": 0.3469044075912716,
          "response": 0
         },
         {
          "cntry": "FR",
          "essrnd": 7,
          "imdetmr": 0.08067726169807322,
          "response": 1
         },
         {
          "cntry": "FR",
          "essrnd": 7,
          "imdetmr": 0.0947924923060274,
          "response": 2
         },
         {
          "cntry": "FR",
          "essrnd": 7,
          "imdetmr": 0.09123494952035195,
          "response": 3
         },
         {
          "cntry": "FR",
          "essrnd": 7,
          "imdetmr": 0.04614235854357137,
          "response": 4
         },
         {
          "cntry": "FR",
          "essrnd": 7,
          "imdetmr": 0.1260191922822364,
          "response": 5
         },
         {
          "cntry": "FR",
          "essrnd": 7,
          "imdetmr": 0.04261079373188956,
          "response": 6
         },
         {
          "cntry": "FR",
          "essrnd": 7,
          "imdetmr": 0.04125714347473815,
          "response": 7
         },
         {
          "cntry": "FR",
          "essrnd": 7,
          "imdetmr": 0.055242098107623115,
          "response": 8
         },
         {
          "cntry": "FR",
          "essrnd": 7,
          "imdetmr": 0.029716265554440017,
          "response": 9
         },
         {
          "cntry": "FR",
          "essrnd": 7,
          "imdetmr": 0.03760838196864778,
          "response": 10
         },
         {
          "cntry": "FR",
          "essrnd": 7,
          "imdetmr": 0.0028476336314691678,
          "response": 77
         },
         {
          "cntry": "FR",
          "essrnd": 7,
          "imdetmr": 0.004947021589660088,
          "response": 88
         },
         {
          "cntry": "IT",
          "essrnd": 7,
          "imdetmr": 0,
          "response": 0
         }
        ]
       },
       "hconcat": [
        {
         "vconcat": [
          {
           "data": {
            "name": "data-56db8fd27c0e60ebb4fd9138717b4b2a"
           },
           "encoding": {
            "color": {
             "field": "response",
             "legend": {
              "title": "Response"
             },
             "scale": {
              "domain": [
               0,
               1,
               2,
               3,
               4,
               5,
               6,
               7,
               8,
               9,
               10,
               77,
               88,
               99
              ],
              "range": [
               "red",
               "indianred",
               "salmon",
               "darkorange",
               "yellow",
               "skyblue",
               "dodgerblue",
               "steelblue",
               "blue",
               "midnightblue",
               "darkmagenta",
               "gray",
               "silver",
               "mistyrose"
              ]
             },
             "type": "ordinal"
            },
            "order": {
             "field": "response",
             "sort": "ascending",
             "type": "quantitative"
            },
            "x": {
             "field": "imdetmr",
             "scale": {
              "domain": [
               0,
               1
              ]
             },
             "type": "quantitative"
            },
            "y": {
             "field": "cntry",
             "type": "nominal"
            }
           },
           "mark": "bar",
           "title": "Imm marry close rel * 2002 * 0-dont mind, 9-mind a lot"
          },
          {
           "data": {
            "name": "data-b29c1595181f554f4a50beebe241168f"
           },
           "encoding": {
            "color": {
             "field": "response",
             "legend": {
              "title": "Response"
             },
             "scale": {
              "domain": [
               0,
               1,
               2,
               3,
               4,
               5,
               6,
               7,
               8,
               9,
               10,
               77,
               88,
               99
              ],
              "range": [
               "red",
               "indianred",
               "salmon",
               "darkorange",
               "yellow",
               "skyblue",
               "dodgerblue",
               "steelblue",
               "blue",
               "midnightblue",
               "darkmagenta",
               "gray",
               "silver",
               "mistyrose"
              ]
             },
             "type": "ordinal"
            },
            "order": {
             "field": "response",
             "sort": "ascending",
             "type": "quantitative"
            },
            "x": {
             "field": "imdetmr",
             "scale": {
              "domain": [
               0,
               1
              ]
             },
             "type": "quantitative"
            },
            "y": {
             "field": "cntry",
             "type": "nominal"
            }
           },
           "mark": "bar",
           "title": "Imm marry close rel * 2014 * 0-dont mind, 9-mind a lot"
          }
         ]
        },
        {
         "vconcat": [
          {
           "data": {
            "name": "data-67810a414a07b1d24c00c64a1dff6f0b"
           },
           "encoding": {
            "color": {
             "field": "response",
             "legend": {
              "title": "Response"
             },
             "scale": {
              "domain": [
               0,
               1,
               2,
               3,
               4,
               5,
               6,
               7,
               8,
               9,
               10,
               77,
               88,
               99
              ],
              "range": [
               "red",
               "indianred",
               "salmon",
               "darkorange",
               "yellow",
               "skyblue",
               "dodgerblue",
               "steelblue",
               "blue",
               "midnightblue",
               "darkmagenta",
               "gray",
               "silver",
               "mistyrose"
              ]
             },
             "type": "ordinal"
            },
            "order": {
             "field": "response",
             "sort": "ascending",
             "type": "quantitative"
            },
            "x": {
             "field": "imdetmr",
             "scale": {
              "domain": [
               0,
               1
              ]
             },
             "type": "quantitative"
            },
            "y": {
             "field": "cntry",
             "type": "nominal"
            }
           },
           "mark": "bar",
           "title": "Imm marry close rel * 2002 * 0-dont mind, 9-mind a lot"
          },
          {
           "data": {
            "name": "data-05801c9acf035fb3abd2b10f86b300c5"
           },
           "encoding": {
            "color": {
             "field": "response",
             "legend": {
              "title": "Response"
             },
             "scale": {
              "domain": [
               0,
               1,
               2,
               3,
               4,
               5,
               6,
               7,
               8,
               9,
               10,
               77,
               88,
               99
              ],
              "range": [
               "red",
               "indianred",
               "salmon",
               "darkorange",
               "yellow",
               "skyblue",
               "dodgerblue",
               "steelblue",
               "blue",
               "midnightblue",
               "darkmagenta",
               "gray",
               "silver",
               "mistyrose"
              ]
             },
             "type": "ordinal"
            },
            "order": {
             "field": "response",
             "sort": "ascending",
             "type": "quantitative"
            },
            "x": {
             "field": "imdetmr",
             "scale": {
              "domain": [
               0,
               1
              ]
             },
             "type": "quantitative"
            },
            "y": {
             "field": "cntry",
             "type": "nominal"
            }
           },
           "mark": "bar",
           "title": "Imm marry close rel * 2014 * 0-dont mind, 9-mind a lot"
          }
         ]
        }
       ]
      },
      "image/png": "[encoded data removed]",
      "text/plain": [
       "<VegaLite 2 object>\n",
       "\n",
       "If you see this message, it means the renderer has not been properly enabled\n",
       "for the frontend that you are using. For more information, see\n",
       "https://altair-viz.github.io/user_guide/troubleshooting.html\n"
      ]
     },
     "execution_count": 96,
     "metadata": {},
     "output_type": "execute_result"
    }
   ],
   "source": [
    "c1 | c2"
   ]
  },
  {
   "cell_type": "code",
   "execution_count": 97,
   "metadata": {},
   "outputs": [
    {
     "data": {
      "application/vnd.vegalite.v2+json": {
       "$schema": "https://vega.github.io/schema/vega-lite/v2.6.0.json",
       "config": {
        "view": {
         "height": 300,
         "width": 400
        }
       },
       "datasets": {
        "data-0164ae580d3175b9360f4311cee11b7a": [
         {
          "cntry": "CH",
          "essrnd": 1,
          "imdetmr": 0.3822894599332742,
          "response": 0
         },
         {
          "cntry": "CH",
          "essrnd": 1,
          "imdetmr": 0.07949987555257924,
          "response": 1
         },
         {
          "cntry": "CH",
          "essrnd": 1,
          "imdetmr": 0.1269198983537913,
          "response": 2
         },
         {
          "cntry": "CH",
          "essrnd": 1,
          "imdetmr": 0.0753790163941086,
          "response": 3
         },
         {
          "cntry": "CH",
          "essrnd": 1,
          "imdetmr": 0.05375025980234296,
          "response": 4
         },
         {
          "cntry": "CH",
          "essrnd": 1,
          "imdetmr": 0.08413064361619363,
          "response": 5
         },
         {
          "cntry": "CH",
          "essrnd": 1,
          "imdetmr": 0.042897596825468384,
          "response": 6
         },
         {
          "cntry": "CH",
          "essrnd": 1,
          "imdetmr": 0.042392922851446774,
          "response": 7
         },
         {
          "cntry": "CH",
          "essrnd": 1,
          "imdetmr": 0.04376555804538845,
          "response": 8
         },
         {
          "cntry": "CH",
          "essrnd": 1,
          "imdetmr": 0.02261833293364225,
          "response": 9
         },
         {
          "cntry": "CH",
          "essrnd": 1,
          "imdetmr": 0.024480310550620006,
          "response": 10
         },
         {
          "cntry": "CH",
          "essrnd": 1,
          "imdetmr": 0.021876125141143957,
          "response": 88
         },
         {
          "cntry": "GB",
          "essrnd": 1,
          "imdetmr": 0.29666019922526005,
          "response": 0
         },
         {
          "cntry": "GB",
          "essrnd": 1,
          "imdetmr": 0.0866007483703725,
          "response": 1
         },
         {
          "cntry": "GB",
          "essrnd": 1,
          "imdetmr": 0.10931999116103068,
          "response": 2
         },
         {
          "cntry": "GB",
          "essrnd": 1,
          "imdetmr": 0.08895913583249485,
          "response": 3
         },
         {
          "cntry": "GB",
          "essrnd": 1,
          "imdetmr": 0.05767459333278869,
          "response": 4
         },
         {
          "cntry": "GB",
          "essrnd": 1,
          "imdetmr": 0.1281716642335601,
          "response": 5
         },
         {
          "cntry": "GB",
          "essrnd": 1,
          "imdetmr": 0.042976787243121053,
          "response": 6
         },
         {
          "cntry": "GB",
          "essrnd": 1,
          "imdetmr": 0.04544867041081195,
          "response": 7
         },
         {
          "cntry": "GB",
          "essrnd": 1,
          "imdetmr": 0.04656394000099943,
          "response": 8
         },
         {
          "cntry": "GB",
          "essrnd": 1,
          "imdetmr": 0.028607370370634756,
          "response": 9
         },
         {
          "cntry": "GB",
          "essrnd": 1,
          "imdetmr": 0.05681599967869001,
          "response": 10
         },
         {
          "cntry": "GB",
          "essrnd": 1,
          "imdetmr": 0.002180523651486444,
          "response": 77
         },
         {
          "cntry": "GB",
          "essrnd": 1,
          "imdetmr": 0.010020376488749212,
          "response": 88
         },
         {
          "cntry": "IE",
          "essrnd": 1,
          "imdetmr": 0.27762574731562356,
          "response": 0
         },
         {
          "cntry": "IE",
          "essrnd": 1,
          "imdetmr": 0.10512553990764704,
          "response": 1
         },
         {
          "cntry": "IE",
          "essrnd": 1,
          "imdetmr": 0.09485782422384058,
          "response": 2
         },
         {
          "cntry": "IE",
          "essrnd": 1,
          "imdetmr": 0.06373961150230088,
          "response": 3
         },
         {
          "cntry": "IE",
          "essrnd": 1,
          "imdetmr": 0.05533231076036005,
          "response": 4
         },
         {
          "cntry": "IE",
          "essrnd": 1,
          "imdetmr": 0.11905764292070008,
          "response": 5
         },
         {
          "cntry": "IE",
          "essrnd": 1,
          "imdetmr": 0.03657583081454063,
          "response": 6
         },
         {
          "cntry": "IE",
          "essrnd": 1,
          "imdetmr": 0.04848748083579879,
          "response": 7
         },
         {
          "cntry": "IE",
          "essrnd": 1,
          "imdetmr": 0.04830379686312005,
          "response": 8
         },
         {
          "cntry": "IE",
          "essrnd": 1,
          "imdetmr": 0.03716450443475913,
          "response": 9
         },
         {
          "cntry": "IE",
          "essrnd": 1,
          "imdetmr": 0.07123263016570187,
          "response": 10
         },
         {
          "cntry": "IE",
          "essrnd": 1,
          "imdetmr": 0.03153301829582033,
          "response": 88
         },
         {
          "cntry": "IE",
          "essrnd": 1,
          "imdetmr": 0.010964061959786758,
          "response": 99
         },
         {
          "cntry": "IL",
          "essrnd": 1,
          "imdetmr": 0.1087920991979946,
          "response": 0
         },
         {
          "cntry": "IL",
          "essrnd": 1,
          "imdetmr": 0.07689034140834626,
          "response": 1
         },
         {
          "cntry": "IL",
          "essrnd": 1,
          "imdetmr": 0.044350196855510206,
          "response": 2
         },
         {
          "cntry": "IL",
          "essrnd": 1,
          "imdetmr": 0.044732202550684635,
          "response": 3
         },
         {
          "cntry": "IL",
          "essrnd": 1,
          "imdetmr": 0.028343309332612882,
          "response": 4
         },
         {
          "cntry": "IL",
          "essrnd": 1,
          "imdetmr": 0.07990566624340187,
          "response": 5
         },
         {
          "cntry": "IL",
          "essrnd": 1,
          "imdetmr": 0.039330086493290395,
          "response": 6
         },
         {
          "cntry": "IL",
          "essrnd": 1,
          "imdetmr": 0.048155137259180705,
          "response": 7
         },
         {
          "cntry": "IL",
          "essrnd": 1,
          "imdetmr": 0.06874836275482599,
          "response": 8
         },
         {
          "cntry": "IL",
          "essrnd": 1,
          "imdetmr": 0.07601039299654204,
          "response": 9
         },
         {
          "cntry": "IL",
          "essrnd": 1,
          "imdetmr": 0.3429278871439549,
          "response": 10
         },
         {
          "cntry": "IL",
          "essrnd": 1,
          "imdetmr": 0.037020217397955135,
          "response": 88
         },
         {
          "cntry": "IL",
          "essrnd": 1,
          "imdetmr": 0.004794100365700429,
          "response": 99
         }
        ],
        "data-35cb524cd2f08622d52f91b9cd40eba9": [
         {
          "cntry": "ES",
          "essrnd": 7,
          "imdetmr": 0.47788782150081327,
          "response": 0
         },
         {
          "cntry": "ES",
          "essrnd": 7,
          "imdetmr": 0.0660148938356017,
          "response": 1
         },
         {
          "cntry": "ES",
          "essrnd": 7,
          "imdetmr": 0.06433120830745831,
          "response": 2
         },
         {
          "cntry": "ES",
          "essrnd": 7,
          "imdetmr": 0.052280328124604696,
          "response": 3
         },
         {
          "cntry": "ES",
          "essrnd": 7,
          "imdetmr": 0.041720544486249296,
          "response": 4
         },
         {
          "cntry": "ES",
          "essrnd": 7,
          "imdetmr": 0.09401035724004023,
          "response": 5
         },
         {
          "cntry": "ES",
          "essrnd": 7,
          "imdetmr": 0.025392714055661358,
          "response": 6
         },
         {
          "cntry": "ES",
          "essrnd": 7,
          "imdetmr": 0.033050671523752025,
          "response": 7
         },
         {
          "cntry": "ES",
          "essrnd": 7,
          "imdetmr": 0.034864686063640155,
          "response": 8
         },
         {
          "cntry": "ES",
          "essrnd": 7,
          "imdetmr": 0.01943769089602995,
          "response": 9
         },
         {
          "cntry": "ES",
          "essrnd": 7,
          "imdetmr": 0.041969356484772416,
          "response": 10
         },
         {
          "cntry": "ES",
          "essrnd": 7,
          "imdetmr": 0.004840921617401056,
          "response": 77
         },
         {
          "cntry": "ES",
          "essrnd": 7,
          "imdetmr": 0.04289274507761737,
          "response": 88
         },
         {
          "cntry": "ES",
          "essrnd": 7,
          "imdetmr": 0.0013060607863590696,
          "response": 99
         },
         {
          "cntry": "PT",
          "essrnd": 7,
          "imdetmr": 0.4251554855370997,
          "response": 0
         },
         {
          "cntry": "PT",
          "essrnd": 7,
          "imdetmr": 0.06126861027552646,
          "response": 1
         },
         {
          "cntry": "PT",
          "essrnd": 7,
          "imdetmr": 0.08222456848910474,
          "response": 2
         },
         {
          "cntry": "PT",
          "essrnd": 7,
          "imdetmr": 0.08323377768228582,
          "response": 3
         },
         {
          "cntry": "PT",
          "essrnd": 7,
          "imdetmr": 0.055347498986168205,
          "response": 4
         },
         {
          "cntry": "PT",
          "essrnd": 7,
          "imdetmr": 0.11250540924480305,
          "response": 5
         },
         {
          "cntry": "PT",
          "essrnd": 7,
          "imdetmr": 0.030706457078001247,
          "response": 6
         },
         {
          "cntry": "PT",
          "essrnd": 7,
          "imdetmr": 0.02678559857803247,
          "response": 7
         },
         {
          "cntry": "PT",
          "essrnd": 7,
          "imdetmr": 0.02382212818502363,
          "response": 8
         },
         {
          "cntry": "PT",
          "essrnd": 7,
          "imdetmr": 0.01981446057362972,
          "response": 9
         },
         {
          "cntry": "PT",
          "essrnd": 7,
          "imdetmr": 0.059456749845553825,
          "response": 10
         },
         {
          "cntry": "PT",
          "essrnd": 7,
          "imdetmr": 0.0008409952038587509,
          "response": 77
         },
         {
          "cntry": "PT",
          "essrnd": 7,
          "imdetmr": 0.018838260320912598,
          "response": 88
         },
         {
          "cntry": "GR",
          "essrnd": 7,
          "imdetmr": 0,
          "response": 0
         },
         {
          "cntry": "IT",
          "essrnd": 7,
          "imdetmr": 0,
          "response": 0
         },
         {
          "cntry": "SI",
          "essrnd": 7,
          "imdetmr": 0.4919515775360255,
          "response": 0
         },
         {
          "cntry": "SI",
          "essrnd": 7,
          "imdetmr": 0.08433099667504843,
          "response": 1
         },
         {
          "cntry": "SI",
          "essrnd": 7,
          "imdetmr": 0.06452739499640811,
          "response": 2
         },
         {
          "cntry": "SI",
          "essrnd": 7,
          "imdetmr": 0.05944312307089697,
          "response": 3
         },
         {
          "cntry": "SI",
          "essrnd": 7,
          "imdetmr": 0.036612692852562044,
          "response": 4
         },
         {
          "cntry": "SI",
          "essrnd": 7,
          "imdetmr": 0.11229330064417094,
          "response": 5
         },
         {
          "cntry": "SI",
          "essrnd": 7,
          "imdetmr": 0.02432350881779931,
          "response": 6
         },
         {
          "cntry": "SI",
          "essrnd": 7,
          "imdetmr": 0.019740431969630275,
          "response": 7
         },
         {
          "cntry": "SI",
          "essrnd": 7,
          "imdetmr": 0.02437674945536412,
          "response": 8
         },
         {
          "cntry": "SI",
          "essrnd": 7,
          "imdetmr": 0.014874873908461655,
          "response": 9
         },
         {
          "cntry": "SI",
          "essrnd": 7,
          "imdetmr": 0.03733371704824672,
          "response": 10
         },
         {
          "cntry": "SI",
          "essrnd": 7,
          "imdetmr": 0.02466465949284029,
          "response": 88
         },
         {
          "cntry": "SI",
          "essrnd": 7,
          "imdetmr": 0.005526973532546848,
          "response": 99
         }
        ],
        "data-5757deb2c42a55c18c61f9c2236d4ca6": [
         {
          "cntry": "EE",
          "essrnd": 7,
          "imdetmr": 0.21550186130648558,
          "response": 0
         },
         {
          "cntry": "EE",
          "essrnd": 7,
          "imdetmr": 0.07932576133453052,
          "response": 1
         },
         {
          "cntry": "EE",
          "essrnd": 7,
          "imdetmr": 0.0815063608061325,
          "response": 2
         },
         {
          "cntry": "EE",
          "essrnd": 7,
          "imdetmr": 0.07354038138545432,
          "response": 3
         },
         {
          "cntry": "EE",
          "essrnd": 7,
          "imdetmr": 0.0597205274036333,
          "response": 4
         },
         {
          "cntry": "EE",
          "essrnd": 7,
          "imdetmr": 0.17376833107943548,
          "response": 5
         },
         {
          "cntry": "EE",
          "essrnd": 7,
          "imdetmr": 0.045406258575616025,
          "response": 6
         },
         {
          "cntry": "EE",
          "essrnd": 7,
          "imdetmr": 0.04687409152134469,
          "response": 7
         },
         {
          "cntry": "EE",
          "essrnd": 7,
          "imdetmr": 0.05252756317585745,
          "response": 8
         },
         {
          "cntry": "EE",
          "essrnd": 7,
          "imdetmr": 0.041458483059162166,
          "response": 9
         },
         {
          "cntry": "EE",
          "essrnd": 7,
          "imdetmr": 0.09120502743460515,
          "response": 10
         },
         {
          "cntry": "EE",
          "essrnd": 7,
          "imdetmr": 0.03916535291774183,
          "response": 88
         },
         {
          "cntry": "FI",
          "essrnd": 7,
          "imdetmr": 0.41478121686339786,
          "response": 0
         },
         {
          "cntry": "FI",
          "essrnd": 7,
          "imdetmr": 0.12436368103707274,
          "response": 1
         },
         {
          "cntry": "FI",
          "essrnd": 7,
          "imdetmr": 0.11074684586339038,
          "response": 2
         },
         {
          "cntry": "FI",
          "essrnd": 7,
          "imdetmr": 0.06706611448569746,
          "response": 3
         },
         {
          "cntry": "FI",
          "essrnd": 7,
          "imdetmr": 0.05299364163061444,
          "response": 4
         },
         {
          "cntry": "FI",
          "essrnd": 7,
          "imdetmr": 0.08937653375669216,
          "response": 5
         },
         {
          "cntry": "FI",
          "essrnd": 7,
          "imdetmr": 0.03519775456261313,
          "response": 6
         },
         {
          "cntry": "FI",
          "essrnd": 7,
          "imdetmr": 0.03543602091607201,
          "response": 7
         },
         {
          "cntry": "FI",
          "essrnd": 7,
          "imdetmr": 0.02798600878526578,
          "response": 8
         },
         {
          "cntry": "FI",
          "essrnd": 7,
          "imdetmr": 0.01423690370363802,
          "response": 9
         },
         {
          "cntry": "FI",
          "essrnd": 7,
          "imdetmr": 0.01990843423618005,
          "response": 10
         },
         {
          "cntry": "FI",
          "essrnd": 7,
          "imdetmr": 0.0009032012809052877,
          "response": 77
         },
         {
          "cntry": "FI",
          "essrnd": 7,
          "imdetmr": 0.00700364287845997,
          "response": 88
         },
         {
          "cntry": "LT",
          "essrnd": 7,
          "imdetmr": 0.1364748219570751,
          "response": 0
         },
         {
          "cntry": "LT",
          "essrnd": 7,
          "imdetmr": 0.05147344589814464,
          "response": 1
         },
         {
          "cntry": "LT",
          "essrnd": 7,
          "imdetmr": 0.056018028904031354,
          "response": 2
         },
         {
          "cntry": "LT",
          "essrnd": 7,
          "imdetmr": 0.06829920383693412,
          "response": 3
         },
         {
          "cntry": "LT",
          "essrnd": 7,
          "imdetmr": 0.06799686051463434,
          "response": 4
         },
         {
          "cntry": "LT",
          "essrnd": 7,
          "imdetmr": 0.17321605465781117,
          "response": 5
         },
         {
          "cntry": "LT",
          "essrnd": 7,
          "imdetmr": 0.06657838113681122,
          "response": 6
         },
         {
          "cntry": "LT",
          "essrnd": 7,
          "imdetmr": 0.07814615606378103,
          "response": 7
         },
         {
          "cntry": "LT",
          "essrnd": 7,
          "imdetmr": 0.04455225797200864,
          "response": 8
         },
         {
          "cntry": "LT",
          "essrnd": 7,
          "imdetmr": 0.04246797235273607,
          "response": 9
         },
         {
          "cntry": "LT",
          "essrnd": 7,
          "imdetmr": 0.1019576362299772,
          "response": 10
         },
         {
          "cntry": "LT",
          "essrnd": 7,
          "imdetmr": 0.11281918047605495,
          "response": 88
         }
        ],
        "data-5dee8a03ed80103a7fff8651911eea8c": [
         {
          "cntry": "EE",
          "essrnd": 1,
          "imdetmr": 0,
          "response": 0
         },
         {
          "cntry": "FI",
          "essrnd": 1,
          "imdetmr": 0.2985283279259617,
          "response": 0
         },
         {
          "cntry": "FI",
          "essrnd": 1,
          "imdetmr": 0.09464469305166302,
          "response": 1
         },
         {
          "cntry": "FI",
          "essrnd": 1,
          "imdetmr": 0.1080188522209992,
          "response": 2
         },
         {
          "cntry": "FI",
          "essrnd": 1,
          "imdetmr": 0.09913091643895112,
          "response": 3
         },
         {
          "cntry": "FI",
          "essrnd": 1,
          "imdetmr": 0.048318434222404345,
          "response": 4
         },
         {
          "cntry": "FI",
          "essrnd": 1,
          "imdetmr": 0.09883486478286717,
          "response": 5
         },
         {
          "cntry": "FI",
          "essrnd": 1,
          "imdetmr": 0.04606518073437458,
          "response": 6
         },
         {
          "cntry": "FI",
          "essrnd": 1,
          "imdetmr": 0.05501150787403965,
          "response": 7
         },
         {
          "cntry": "FI",
          "essrnd": 1,
          "imdetmr": 0.04481430785331106,
          "response": 8
         },
         {
          "cntry": "FI",
          "essrnd": 1,
          "imdetmr": 0.03870516207154822,
          "response": 9
         },
         {
          "cntry": "FI",
          "essrnd": 1,
          "imdetmr": 0.0531683354287489,
          "response": 10
         },
         {
          "cntry": "FI",
          "essrnd": 1,
          "imdetmr": 0.0004767661622634981,
          "response": 77
         },
         {
          "cntry": "FI",
          "essrnd": 1,
          "imdetmr": 0.01378284077647328,
          "response": 88
         },
         {
          "cntry": "FI",
          "essrnd": 1,
          "imdetmr": 0.0004998104563941585,
          "response": 99
         },
         {
          "cntry": "LT",
          "essrnd": 1,
          "imdetmr": 0,
          "response": 0
         }
        ],
        "data-afaf719fde9f2990d8b9db87b75287cc": [
         {
          "cntry": "CH",
          "essrnd": 7,
          "imdetmr": 0.4537134891734522,
          "response": 0
         },
         {
          "cntry": "CH",
          "essrnd": 7,
          "imdetmr": 0.07128846307045322,
          "response": 1
         },
         {
          "cntry": "CH",
          "essrnd": 7,
          "imdetmr": 0.11583479697026991,
          "response": 2
         },
         {
          "cntry": "CH",
          "essrnd": 7,
          "imdetmr": 0.08606120495314212,
          "response": 3
         },
         {
          "cntry": "CH",
          "essrnd": 7,
          "imdetmr": 0.04505061380900778,
          "response": 4
         },
         {
          "cntry": "CH",
          "essrnd": 7,
          "imdetmr": 0.09416687595786469,
          "response": 5
         },
         {
          "cntry": "CH",
          "essrnd": 7,
          "imdetmr": 0.029355943864808106,
          "response": 6
         },
         {
          "cntry": "CH",
          "essrnd": 7,
          "imdetmr": 0.03288363646711455,
          "response": 7
         },
         {
          "cntry": "CH",
          "essrnd": 7,
          "imdetmr": 0.02970556760252442,
          "response": 8
         },
         {
          "cntry": "CH",
          "essrnd": 7,
          "imdetmr": 0.012725402754140004,
          "response": 9
         },
         {
          "cntry": "CH",
          "essrnd": 7,
          "imdetmr": 0.021362128089204756,
          "response": 10
         },
         {
          "cntry": "CH",
          "essrnd": 7,
          "imdetmr": 0.007851877288020991,
          "response": 88
         },
         {
          "cntry": "GB",
          "essrnd": 7,
          "imdetmr": 0.4617395432505607,
          "response": 0
         },
         {
          "cntry": "GB",
          "essrnd": 7,
          "imdetmr": 0.07273619694656752,
          "response": 1
         },
         {
          "cntry": "GB",
          "essrnd": 7,
          "imdetmr": 0.09317817917541497,
          "response": 2
         },
         {
          "cntry": "GB",
          "essrnd": 7,
          "imdetmr": 0.0751127993739919,
          "response": 3
         },
         {
          "cntry": "GB",
          "essrnd": 7,
          "imdetmr": 0.045132944460751424,
          "response": 4
         },
         {
          "cntry": "GB",
          "essrnd": 7,
          "imdetmr": 0.11712017209208157,
          "response": 5
         },
         {
          "cntry": "GB",
          "essrnd": 7,
          "imdetmr": 0.038223852270317805,
          "response": 6
         },
         {
          "cntry": "GB",
          "essrnd": 7,
          "imdetmr": 0.028290229241992166,
          "response": 7
         },
         {
          "cntry": "GB",
          "essrnd": 7,
          "imdetmr": 0.025905833674920595,
          "response": 8
         },
         {
          "cntry": "GB",
          "essrnd": 7,
          "imdetmr": 0.010897929148512196,
          "response": 9
         },
         {
          "cntry": "GB",
          "essrnd": 7,
          "imdetmr": 0.027128780606602683,
          "response": 10
         },
         {
          "cntry": "GB",
          "essrnd": 7,
          "imdetmr": 0.0045335397582873865,
          "response": 88
         },
         {
          "cntry": "IE",
          "essrnd": 7,
          "imdetmr": 0.35913907686524893,
          "response": 0
         },
         {
          "cntry": "IE",
          "essrnd": 7,
          "imdetmr": 0.08835544560997201,
          "response": 1
         },
         {
          "cntry": "IE",
          "essrnd": 7,
          "imdetmr": 0.1130475592543622,
          "response": 2
         },
         {
          "cntry": "IE",
          "essrnd": 7,
          "imdetmr": 0.07584705889804477,
          "response": 3
         },
         {
          "cntry": "IE",
          "essrnd": 7,
          "imdetmr": 0.05623879628558594,
          "response": 4
         },
         {
          "cntry": "IE",
          "essrnd": 7,
          "imdetmr": 0.10807163889434303,
          "response": 5
         },
         {
          "cntry": "IE",
          "essrnd": 7,
          "imdetmr": 0.033277697522440496,
          "response": 6
         },
         {
          "cntry": "IE",
          "essrnd": 7,
          "imdetmr": 0.046487989854171546,
          "response": 7
         },
         {
          "cntry": "IE",
          "essrnd": 7,
          "imdetmr": 0.03662043087753985,
          "response": 8
         },
         {
          "cntry": "IE",
          "essrnd": 7,
          "imdetmr": 0.016643835226632386,
          "response": 9
         },
         {
          "cntry": "IE",
          "essrnd": 7,
          "imdetmr": 0.029939912169751084,
          "response": 10
         },
         {
          "cntry": "IE",
          "essrnd": 7,
          "imdetmr": 0.005327878477344006,
          "response": 77
         },
         {
          "cntry": "IE",
          "essrnd": 7,
          "imdetmr": 0.031002680064564577,
          "response": 88
         },
         {
          "cntry": "IL",
          "essrnd": 7,
          "imdetmr": 0.1441268106795533,
          "response": 0
         },
         {
          "cntry": "IL",
          "essrnd": 7,
          "imdetmr": 0.06061063761818598,
          "response": 1
         },
         {
          "cntry": "IL",
          "essrnd": 7,
          "imdetmr": 0.03996502380712219,
          "response": 2
         },
         {
          "cntry": "IL",
          "essrnd": 7,
          "imdetmr": 0.04468894581088786,
          "response": 3
         },
         {
          "cntry": "IL",
          "essrnd": 7,
          "imdetmr": 0.02583108562475824,
          "response": 4
         },
         {
          "cntry": "IL",
          "essrnd": 7,
          "imdetmr": 0.07652161499107252,
          "response": 5
         },
         {
          "cntry": "IL",
          "essrnd": 7,
          "imdetmr": 0.04368096065078879,
          "response": 6
         },
         {
          "cntry": "IL",
          "essrnd": 7,
          "imdetmr": 0.04958544729889362,
          "response": 7
         },
         {
          "cntry": "IL",
          "essrnd": 7,
          "imdetmr": 0.06506879561633669,
          "response": 8
         },
         {
          "cntry": "IL",
          "essrnd": 7,
          "imdetmr": 0.078292959338916,
          "response": 9
         },
         {
          "cntry": "IL",
          "essrnd": 7,
          "imdetmr": 0.32857932335928525,
          "response": 10
         },
         {
          "cntry": "IL",
          "essrnd": 7,
          "imdetmr": 0.04304839520419938,
          "response": 88
         }
        ],
        "data-b10c8903cd7736488bd7573766ba42fa": [
         {
          "cntry": "ES",
          "essrnd": 1,
          "imdetmr": 0.3050516811013875,
          "response": 0
         },
         {
          "cntry": "ES",
          "essrnd": 1,
          "imdetmr": 0.11579293514091478,
          "response": 1
         },
         {
          "cntry": "ES",
          "essrnd": 1,
          "imdetmr": 0.08104237894698407,
          "response": 2
         },
         {
          "cntry": "ES",
          "essrnd": 1,
          "imdetmr": 0.060928727496522325,
          "response": 3
         },
         {
          "cntry": "ES",
          "essrnd": 1,
          "imdetmr": 0.042243877090017784,
          "response": 4
         },
         {
          "cntry": "ES",
          "essrnd": 1,
          "imdetmr": 0.10337532952107305,
          "response": 5
         },
         {
          "cntry": "ES",
          "essrnd": 1,
          "imdetmr": 0.03862248287622624,
          "response": 6
         },
         {
          "cntry": "ES",
          "essrnd": 1,
          "imdetmr": 0.04313480952119415,
          "response": 7
         },
         {
          "cntry": "ES",
          "essrnd": 1,
          "imdetmr": 0.04416023994767946,
          "response": 8
         },
         {
          "cntry": "ES",
          "essrnd": 1,
          "imdetmr": 0.03528706565360288,
          "response": 9
         },
         {
          "cntry": "ES",
          "essrnd": 1,
          "imdetmr": 0.05564411231821913,
          "response": 10
         },
         {
          "cntry": "ES",
          "essrnd": 1,
          "imdetmr": 0.0027906756555078184,
          "response": 77
         },
         {
          "cntry": "ES",
          "essrnd": 1,
          "imdetmr": 0.07192568473067071,
          "response": 88
         },
         {
          "cntry": "PT",
          "essrnd": 1,
          "imdetmr": 0.373593253655885,
          "response": 0
         },
         {
          "cntry": "PT",
          "essrnd": 1,
          "imdetmr": 0.07744376238800403,
          "response": 1
         },
         {
          "cntry": "PT",
          "essrnd": 1,
          "imdetmr": 0.0814851180350565,
          "response": 2
         },
         {
          "cntry": "PT",
          "essrnd": 1,
          "imdetmr": 0.06843126773288394,
          "response": 3
         },
         {
          "cntry": "PT",
          "essrnd": 1,
          "imdetmr": 0.03438718266323591,
          "response": 4
         },
         {
          "cntry": "PT",
          "essrnd": 1,
          "imdetmr": 0.10451975157976591,
          "response": 5
         },
         {
          "cntry": "PT",
          "essrnd": 1,
          "imdetmr": 0.0359945764776773,
          "response": 6
         },
         {
          "cntry": "PT",
          "essrnd": 1,
          "imdetmr": 0.03464491101295858,
          "response": 7
         },
         {
          "cntry": "PT",
          "essrnd": 1,
          "imdetmr": 0.04337675675864512,
          "response": 8
         },
         {
          "cntry": "PT",
          "essrnd": 1,
          "imdetmr": 0.033605256967150506,
          "response": 9
         },
         {
          "cntry": "PT",
          "essrnd": 1,
          "imdetmr": 0.060957365020706866,
          "response": 10
         },
         {
          "cntry": "PT",
          "essrnd": 1,
          "imdetmr": 0.00561648929756707,
          "response": 77
         },
         {
          "cntry": "PT",
          "essrnd": 1,
          "imdetmr": 0.04594430841046295,
          "response": 88
         },
         {
          "cntry": "GR",
          "essrnd": 1,
          "imdetmr": 0.23074467485669042,
          "response": 0
         },
         {
          "cntry": "GR",
          "essrnd": 1,
          "imdetmr": 0.09225185152263893,
          "response": 1
         },
         {
          "cntry": "GR",
          "essrnd": 1,
          "imdetmr": 0.04529947486699888,
          "response": 2
         },
         {
          "cntry": "GR",
          "essrnd": 1,
          "imdetmr": 0.04104758502050343,
          "response": 3
         },
         {
          "cntry": "GR",
          "essrnd": 1,
          "imdetmr": 0.03923422341979932,
          "response": 4
         },
         {
          "cntry": "GR",
          "essrnd": 1,
          "imdetmr": 0.09098627063198304,
          "response": 5
         },
         {
          "cntry": "GR",
          "essrnd": 1,
          "imdetmr": 0.03809465946172241,
          "response": 6
         },
         {
          "cntry": "GR",
          "essrnd": 1,
          "imdetmr": 0.04330408576474166,
          "response": 7
         },
         {
          "cntry": "GR",
          "essrnd": 1,
          "imdetmr": 0.0766352111111079,
          "response": 8
         },
         {
          "cntry": "GR",
          "essrnd": 1,
          "imdetmr": 0.08261202221563889,
          "response": 9
         },
         {
          "cntry": "GR",
          "essrnd": 1,
          "imdetmr": 0.1876809847675199,
          "response": 10
         },
         {
          "cntry": "GR",
          "essrnd": 1,
          "imdetmr": 0.0007740183273866558,
          "response": 77
         },
         {
          "cntry": "GR",
          "essrnd": 1,
          "imdetmr": 0.030819557277085026,
          "response": 88
         },
         {
          "cntry": "GR",
          "essrnd": 1,
          "imdetmr": 0.0005153807561837973,
          "response": 99
         },
         {
          "cntry": "IT",
          "essrnd": 1,
          "imdetmr": 0.2146604041564986,
          "response": 0
         },
         {
          "cntry": "IT",
          "essrnd": 1,
          "imdetmr": 0.0692404782791333,
          "response": 1
         },
         {
          "cntry": "IT",
          "essrnd": 1,
          "imdetmr": 0.0837028022536449,
          "response": 2
         },
         {
          "cntry": "IT",
          "essrnd": 1,
          "imdetmr": 0.06310934135618641,
          "response": 3
         },
         {
          "cntry": "IT",
          "essrnd": 1,
          "imdetmr": 0.06790809420784148,
          "response": 4
         },
         {
          "cntry": "IT",
          "essrnd": 1,
          "imdetmr": 0.13963447836637902,
          "response": 5
         },
         {
          "cntry": "IT",
          "essrnd": 1,
          "imdetmr": 0.070927218603706,
          "response": 6
         },
         {
          "cntry": "IT",
          "essrnd": 1,
          "imdetmr": 0.057003884275941094,
          "response": 7
         },
         {
          "cntry": "IT",
          "essrnd": 1,
          "imdetmr": 0.057239471740592254,
          "response": 8
         },
         {
          "cntry": "IT",
          "essrnd": 1,
          "imdetmr": 0.057775540638812295,
          "response": 9
         },
         {
          "cntry": "IT",
          "essrnd": 1,
          "imdetmr": 0.053684136102208464,
          "response": 10
         },
         {
          "cntry": "IT",
          "essrnd": 1,
          "imdetmr": 0.06511415001905631,
          "response": 88
         },
         {
          "cntry": "SI",
          "essrnd": 1,
          "imdetmr": 0.28652861037689903,
          "response": 0
         },
         {
          "cntry": "SI",
          "essrnd": 1,
          "imdetmr": 0.078716552761529,
          "response": 1
         },
         {
          "cntry": "SI",
          "essrnd": 1,
          "imdetmr": 0.08614236012177463,
          "response": 2
         },
         {
          "cntry": "SI",
          "essrnd": 1,
          "imdetmr": 0.07656190854417798,
          "response": 3
         },
         {
          "cntry": "SI",
          "essrnd": 1,
          "imdetmr": 0.054651984119542085,
          "response": 4
         },
         {
          "cntry": "SI",
          "essrnd": 1,
          "imdetmr": 0.12962861741460477,
          "response": 5
         },
         {
          "cntry": "SI",
          "essrnd": 1,
          "imdetmr": 0.039375830374692354,
          "response": 6
         },
         {
          "cntry": "SI",
          "essrnd": 1,
          "imdetmr": 0.039627952623364666,
          "response": 7
         },
         {
          "cntry": "SI",
          "essrnd": 1,
          "imdetmr": 0.04255015155474104,
          "response": 8
         },
         {
          "cntry": "SI",
          "essrnd": 1,
          "imdetmr": 0.042932696845843166,
          "response": 9
         },
         {
          "cntry": "SI",
          "essrnd": 1,
          "imdetmr": 0.09133999065287125,
          "response": 10
         },
         {
          "cntry": "SI",
          "essrnd": 1,
          "imdetmr": 0.027423141938520725,
          "response": 88
         },
         {
          "cntry": "SI",
          "essrnd": 1,
          "imdetmr": 0.0045202026714380155,
          "response": 99
         }
        ]
       },
       "vconcat": [
        {
         "data": {
          "name": "data-5dee8a03ed80103a7fff8651911eea8c"
         },
         "encoding": {
          "color": {
           "field": "response",
           "legend": {
            "title": "Response"
           },
           "scale": {
            "domain": [
             0,
             1,
             2,
             3,
             4,
             5,
             6,
             7,
             8,
             9,
             10,
             77,
             88,
             99
            ],
            "range": [
             "red",
             "indianred",
             "salmon",
             "darkorange",
             "yellow",
             "skyblue",
             "dodgerblue",
             "steelblue",
             "blue",
             "midnightblue",
             "darkmagenta",
             "gray",
             "silver",
             "mistyrose"
            ]
           },
           "type": "ordinal"
          },
          "order": {
           "field": "response",
           "sort": "ascending",
           "type": "quantitative"
          },
          "x": {
           "field": "imdetmr",
           "scale": {
            "domain": [
             0,
             1
            ]
           },
           "type": "quantitative"
          },
          "y": {
           "field": "cntry",
           "type": "nominal"
          }
         },
         "mark": "bar",
         "title": "Imm marry close rel * 2002 * 0-dont mind, 9-mind a lot"
        },
        {
         "data": {
          "name": "data-5757deb2c42a55c18c61f9c2236d4ca6"
         },
         "encoding": {
          "color": {
           "field": "response",
           "legend": {
            "title": "Response"
           },
           "scale": {
            "domain": [
             0,
             1,
             2,
             3,
             4,
             5,
             6,
             7,
             8,
             9,
             10,
             77,
             88,
             99
            ],
            "range": [
             "red",
             "indianred",
             "salmon",
             "darkorange",
             "yellow",
             "skyblue",
             "dodgerblue",
             "steelblue",
             "blue",
             "midnightblue",
             "darkmagenta",
             "gray",
             "silver",
             "mistyrose"
            ]
           },
           "type": "ordinal"
          },
          "order": {
           "field": "response",
           "sort": "ascending",
           "type": "quantitative"
          },
          "x": {
           "field": "imdetmr",
           "scale": {
            "domain": [
             0,
             1
            ]
           },
           "type": "quantitative"
          },
          "y": {
           "field": "cntry",
           "type": "nominal"
          }
         },
         "mark": "bar",
         "title": "Imm marry close rel * 2014 * 0-dont mind, 9-mind a lot"
        },
        {
         "vconcat": [
          {
           "data": {
            "name": "data-b10c8903cd7736488bd7573766ba42fa"
           },
           "encoding": {
            "color": {
             "field": "response",
             "legend": {
              "title": "Response"
             },
             "scale": {
              "domain": [
               0,
               1,
               2,
               3,
               4,
               5,
               6,
               7,
               8,
               9,
               10,
               77,
               88,
               99
              ],
              "range": [
               "red",
               "indianred",
               "salmon",
               "darkorange",
               "yellow",
               "skyblue",
               "dodgerblue",
               "steelblue",
               "blue",
               "midnightblue",
               "darkmagenta",
               "gray",
               "silver",
               "mistyrose"
              ]
             },
             "type": "ordinal"
            },
            "order": {
             "field": "response",
             "sort": "ascending",
             "type": "quantitative"
            },
            "x": {
             "field": "imdetmr",
             "scale": {
              "domain": [
               0,
               1
              ]
             },
             "type": "quantitative"
            },
            "y": {
             "field": "cntry",
             "type": "nominal"
            }
           },
           "mark": "bar",
           "title": "Imm marry close rel * 2002 * 0-dont mind, 9-mind a lot"
          },
          {
           "data": {
            "name": "data-35cb524cd2f08622d52f91b9cd40eba9"
           },
           "encoding": {
            "color": {
             "field": "response",
             "legend": {
              "title": "Response"
             },
             "scale": {
              "domain": [
               0,
               1,
               2,
               3,
               4,
               5,
               6,
               7,
               8,
               9,
               10,
               77,
               88,
               99
              ],
              "range": [
               "red",
               "indianred",
               "salmon",
               "darkorange",
               "yellow",
               "skyblue",
               "dodgerblue",
               "steelblue",
               "blue",
               "midnightblue",
               "darkmagenta",
               "gray",
               "silver",
               "mistyrose"
              ]
             },
             "type": "ordinal"
            },
            "order": {
             "field": "response",
             "sort": "ascending",
             "type": "quantitative"
            },
            "x": {
             "field": "imdetmr",
             "scale": {
              "domain": [
               0,
               1
              ]
             },
             "type": "quantitative"
            },
            "y": {
             "field": "cntry",
             "type": "nominal"
            }
           },
           "mark": "bar",
           "title": "Imm marry close rel * 2014 * 0-dont mind, 9-mind a lot"
          }
         ]
        },
        {
         "vconcat": [
          {
           "data": {
            "name": "data-0164ae580d3175b9360f4311cee11b7a"
           },
           "encoding": {
            "color": {
             "field": "response",
             "legend": {
              "title": "Response"
             },
             "scale": {
              "domain": [
               0,
               1,
               2,
               3,
               4,
               5,
               6,
               7,
               8,
               9,
               10,
               77,
               88,
               99
              ],
              "range": [
               "red",
               "indianred",
               "salmon",
               "darkorange",
               "yellow",
               "skyblue",
               "dodgerblue",
               "steelblue",
               "blue",
               "midnightblue",
               "darkmagenta",
               "gray",
               "silver",
               "mistyrose"
              ]
             },
             "type": "ordinal"
            },
            "order": {
             "field": "response",
             "sort": "ascending",
             "type": "quantitative"
            },
            "x": {
             "field": "imdetmr",
             "scale": {
              "domain": [
               0,
               1
              ]
             },
             "type": "quantitative"
            },
            "y": {
             "field": "cntry",
             "type": "nominal"
            }
           },
           "mark": "bar",
           "title": "Imm marry close rel * 2002 * 0-dont mind, 9-mind a lot"
          },
          {
           "data": {
            "name": "data-afaf719fde9f2990d8b9db87b75287cc"
           },
           "encoding": {
            "color": {
             "field": "response",
             "legend": {
              "title": "Response"
             },
             "scale": {
              "domain": [
               0,
               1,
               2,
               3,
               4,
               5,
               6,
               7,
               8,
               9,
               10,
               77,
               88,
               99
              ],
              "range": [
               "red",
               "indianred",
               "salmon",
               "darkorange",
               "yellow",
               "skyblue",
               "dodgerblue",
               "steelblue",
               "blue",
               "midnightblue",
               "darkmagenta",
               "gray",
               "silver",
               "mistyrose"
              ]
             },
             "type": "ordinal"
            },
            "order": {
             "field": "response",
             "sort": "ascending",
             "type": "quantitative"
            },
            "x": {
             "field": "imdetmr",
             "scale": {
              "domain": [
               0,
               1
              ]
             },
             "type": "quantitative"
            },
            "y": {
             "field": "cntry",
             "type": "nominal"
            }
           },
           "mark": "bar",
           "title": "Imm marry close rel * 2014 * 0-dont mind, 9-mind a lot"
          }
         ]
        }
       ]
      },
      "image/png": "[encoded data removed]",
      "text/plain": [
       "<VegaLite 2 object>\n",
       "\n",
       "If you see this message, it means the renderer has not been properly enabled\n",
       "for the frontend that you are using. For more information, see\n",
       "https://altair-viz.github.io/user_guide/troubleshooting.html\n"
      ]
     },
     "execution_count": 97,
     "metadata": {},
     "output_type": "execute_result"
    }
   ],
   "source": [
    "c1 = duoplot(BALTIC, 'imdetmr')\n",
    "c2 = duoplot(SOUTH, 'imdetmr')\n",
    "c3 = duoplot(OTHER, 'imdetmr')\n",
    "c1 & c2 & c3"
   ]
  },
  {
   "cell_type": "code",
   "execution_count": null,
   "metadata": {},
   "outputs": [],
   "source": []
  }
 ],
 "metadata": {
  "kernelspec": {
   "display_name": "Python 3",
   "language": "python",
   "name": "python3"
  },
  "language_info": {
   "codemirror_mode": {
    "name": "ipython",
    "version": 3
   },
   "file_extension": ".py",
   "mimetype": "text/x-python",
   "name": "python",
   "nbconvert_exporter": "python",
   "pygments_lexer": "ipython3",
   "version": "3.7.0"
  }
 },
 "nbformat": 4,
 "nbformat_minor": 2
}
